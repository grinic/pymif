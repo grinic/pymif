{
 "cells": [
  {
   "cell_type": "markdown",
   "id": "414b9889-4f79-420d-ae3c-75e007195ae0",
   "metadata": {},
   "source": [
    "# OperaManager Example Notebook"
   ]
  },
  {
   "cell_type": "code",
   "execution_count": 13,
   "id": "c2348794-a7c1-4af8-b48c-a5f664a9ab1d",
   "metadata": {},
   "outputs": [],
   "source": [
    "# --- Imports ---\n",
    "import pymif.microscope_manager as mm\n",
    "import napari\n",
    "import os\n",
    "import time"
   ]
  },
  {
   "cell_type": "code",
   "execution_count": 14,
   "id": "6a1762e9",
   "metadata": {},
   "outputs": [],
   "source": [
    "# --- Set input data path ---\n",
    "main_path = \"/g/mif/people/gritti/code/pymif_test_data\"\n",
    "dataset_name = \"opera/2C-430Z.ome.tiff\"\n",
    "viventis_path = f\"{main_path}/{dataset_name}\"  # Update this to your real path\n"
   ]
  },
  {
   "cell_type": "code",
   "execution_count": 15,
   "id": "722b29ff",
   "metadata": {},
   "outputs": [],
   "source": [
    "# --- Initialize manager ---\n",
    "dataset = mm.OperaManager(path=viventis_path, chunks=(1,1,64,1024,1024))"
   ]
  },
  {
   "cell_type": "code",
   "execution_count": 16,
   "id": "e713e064",
   "metadata": {
    "scrolled": true
   },
   "outputs": [
    {
     "name": "stdout",
     "output_type": "stream",
     "text": [
      "SIZE: [(430, 2160, 4181), (430, 1080, 2090), (430, 540, 1045)]\n",
      "SCALES: [(0.7, 0.285388764949, 0.285388764949), (0.7, 0.570777529898, 0.570914079546301), (0.7, 1.141555059796, 1.141828159092602)]\n",
      "UNITS: ['µm', 'µm', 'µm']\n",
      "TIME_INCREMENT: 1.0\n",
      "TIME_INCREMENT_UNIT: s\n",
      "CHANNEL_NAMES: ['Fluorescein (FITC)', 'Brightfield_copy']\n",
      "CHANNEL_COLORS: [16711935, 8421631]\n",
      "DTYPE: uint16\n",
      "AXES: tczyx\n",
      "CHUNK SIZE: (1, 1, 64, 1024, 1024)\n"
     ]
    }
   ],
   "source": [
    "# --- Show metadata summary ---\n",
    "for i in dataset.metadata:\n",
    "    print(f\"{i.upper()}: {dataset.metadata[i]}\")\n",
    "print(\"CHUNK SIZE:\", dataset.chunks)"
   ]
  },
  {
   "cell_type": "code",
   "execution_count": 17,
   "id": "432b305f-0b3d-4669-b9b6-623916015444",
   "metadata": {},
   "outputs": [
    {
     "data": {
      "text/html": [
       "<table>\n",
       "    <tr>\n",
       "        <td>\n",
       "            <table style=\"border-collapse: collapse;\">\n",
       "                <thead>\n",
       "                    <tr>\n",
       "                        <td> </td>\n",
       "                        <th> Array </th>\n",
       "                        <th> Chunk </th>\n",
       "                    </tr>\n",
       "                </thead>\n",
       "                <tbody>\n",
       "                    \n",
       "                    <tr>\n",
       "                        <th> Bytes </th>\n",
       "                        <td> 14.47 GiB </td>\n",
       "                        <td> 128.00 MiB </td>\n",
       "                    </tr>\n",
       "                    \n",
       "                    <tr>\n",
       "                        <th> Shape </th>\n",
       "                        <td> (1, 2, 430, 2160, 4181) </td>\n",
       "                        <td> (1, 1, 64, 1024, 1024) </td>\n",
       "                    </tr>\n",
       "                    <tr>\n",
       "                        <th> Dask graph </th>\n",
       "                        <td colspan=\"2\"> 210 chunks in 6 graph layers </td>\n",
       "                    </tr>\n",
       "                    <tr>\n",
       "                        <th> Data type </th>\n",
       "                        <td colspan=\"2\"> uint16 numpy.ndarray </td>\n",
       "                    </tr>\n",
       "                </tbody>\n",
       "            </table>\n",
       "        </td>\n",
       "        <td>\n",
       "        <svg width=\"382\" height=\"134\" style=\"stroke:rgb(0,0,0);stroke-width:1\" >\n",
       "\n",
       "  <!-- Horizontal lines -->\n",
       "  <line x1=\"0\" y1=\"0\" x2=\"25\" y2=\"0\" style=\"stroke-width:2\" />\n",
       "  <line x1=\"0\" y1=\"25\" x2=\"25\" y2=\"25\" style=\"stroke-width:2\" />\n",
       "\n",
       "  <!-- Vertical lines -->\n",
       "  <line x1=\"0\" y1=\"0\" x2=\"0\" y2=\"25\" style=\"stroke-width:2\" />\n",
       "  <line x1=\"12\" y1=\"0\" x2=\"12\" y2=\"25\" />\n",
       "  <line x1=\"25\" y1=\"0\" x2=\"25\" y2=\"25\" style=\"stroke-width:2\" />\n",
       "\n",
       "  <!-- Colored Rectangle -->\n",
       "  <polygon points=\"0.0,0.0 25.412616514582485,0.0 25.412616514582485,25.412616514582485 0.0,25.412616514582485\" style=\"fill:#ECB172A0;stroke-width:0\"/>\n",
       "\n",
       "  <!-- Text -->\n",
       "  <text x=\"12.706308\" y=\"45.412617\" font-size=\"1.0rem\" font-weight=\"100\" text-anchor=\"middle\" >2</text>\n",
       "  <text x=\"45.412617\" y=\"12.706308\" font-size=\"1.0rem\" font-weight=\"100\" text-anchor=\"middle\" transform=\"rotate(0,45.412617,12.706308)\">1</text>\n",
       "\n",
       "\n",
       "  <!-- Horizontal lines -->\n",
       "  <line x1=\"95\" y1=\"0\" x2=\"117\" y2=\"22\" style=\"stroke-width:2\" />\n",
       "  <line x1=\"95\" y1=\"29\" x2=\"117\" y2=\"52\" />\n",
       "  <line x1=\"95\" y1=\"58\" x2=\"117\" y2=\"81\" />\n",
       "  <line x1=\"95\" y1=\"61\" x2=\"117\" y2=\"84\" style=\"stroke-width:2\" />\n",
       "\n",
       "  <!-- Vertical lines -->\n",
       "  <line x1=\"95\" y1=\"0\" x2=\"95\" y2=\"61\" style=\"stroke-width:2\" />\n",
       "  <line x1=\"98\" y1=\"3\" x2=\"98\" y2=\"65\" />\n",
       "  <line x1=\"101\" y1=\"6\" x2=\"101\" y2=\"68\" />\n",
       "  <line x1=\"105\" y1=\"10\" x2=\"105\" y2=\"72\" />\n",
       "  <line x1=\"108\" y1=\"13\" x2=\"108\" y2=\"75\" />\n",
       "  <line x1=\"111\" y1=\"16\" x2=\"111\" y2=\"78\" />\n",
       "  <line x1=\"115\" y1=\"20\" x2=\"115\" y2=\"82\" />\n",
       "  <line x1=\"117\" y1=\"22\" x2=\"117\" y2=\"84\" style=\"stroke-width:2\" />\n",
       "\n",
       "  <!-- Colored Rectangle -->\n",
       "  <polygon points=\"95.0,0.0 117.79518379915558,22.795183799155573 117.79518379915558,84.78992190008836 95.0,61.99473810093278\" style=\"fill:#ECB172A0;stroke-width:0\"/>\n",
       "\n",
       "  <!-- Horizontal lines -->\n",
       "  <line x1=\"95\" y1=\"0\" x2=\"215\" y2=\"0\" style=\"stroke-width:2\" />\n",
       "  <line x1=\"98\" y1=\"3\" x2=\"218\" y2=\"3\" />\n",
       "  <line x1=\"101\" y1=\"6\" x2=\"221\" y2=\"6\" />\n",
       "  <line x1=\"105\" y1=\"10\" x2=\"225\" y2=\"10\" />\n",
       "  <line x1=\"108\" y1=\"13\" x2=\"228\" y2=\"13\" />\n",
       "  <line x1=\"111\" y1=\"16\" x2=\"231\" y2=\"16\" />\n",
       "  <line x1=\"115\" y1=\"20\" x2=\"235\" y2=\"20\" />\n",
       "  <line x1=\"117\" y1=\"22\" x2=\"237\" y2=\"22\" style=\"stroke-width:2\" />\n",
       "\n",
       "  <!-- Vertical lines -->\n",
       "  <line x1=\"95\" y1=\"0\" x2=\"117\" y2=\"22\" style=\"stroke-width:2\" />\n",
       "  <line x1=\"124\" y1=\"0\" x2=\"147\" y2=\"22\" />\n",
       "  <line x1=\"153\" y1=\"0\" x2=\"176\" y2=\"22\" />\n",
       "  <line x1=\"183\" y1=\"0\" x2=\"205\" y2=\"22\" />\n",
       "  <line x1=\"212\" y1=\"0\" x2=\"235\" y2=\"22\" />\n",
       "  <line x1=\"215\" y1=\"0\" x2=\"237\" y2=\"22\" style=\"stroke-width:2\" />\n",
       "\n",
       "  <!-- Colored Rectangle -->\n",
       "  <polygon points=\"95.0,0.0 215.0,0.0 237.79518379915558,22.795183799155573 117.79518379915558,22.795183799155573\" style=\"fill:#ECB172A0;stroke-width:0\"/>\n",
       "\n",
       "  <!-- Horizontal lines -->\n",
       "  <line x1=\"117\" y1=\"22\" x2=\"237\" y2=\"22\" style=\"stroke-width:2\" />\n",
       "  <line x1=\"117\" y1=\"52\" x2=\"237\" y2=\"52\" />\n",
       "  <line x1=\"117\" y1=\"81\" x2=\"237\" y2=\"81\" />\n",
       "  <line x1=\"117\" y1=\"84\" x2=\"237\" y2=\"84\" style=\"stroke-width:2\" />\n",
       "\n",
       "  <!-- Vertical lines -->\n",
       "  <line x1=\"117\" y1=\"22\" x2=\"117\" y2=\"84\" style=\"stroke-width:2\" />\n",
       "  <line x1=\"147\" y1=\"22\" x2=\"147\" y2=\"84\" />\n",
       "  <line x1=\"176\" y1=\"22\" x2=\"176\" y2=\"84\" />\n",
       "  <line x1=\"205\" y1=\"22\" x2=\"205\" y2=\"84\" />\n",
       "  <line x1=\"235\" y1=\"22\" x2=\"235\" y2=\"84\" />\n",
       "  <line x1=\"237\" y1=\"22\" x2=\"237\" y2=\"84\" style=\"stroke-width:2\" />\n",
       "\n",
       "  <!-- Colored Rectangle -->\n",
       "  <polygon points=\"117.79518379915558,22.795183799155573 237.79518379915558,22.795183799155573 237.79518379915558,84.78992190008836 117.79518379915558,84.78992190008836\" style=\"fill:#ECB172A0;stroke-width:0\"/>\n",
       "\n",
       "  <!-- Text -->\n",
       "  <text x=\"177.795184\" y=\"104.789922\" font-size=\"1.0rem\" font-weight=\"100\" text-anchor=\"middle\" >4181</text>\n",
       "  <text x=\"257.795184\" y=\"53.792553\" font-size=\"1.0rem\" font-weight=\"100\" text-anchor=\"middle\" transform=\"rotate(-90,257.795184,53.792553)\">2160</text>\n",
       "  <text x=\"96.397592\" y=\"93.392330\" font-size=\"1.0rem\" font-weight=\"100\" text-anchor=\"middle\" transform=\"rotate(45,96.397592,93.392330)\">430</text>\n",
       "</svg>\n",
       "        </td>\n",
       "    </tr>\n",
       "</table>"
      ],
      "text/plain": [
       "dask.array<rechunk-merge, shape=(1, 2, 430, 2160, 4181), dtype=uint16, chunksize=(1, 1, 64, 1024, 1024), chunktype=numpy.ndarray>"
      ]
     },
     "execution_count": 17,
     "metadata": {},
     "output_type": "execute_result"
    }
   ],
   "source": [
    "dataset.data[0]"
   ]
  },
  {
   "cell_type": "code",
   "execution_count": 18,
   "id": "244443a2",
   "metadata": {
    "scrolled": true
   },
   "outputs": [],
   "source": [
    "# --- Visualize in Napari ---\n",
    "# Opens napari with pyramid-aware viewing and color channels\n",
    "# NOT RECOMMENDED FOR VERY LARGE DATASETS!\n",
    "# To visualize lower resolution, build the pyramid and use the start_level argument (last cell).\n",
    "# To visualize the whole dataset at full resolution, convert data into ome-zarr\n",
    "\n",
    "# viewer = dataset.visualize()"
   ]
  },
  {
   "cell_type": "code",
   "execution_count": 7,
   "id": "26134b63-4cdf-4cd0-878e-cf2328d11793",
   "metadata": {
    "scrolled": true
   },
   "outputs": [],
   "source": [
    "# --- Visualize in Napari ---\n",
    "# Opens napari with pyramid-aware viewing and color channels, generate lower resolution and load it into memory\n",
    "viewer = dataset.visualize( start_level = 2, in_memory = True )\n",
    "# NOTE: This fails because the dataset only has 1 resolution layer"
   ]
  },
  {
   "cell_type": "code",
   "execution_count": 9,
   "id": "d93b67df",
   "metadata": {},
   "outputs": [
    {
     "name": "stdout",
     "output_type": "stream",
     "text": [
      "Requested start level 0\n",
      "Resolution layer already available\n"
     ]
    }
   ],
   "source": [
    "# --- Build pyramid if not already ---\n",
    "dataset.build_pyramid(num_levels=7, downscale_factor=2)\n",
    "\n",
    "# --- Optional: Write to OME-Zarr format ---\n",
    "output_zarr_path = f\"{main_path}/opera_2C-430Z.zarr\"\n",
    "dataset.write(output_zarr_path)"
   ]
  },
  {
   "cell_type": "code",
   "execution_count": 10,
   "id": "4734b7c3-e72c-441d-83fb-bb209dd93df7",
   "metadata": {},
   "outputs": [
    {
     "name": "stdout",
     "output_type": "stream",
     "text": [
      "SIZE: [(1, 2, 430, 2160, 4181), (1, 2, 215, 1080, 2091), (1, 2, 108, 540, 1046), (1, 2, 54, 270, 523), (1, 2, 27, 135, 262), (1, 2, 14, 68, 131), (1, 2, 7, 34, 66)]\n",
      "SCALES: [(0.7, 0.285388764949, 0.285388764949), (1.4, 0.570777529898, 0.570777529898), (2.8, 1.141555059796, 1.141555059796), (5.6, 2.283110119592, 2.283110119592), (11.2, 4.566220239184, 4.566220239184), (22.4, 9.132440478368, 9.132440478368), (44.8, 18.264880956736, 18.264880956736)]\n",
      "UNITS: ['µm', 'µm', 'µm']\n",
      "TIME_INCREMENT: 1.0\n",
      "TIME_INCREMENT_UNIT: s\n",
      "CHANNEL_NAMES: ['Fluorescein (FITC)', 'Brightfield_copy']\n",
      "CHANNEL_COLORS: [16711935, 8421631]\n",
      "DTYPE: uint16\n",
      "AXES: tczyx\n",
      "CHUNK SIZE: (1, 1, 64, 1024, 1024)\n"
     ]
    }
   ],
   "source": [
    "# --- Show metadata summary ---\n",
    "for i in dataset.metadata:\n",
    "    print(f\"{i.upper()}: {dataset.metadata[i]}\")\n",
    "print(\"CHUNK SIZE:\", dataset.chunks)"
   ]
  },
  {
   "cell_type": "markdown",
   "id": "b887fe66-21e3-4f0a-a91e-0c9ba2836f8c",
   "metadata": {},
   "source": [
    "# Now we use the ZarrManager to load the new data and display it"
   ]
  },
  {
   "cell_type": "code",
   "execution_count": 19,
   "id": "d3acaba4-c286-4413-b703-57de4a331c1c",
   "metadata": {},
   "outputs": [],
   "source": [
    "input_zarr_path = f\"{main_path}/opera_2C-430Z.zarr\""
   ]
  },
  {
   "cell_type": "code",
   "execution_count": 20,
   "id": "6cc5dc51-1a87-492d-b82b-348436272746",
   "metadata": {},
   "outputs": [],
   "source": [
    "# --- Initialize manager ---\n",
    "# Here, the argument chunks can be used to specify a preferred chunk (Default: (1,1,16,256,256)\n",
    "# Here, we use the same chunks.\n",
    "zarr_dataset = mm.ZarrManager(path=input_zarr_path, chunks=(1,1,64,1024,1024))"
   ]
  },
  {
   "cell_type": "code",
   "execution_count": 22,
   "id": "4ad14438-aa60-47ed-a9a3-552803148b7b",
   "metadata": {},
   "outputs": [
    {
     "name": "stdout",
     "output_type": "stream",
     "text": [
      "SIZE: [(1, 2, 430, 2160, 4181), (1, 2, 215, 1080, 2091), (1, 2, 108, 540, 1046), (1, 2, 54, 270, 523), (1, 2, 27, 135, 262), (1, 2, 14, 68, 131), (1, 2, 7, 34, 66)]\n",
      "SCALES: [(0.7, 0.285388764949, 0.285388764949), (1.4, 0.570777529898, 0.570777529898), (2.8, 1.141555059796, 1.141555059796), (5.6, 2.283110119592, 2.283110119592), (11.2, 4.566220239184, 4.566220239184), (22.4, 9.132440478368, 9.132440478368), (44.8, 18.264880956736, 18.264880956736)]\n",
      "UNITS: ('micrometer', 'micrometer', 'micrometer')\n",
      "TIME_INCREMENT: 1.0\n",
      "TIME_INCREMENT_UNIT: s\n",
      "CHANNEL_NAMES: ['Fluorescein (FITC)', 'Brightfield_copy']\n",
      "CHANNEL_COLORS: [16711935, 8421631]\n",
      "DTYPE: uint16\n",
      "AXES: tczyx\n",
      "CHUNK SIZE: (1, 1, 64, 1024, 1024)\n"
     ]
    }
   ],
   "source": [
    "# --- Show metadata summary ---\n",
    "for i in dataset.metadata:\n",
    "    print(f\"{i.upper()}: {zarr_dataset.metadata[i]}\")\n",
    "print(\"CHUNK SIZE:\", zarr_dataset.chunks)"
   ]
  },
  {
   "cell_type": "code",
   "execution_count": 23,
   "id": "98ddb3a1-34bf-4aee-be06-7544f3846627",
   "metadata": {},
   "outputs": [
    {
     "data": {
      "text/html": [
       "<table>\n",
       "    <tr>\n",
       "        <td>\n",
       "            <table style=\"border-collapse: collapse;\">\n",
       "                <thead>\n",
       "                    <tr>\n",
       "                        <td> </td>\n",
       "                        <th> Array </th>\n",
       "                        <th> Chunk </th>\n",
       "                    </tr>\n",
       "                </thead>\n",
       "                <tbody>\n",
       "                    \n",
       "                    <tr>\n",
       "                        <th> Bytes </th>\n",
       "                        <td> 14.47 GiB </td>\n",
       "                        <td> 128.00 MiB </td>\n",
       "                    </tr>\n",
       "                    \n",
       "                    <tr>\n",
       "                        <th> Shape </th>\n",
       "                        <td> (1, 2, 430, 2160, 4181) </td>\n",
       "                        <td> (1, 1, 64, 1024, 1024) </td>\n",
       "                    </tr>\n",
       "                    <tr>\n",
       "                        <th> Dask graph </th>\n",
       "                        <td colspan=\"2\"> 210 chunks in 2 graph layers </td>\n",
       "                    </tr>\n",
       "                    <tr>\n",
       "                        <th> Data type </th>\n",
       "                        <td colspan=\"2\"> uint16 numpy.ndarray </td>\n",
       "                    </tr>\n",
       "                </tbody>\n",
       "            </table>\n",
       "        </td>\n",
       "        <td>\n",
       "        <svg width=\"382\" height=\"134\" style=\"stroke:rgb(0,0,0);stroke-width:1\" >\n",
       "\n",
       "  <!-- Horizontal lines -->\n",
       "  <line x1=\"0\" y1=\"0\" x2=\"25\" y2=\"0\" style=\"stroke-width:2\" />\n",
       "  <line x1=\"0\" y1=\"25\" x2=\"25\" y2=\"25\" style=\"stroke-width:2\" />\n",
       "\n",
       "  <!-- Vertical lines -->\n",
       "  <line x1=\"0\" y1=\"0\" x2=\"0\" y2=\"25\" style=\"stroke-width:2\" />\n",
       "  <line x1=\"12\" y1=\"0\" x2=\"12\" y2=\"25\" />\n",
       "  <line x1=\"25\" y1=\"0\" x2=\"25\" y2=\"25\" style=\"stroke-width:2\" />\n",
       "\n",
       "  <!-- Colored Rectangle -->\n",
       "  <polygon points=\"0.0,0.0 25.412616514582485,0.0 25.412616514582485,25.412616514582485 0.0,25.412616514582485\" style=\"fill:#ECB172A0;stroke-width:0\"/>\n",
       "\n",
       "  <!-- Text -->\n",
       "  <text x=\"12.706308\" y=\"45.412617\" font-size=\"1.0rem\" font-weight=\"100\" text-anchor=\"middle\" >2</text>\n",
       "  <text x=\"45.412617\" y=\"12.706308\" font-size=\"1.0rem\" font-weight=\"100\" text-anchor=\"middle\" transform=\"rotate(0,45.412617,12.706308)\">1</text>\n",
       "\n",
       "\n",
       "  <!-- Horizontal lines -->\n",
       "  <line x1=\"95\" y1=\"0\" x2=\"117\" y2=\"22\" style=\"stroke-width:2\" />\n",
       "  <line x1=\"95\" y1=\"29\" x2=\"117\" y2=\"52\" />\n",
       "  <line x1=\"95\" y1=\"58\" x2=\"117\" y2=\"81\" />\n",
       "  <line x1=\"95\" y1=\"61\" x2=\"117\" y2=\"84\" style=\"stroke-width:2\" />\n",
       "\n",
       "  <!-- Vertical lines -->\n",
       "  <line x1=\"95\" y1=\"0\" x2=\"95\" y2=\"61\" style=\"stroke-width:2\" />\n",
       "  <line x1=\"98\" y1=\"3\" x2=\"98\" y2=\"65\" />\n",
       "  <line x1=\"101\" y1=\"6\" x2=\"101\" y2=\"68\" />\n",
       "  <line x1=\"105\" y1=\"10\" x2=\"105\" y2=\"72\" />\n",
       "  <line x1=\"108\" y1=\"13\" x2=\"108\" y2=\"75\" />\n",
       "  <line x1=\"111\" y1=\"16\" x2=\"111\" y2=\"78\" />\n",
       "  <line x1=\"115\" y1=\"20\" x2=\"115\" y2=\"82\" />\n",
       "  <line x1=\"117\" y1=\"22\" x2=\"117\" y2=\"84\" style=\"stroke-width:2\" />\n",
       "\n",
       "  <!-- Colored Rectangle -->\n",
       "  <polygon points=\"95.0,0.0 117.79518379915558,22.795183799155573 117.79518379915558,84.78992190008836 95.0,61.99473810093278\" style=\"fill:#ECB172A0;stroke-width:0\"/>\n",
       "\n",
       "  <!-- Horizontal lines -->\n",
       "  <line x1=\"95\" y1=\"0\" x2=\"215\" y2=\"0\" style=\"stroke-width:2\" />\n",
       "  <line x1=\"98\" y1=\"3\" x2=\"218\" y2=\"3\" />\n",
       "  <line x1=\"101\" y1=\"6\" x2=\"221\" y2=\"6\" />\n",
       "  <line x1=\"105\" y1=\"10\" x2=\"225\" y2=\"10\" />\n",
       "  <line x1=\"108\" y1=\"13\" x2=\"228\" y2=\"13\" />\n",
       "  <line x1=\"111\" y1=\"16\" x2=\"231\" y2=\"16\" />\n",
       "  <line x1=\"115\" y1=\"20\" x2=\"235\" y2=\"20\" />\n",
       "  <line x1=\"117\" y1=\"22\" x2=\"237\" y2=\"22\" style=\"stroke-width:2\" />\n",
       "\n",
       "  <!-- Vertical lines -->\n",
       "  <line x1=\"95\" y1=\"0\" x2=\"117\" y2=\"22\" style=\"stroke-width:2\" />\n",
       "  <line x1=\"124\" y1=\"0\" x2=\"147\" y2=\"22\" />\n",
       "  <line x1=\"153\" y1=\"0\" x2=\"176\" y2=\"22\" />\n",
       "  <line x1=\"183\" y1=\"0\" x2=\"205\" y2=\"22\" />\n",
       "  <line x1=\"212\" y1=\"0\" x2=\"235\" y2=\"22\" />\n",
       "  <line x1=\"215\" y1=\"0\" x2=\"237\" y2=\"22\" style=\"stroke-width:2\" />\n",
       "\n",
       "  <!-- Colored Rectangle -->\n",
       "  <polygon points=\"95.0,0.0 215.0,0.0 237.79518379915558,22.795183799155573 117.79518379915558,22.795183799155573\" style=\"fill:#ECB172A0;stroke-width:0\"/>\n",
       "\n",
       "  <!-- Horizontal lines -->\n",
       "  <line x1=\"117\" y1=\"22\" x2=\"237\" y2=\"22\" style=\"stroke-width:2\" />\n",
       "  <line x1=\"117\" y1=\"52\" x2=\"237\" y2=\"52\" />\n",
       "  <line x1=\"117\" y1=\"81\" x2=\"237\" y2=\"81\" />\n",
       "  <line x1=\"117\" y1=\"84\" x2=\"237\" y2=\"84\" style=\"stroke-width:2\" />\n",
       "\n",
       "  <!-- Vertical lines -->\n",
       "  <line x1=\"117\" y1=\"22\" x2=\"117\" y2=\"84\" style=\"stroke-width:2\" />\n",
       "  <line x1=\"147\" y1=\"22\" x2=\"147\" y2=\"84\" />\n",
       "  <line x1=\"176\" y1=\"22\" x2=\"176\" y2=\"84\" />\n",
       "  <line x1=\"205\" y1=\"22\" x2=\"205\" y2=\"84\" />\n",
       "  <line x1=\"235\" y1=\"22\" x2=\"235\" y2=\"84\" />\n",
       "  <line x1=\"237\" y1=\"22\" x2=\"237\" y2=\"84\" style=\"stroke-width:2\" />\n",
       "\n",
       "  <!-- Colored Rectangle -->\n",
       "  <polygon points=\"117.79518379915558,22.795183799155573 237.79518379915558,22.795183799155573 237.79518379915558,84.78992190008836 117.79518379915558,84.78992190008836\" style=\"fill:#ECB172A0;stroke-width:0\"/>\n",
       "\n",
       "  <!-- Text -->\n",
       "  <text x=\"177.795184\" y=\"104.789922\" font-size=\"1.0rem\" font-weight=\"100\" text-anchor=\"middle\" >4181</text>\n",
       "  <text x=\"257.795184\" y=\"53.792553\" font-size=\"1.0rem\" font-weight=\"100\" text-anchor=\"middle\" transform=\"rotate(-90,257.795184,53.792553)\">2160</text>\n",
       "  <text x=\"96.397592\" y=\"93.392330\" font-size=\"1.0rem\" font-weight=\"100\" text-anchor=\"middle\" transform=\"rotate(45,96.397592,93.392330)\">430</text>\n",
       "</svg>\n",
       "        </td>\n",
       "    </tr>\n",
       "</table>"
      ],
      "text/plain": [
       "dask.array<from-zarr, shape=(1, 2, 430, 2160, 4181), dtype=uint16, chunksize=(1, 1, 64, 1024, 1024), chunktype=numpy.ndarray>"
      ]
     },
     "execution_count": 23,
     "metadata": {},
     "output_type": "execute_result"
    }
   ],
   "source": [
    "zarr_dataset.data[0]"
   ]
  },
  {
   "cell_type": "code",
   "execution_count": 24,
   "id": "16f224a7-fa0f-43c3-b762-29b90658583c",
   "metadata": {},
   "outputs": [
    {
     "name": "stdout",
     "output_type": "stream",
     "text": [
      "1.9682822227478027\n"
     ]
    }
   ],
   "source": [
    "# --- Visualize in Napari ---\n",
    "# Opens napari with pyramid-aware viewing and color channels\n",
    "# It reads only the visualizing slice. Faster but not interactive.\n",
    "start = time.time()\n",
    "viewer = zarr_dataset.visualize()\n",
    "print(f\"{time.time()-start}\")"
   ]
  },
  {
   "cell_type": "code",
   "execution_count": 19,
   "id": "5e2fc5b1-7a3b-4385-92de-697ef3bcb3aa",
   "metadata": {},
   "outputs": [
    {
     "name": "stdout",
     "output_type": "stream",
     "text": [
      "12.473992109298706\n"
     ]
    }
   ],
   "source": [
    "start = time.time()\n",
    "viewer = zarr_dataset.visualize(                        \n",
    "                        start_level = 0, \n",
    "                        stop_level = 2, \n",
    "                        in_memory = True \n",
    ")\n",
    "print(f\"{time.time()-start}\")"
   ]
  },
  {
   "cell_type": "code",
   "execution_count": null,
   "id": "ccefc6c3-e5dd-40a4-a3b3-c65206845194",
   "metadata": {},
   "outputs": [],
   "source": []
  }
 ],
 "metadata": {
  "kernelspec": {
   "display_name": "Python 3 (ipykernel)",
   "language": "python",
   "name": "python3"
  },
  "language_info": {
   "codemirror_mode": {
    "name": "ipython",
    "version": 3
   },
   "file_extension": ".py",
   "mimetype": "text/x-python",
   "name": "python",
   "nbconvert_exporter": "python",
   "pygments_lexer": "ipython3",
   "version": "3.10.17"
  }
 },
 "nbformat": 4,
 "nbformat_minor": 5
}

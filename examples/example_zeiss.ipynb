{
 "cells": [
  {
   "cell_type": "markdown",
   "id": "414b9889-4f79-420d-ae3c-75e007195ae0",
   "metadata": {},
   "source": [
    "# ZeissManager Example Notebook"
   ]
  },
  {
   "cell_type": "code",
   "execution_count": null,
   "id": "c2348794-a7c1-4af8-b48c-a5f664a9ab1d",
   "metadata": {},
   "outputs": [],
   "source": [
    "# --- Imports ---\n",
    "import pymif.microscope_manager as mm\n",
    "import napari\n",
    "import os\n",
    "import time\n",
    "from pathlib import Path"
   ]
  },
  {
   "cell_type": "code",
   "execution_count": null,
   "id": "6a1762e9",
   "metadata": {},
   "outputs": [],
   "source": [
    "# --- Set input data path ---\n",
    "main_path = \"../../pymif_test_data/zeiss\"\n",
    "dataset_name = \"2TR-6M-3T-3C-5Z-64YX_stitched.czi\"\n",
    "czi_path = f\"{main_path}/{dataset_name}\"  # Update this to your real path\n"
   ]
  },
  {
   "cell_type": "code",
   "execution_count": null,
   "id": "722b29ff",
   "metadata": {},
   "outputs": [],
   "source": [
    "# --- Initialize manager ---\n",
    "dataset = mm.ZeissManager(path=czi_path, scene_index=1)"
   ]
  },
  {
   "cell_type": "code",
   "execution_count": null,
   "id": "e713e064",
   "metadata": {},
   "outputs": [],
   "source": [
    "# --- Show metadata summary ---\n",
    "for i in dataset.metadata:\n",
    "    print(f\"{i.upper()}: {dataset.metadata[i]}\")\n",
    "print(\"CHUNK SIZE:\", dataset.chunks)"
   ]
  },
  {
   "cell_type": "code",
   "execution_count": null,
   "id": "432b305f-0b3d-4669-b9b6-623916015444",
   "metadata": {},
   "outputs": [],
   "source": [
    "dataset.data[0]"
   ]
  },
  {
   "cell_type": "code",
   "execution_count": null,
   "id": "244443a2",
   "metadata": {
    "scrolled": true
   },
   "outputs": [],
   "source": [
    "# --- Visualize in Napari ---\n",
    "# Opens napari with pyramid-aware viewing and color channels\n",
    "viewer = dataset.visualize()"
   ]
  },
  {
   "cell_type": "code",
   "execution_count": null,
   "id": "26134b63-4cdf-4cd0-878e-cf2328d11793",
   "metadata": {
    "scrolled": true
   },
   "outputs": [],
   "source": [
    "# --- Visualize in Napari ---\n",
    "# Opens napari with pyramid-aware viewing and color channels, generate lower resolution and load it into memory\n",
    "viewer = dataset.visualize( start_level = 2, in_memory = True )\n",
    "# NOTE: This fails because the dataset only has 1 resolution layer"
   ]
  },
  {
   "cell_type": "code",
   "execution_count": null,
   "id": "d93b67df",
   "metadata": {},
   "outputs": [],
   "source": [
    "# --- Build pyramid if not already ---\n",
    "dataset.build_pyramid(num_levels=3, downscale_factor=2)\n",
    "\n",
    "# --- Optional: Write to OME-Zarr format ---\n",
    "output_zarr_path = f\"{main_path}/{Path(dataset_name).stem}_{dataset.scene_name}.zarr\"\n",
    "dataset.to_zarr(output_zarr_path)"
   ]
  },
  {
   "cell_type": "code",
   "execution_count": null,
   "id": "4734b7c3-e72c-441d-83fb-bb209dd93df7",
   "metadata": {},
   "outputs": [],
   "source": [
    "# --- Show metadata summary ---\n",
    "for i in dataset.metadata:\n",
    "    print(f\"{i.upper()}: {dataset.metadata[i]}\")\n",
    "print(\"CHUNK SIZE:\", dataset.chunks)"
   ]
  },
  {
   "cell_type": "markdown",
   "id": "64b1d71e-5f78-4665-80d4-1ba96c33f32f",
   "metadata": {},
   "source": [
    "# Now we use the ZarrManager to load the new data and display it"
   ]
  },
  {
   "cell_type": "code",
   "execution_count": null,
   "id": "15963a2d-4cdb-41ff-897a-ac18e54c9580",
   "metadata": {},
   "outputs": [],
   "source": [
    "input_zarr_path = output_zarr_path"
   ]
  },
  {
   "cell_type": "code",
   "execution_count": null,
   "id": "4bdb1ead-2a3c-467b-b98c-b64f4694743a",
   "metadata": {},
   "outputs": [],
   "source": [
    "# --- Initialize manager ---\n",
    "# Here, the argument chunks can be used to specify a preferred chunk (Default: (1,1,16,256,256)\n",
    "# Here, we use the same chunks.\n",
    "zarr_dataset = mm.ZarrManager(path=input_zarr_path)"
   ]
  },
  {
   "cell_type": "code",
   "execution_count": null,
   "id": "ef6cdfa7-cede-4ee0-8a37-dd227ca78a59",
   "metadata": {},
   "outputs": [],
   "source": [
    "# --- Show metadata summary ---\n",
    "for i in zarr_dataset.metadata:\n",
    "    print(f\"{i.upper()}: {zarr_dataset.metadata[i]}\")\n",
    "print(\"CHUNK SIZE:\", zarr_dataset.chunks)"
   ]
  },
  {
   "cell_type": "code",
   "execution_count": null,
   "id": "302c7d35-31f0-4313-b627-dd7215875674",
   "metadata": {},
   "outputs": [],
   "source": [
    "zarr_dataset.data"
   ]
  },
  {
   "cell_type": "code",
   "execution_count": null,
   "id": "efc08487-c6e9-4e35-89b7-afd5cf53b56f",
   "metadata": {},
   "outputs": [],
   "source": [
    "# --- Visualize in Napari ---\n",
    "# Opens napari with pyramid-aware viewing and color channels\n",
    "# It reads only the visualizing slice. Faster but not interactive.\n",
    "start = time.time()\n",
    "viewer = zarr_dataset.visualize()\n",
    "print(f\"{time.time()-start}\")"
   ]
  },
  {
   "cell_type": "code",
   "execution_count": null,
   "id": "6c6aa9c7-2638-429e-b98a-9eb874351cdc",
   "metadata": {},
   "outputs": [],
   "source": [
    "start = time.time()\n",
    "viewer = zarr_dataset.visualize(                        \n",
    "                        start_level = 0, \n",
    "                        stop_level = 2, \n",
    "                        in_memory = True \n",
    ")\n",
    "print(f\"{time.time()-start}\")"
   ]
  },
  {
   "cell_type": "code",
   "execution_count": null,
   "id": "fb1c9915-77c6-427e-a908-ff89acef72a9",
   "metadata": {},
   "outputs": [],
   "source": []
  }
 ],
 "metadata": {
  "kernelspec": {
   "display_name": "Python 3 (ipykernel)",
   "language": "python",
   "name": "python3"
  },
  "language_info": {
   "codemirror_mode": {
    "name": "ipython",
    "version": 3
   },
   "file_extension": ".py",
   "mimetype": "text/x-python",
   "name": "python",
   "nbconvert_exporter": "python",
   "pygments_lexer": "ipython3",
   "version": "3.10.18"
  }
 },
 "nbformat": 4,
 "nbformat_minor": 5
}

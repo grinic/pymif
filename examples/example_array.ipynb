{
 "cells": [
  {
   "cell_type": "code",
   "execution_count": 1,
   "id": "9b661a73",
   "metadata": {},
   "outputs": [],
   "source": [
    "import sys\n",
    "from pathlib import Path\n",
    "\n",
    "# Set manually based on your repo's structure\n",
    "repo_root = Path.cwd().parent  # or Path.cwd() if you're in the repo root\n",
    "sys.path.append(str(repo_root))"
   ]
  },
  {
   "cell_type": "markdown",
   "id": "414b9889-4f79-420d-ae3c-75e007195ae0",
   "metadata": {},
   "source": [
    "# ArrayManager Example Notebook"
   ]
  },
  {
   "cell_type": "code",
   "execution_count": 2,
   "id": "c2348794-a7c1-4af8-b48c-a5f664a9ab1d",
   "metadata": {},
   "outputs": [],
   "source": [
    "# --- Imports ---\n",
    "import pymif.microscope_manager as mm\n",
    "import napari\n",
    "import os\n",
    "import numpy as np\n",
    "import dask.array as da"
   ]
  },
  {
   "cell_type": "code",
   "execution_count": 3,
   "id": "6233c835-7ecf-425d-88b5-f3c16d7579b7",
   "metadata": {},
   "outputs": [],
   "source": [
    "# Step 1: Create a synthetic 5D image (T, C, Z, Y, X)\n",
    "t, c, z, y, x = 5, 2, 64, 1024, 1024\n",
    "np_data = np.random.randint(0, 5000, size=(t, c, z, y, x), dtype=np.uint16)\n",
    "dask_data = da.from_array(np_data, chunks=(1, 1, 4, 64, 64))"
   ]
  },
  {
   "cell_type": "code",
   "execution_count": 6,
   "id": "fdd38cb7-31f8-44d6-95c0-316071555bc9",
   "metadata": {},
   "outputs": [],
   "source": [
    "# Step 2: Define metadata\n",
    "metadata = {\n",
    "            \"size\": [dask_data.shape],\n",
    "            \"scales\": [(4.0, 0.65, 0.65)],\n",
    "            \"units\": (\"micrometer\", \"micrometer\", \"micrometer\"),\n",
    "            \"time_increment\": 1.0,\n",
    "            \"time_increment_unit\": \"s\",\n",
    "            \"channel_names\": [\"Red\", \"Green\"],\n",
    "            \"channel_colors\": [16711680, 255],\n",
    "            \"dtype\": \"uint16\",\n",
    "            \"axes\": \"tczyx\",\n",
    "        }"
   ]
  },
  {
   "cell_type": "code",
   "execution_count": 7,
   "id": "722b29ff",
   "metadata": {},
   "outputs": [
    {
     "name": "stdout",
     "output_type": "stream",
     "text": [
      "Loaded data shape: (5, 2, 64, 1024, 1024)\n"
     ]
    }
   ],
   "source": [
    "# Step 3: Instantiate ArrayManager\n",
    "dataset = mm.ArrayManager(dask_data, metadata)\n",
    "print(\"Loaded data shape:\", dataset.data[0].shape)"
   ]
  },
  {
   "cell_type": "code",
   "execution_count": 8,
   "id": "e713e064",
   "metadata": {},
   "outputs": [
    {
     "name": "stdout",
     "output_type": "stream",
     "text": [
      "Requested start level 0\n",
      "Resolution layer already available\n",
      "New pyramid levels: [(5, 2, 64, 1024, 1024), (5, 2, 32, 512, 512), (5, 2, 16, 256, 256)]\n"
     ]
    }
   ],
   "source": [
    "# Step 4: Build pyramid (starting from base level)\n",
    "dataset.build_pyramid(num_levels=3)\n",
    "print(\"New pyramid levels:\", [arr.shape for arr in dataset.data])"
   ]
  },
  {
   "cell_type": "code",
   "execution_count": 9,
   "id": "432b305f-0b3d-4669-b9b6-623916015444",
   "metadata": {},
   "outputs": [],
   "source": [
    "# Step 5: Visualize\n",
    "viewer = dataset.visualize()"
   ]
  },
  {
   "cell_type": "code",
   "execution_count": 11,
   "id": "15963a2d-4cdb-41ff-897a-ac18e54c9580",
   "metadata": {},
   "outputs": [
    {
     "name": "stdout",
     "output_type": "stream",
     "text": [
      "✅ Channels reordered to [1, 0]\n",
      "SIZE: [(5, 2, 64, 1024, 1024), (5, 2, 32, 512, 512), (5, 2, 16, 256, 256)]\n",
      "SCALES: [(4.0, 0.65, 0.65), (8.0, 1.3, 1.3), (16.0, 2.6, 2.6)]\n",
      "UNITS: ('micrometer', 'micrometer', 'micrometer')\n",
      "TIME_INCREMENT: 1.0\n",
      "TIME_INCREMENT_UNIT: s\n",
      "CHANNEL_NAMES: ['Green', 'Red']\n",
      "CHANNEL_COLORS: [255, 16711680]\n",
      "DTYPE: uint16\n",
      "AXES: tczyx\n",
      "PLANE_FILES: None\n"
     ]
    }
   ],
   "source": [
    "# Reorder channels\n",
    "dataset.reorder_channels([1,0])\n",
    "# Confirm channels reodered\n",
    "for i in dataset.metadata:\n",
    "    print(f\"{i.upper()}: {dataset.metadata[i]}\")"
   ]
  },
  {
   "cell_type": "code",
   "execution_count": 13,
   "id": "d5d19bf7-b914-4324-930c-f1fa7a2c08d9",
   "metadata": {},
   "outputs": [
    {
     "name": "stdout",
     "output_type": "stream",
     "text": [
      "✅ Updated metadata entry 'channel_names'\n",
      "✅ Updated metadata entry 'time_increment_unit'\n",
      "SIZE: [(5, 2, 64, 1024, 1024), (5, 2, 32, 512, 512), (5, 2, 16, 256, 256)]\n",
      "SCALES: [(4.0, 0.65, 0.65), (8.0, 1.3, 1.3), (16.0, 2.6, 2.6)]\n",
      "UNITS: ('micrometer', 'micrometer', 'micrometer')\n",
      "TIME_INCREMENT: 1.0\n",
      "TIME_INCREMENT_UNIT: m\n",
      "CHANNEL_NAMES: ['Blue', 'Red']\n",
      "CHANNEL_COLORS: [255, 16711680]\n",
      "DTYPE: uint16\n",
      "AXES: tczyx\n",
      "PLANE_FILES: None\n"
     ]
    }
   ],
   "source": [
    "# Change metadata\n",
    "dataset.update_metadata({\n",
    "    \"channel_names\":[\"Blue\", \"Red\"],\n",
    "    \"time_increment_unit\": \"m\",\n",
    "})\n",
    "# Confirm metadata changed\n",
    "for i in dataset.metadata:\n",
    "    print(f\"{i.upper()}: {dataset.metadata[i]}\")"
   ]
  },
  {
   "cell_type": "code",
   "execution_count": null,
   "id": "5d1d8ca5-a38b-41c7-8d05-6113941ea630",
   "metadata": {},
   "outputs": [],
   "source": []
  }
 ],
 "metadata": {
  "kernelspec": {
   "display_name": "Python 3 (ipykernel)",
   "language": "python",
   "name": "python3"
  },
  "language_info": {
   "codemirror_mode": {
    "name": "ipython",
    "version": 3
   },
   "file_extension": ".py",
   "mimetype": "text/x-python",
   "name": "python",
   "nbconvert_exporter": "python",
   "pygments_lexer": "ipython3",
   "version": "3.10.12"
  }
 },
 "nbformat": 4,
 "nbformat_minor": 5
}

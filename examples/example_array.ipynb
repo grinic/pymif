{
 "cells": [
  {
   "cell_type": "markdown",
   "id": "414b9889-4f79-420d-ae3c-75e007195ae0",
   "metadata": {},
   "source": [
    "# ArrayManager Example Notebook"
   ]
  },
  {
   "cell_type": "code",
   "execution_count": null,
   "id": "c2348794-a7c1-4af8-b48c-a5f664a9ab1d",
   "metadata": {},
   "outputs": [],
   "source": [
    "# --- Imports ---\n",
    "import pymif.microscope_manager as mm\n",
    "import napari\n",
    "import os\n",
    "import numpy as np\n",
    "import dask.array as da"
   ]
  },
  {
   "cell_type": "code",
   "execution_count": null,
   "id": "6233c835-7ecf-425d-88b5-f3c16d7579b7",
   "metadata": {},
   "outputs": [],
   "source": [
    "# Step 1: Create a synthetic 5D image (T, C, Z, Y, X)\n",
    "t, c, z, y, x = 10, 2, 512, 2048, 2048\n",
    "np_data = np.random.randint(0, 5000, size=(t, c, z, y, x), dtype=np.uint16)\n",
    "dask_data = da.from_array(np_data, chunks=(1, 1, 1, 1024, 1024))"
   ]
  },
  {
   "cell_type": "code",
   "execution_count": null,
   "id": "fdd38cb7-31f8-44d6-95c0-316071555bc9",
   "metadata": {},
   "outputs": [],
   "source": [
    "# Step 2: Define metadata\n",
    "metadata = {\n",
    "            \"size\": [dask_data.shape],\n",
    "            \"scales\": [(4.0, 0.65, 0.65)],\n",
    "            \"units\": (\"micrometer\", \"micrometer\", \"micrometer\"),\n",
    "            \"time_increment\": 1.0,\n",
    "            \"time_increment_unit\": \"s\",\n",
    "            \"channel_names\": [\"Red\", \"Green\"],\n",
    "            \"channel_colors\": [16711680, 255],\n",
    "            \"dtype\": \"uint16\",\n",
    "            \"axes\": \"tczyx\",\n",
    "        }"
   ]
  },
  {
   "cell_type": "code",
   "execution_count": null,
   "id": "722b29ff",
   "metadata": {},
   "outputs": [],
   "source": [
    "# Step 3: Instantiate ArrayManager\n",
    "dataset = mm.ArrayManager(dask_data, metadata)\n",
    "print(\"Loaded data shape:\", dataset.data[0].shape)"
   ]
  },
  {
   "cell_type": "code",
   "execution_count": null,
   "id": "e713e064",
   "metadata": {},
   "outputs": [],
   "source": [
    "# Step 4: Build pyramid (starting from base level)\n",
    "dataset.build_pyramid(num_levels=3)\n",
    "print(\"New pyramid levels:\", [arr.shape for arr in dataset.data])"
   ]
  },
  {
   "cell_type": "code",
   "execution_count": null,
   "id": "432b305f-0b3d-4669-b9b6-623916015444",
   "metadata": {},
   "outputs": [],
   "source": [
    "# # Step 5 (optional): Visualize\n",
    "# viewer = dataset.visualize()"
   ]
  },
  {
   "cell_type": "code",
   "execution_count": null,
   "id": "15963a2d-4cdb-41ff-897a-ac18e54c9580",
   "metadata": {},
   "outputs": [],
   "source": [
    "# Reorder channels\n",
    "dataset.reorder_channels([1,0])\n",
    "# Confirm channels reodered\n",
    "for i in dataset.metadata:\n",
    "    print(f\"{i.upper()}: {dataset.metadata[i]}\")"
   ]
  },
  {
   "cell_type": "code",
   "execution_count": null,
   "id": "d5d19bf7-b914-4324-930c-f1fa7a2c08d9",
   "metadata": {},
   "outputs": [],
   "source": [
    "# Change metadata\n",
    "dataset.update_metadata({\n",
    "    \"channel_names\":[\"Blue\", \"Red\"],\n",
    "    \"time_increment_unit\": \"m\",\n",
    "})\n",
    "# Confirm metadata changed\n",
    "for i in dataset.metadata:\n",
    "    print(f\"{i.upper()}: {dataset.metadata[i]}\")"
   ]
  },
  {
   "cell_type": "code",
   "execution_count": null,
   "id": "5d1d8ca5-a38b-41c7-8d05-6113941ea630",
   "metadata": {},
   "outputs": [],
   "source": [
    "# Write the data to disk in serial but with some compression\n",
    "import time\n",
    "start = time.time()\n",
    "dataset.to_zarr(\n",
    "    \"/g/mif/people/gritti/code/pymif_test_data/test_array_write_serial_GZIP.zarr\",\n",
    "    compressor = \"GZIP\",\n",
    "    parallelize = False\n",
    ")\n",
    "print(time.time()-start)"
   ]
  },
  {
   "cell_type": "code",
   "execution_count": null,
   "id": "c97baf22-fc48-4951-9e02-fdc08c5820fd",
   "metadata": {},
   "outputs": [],
   "source": [
    "dataset_zarr = mm.ZarrManager(\"/g/mif/people/gritti/code/pymif_test_data/test_array_write_serial.zarr\")"
   ]
  },
  {
   "cell_type": "code",
   "execution_count": null,
   "id": "e74b6984-ad7b-408d-bae3-fdcd6a842c92",
   "metadata": {
    "scrolled": true
   },
   "outputs": [],
   "source": [
    "# Check that writing happens in parallel\n",
    "import time\n",
    "start = time.time()\n",
    "dataset_zarr.write(\n",
    "    \"/g/mif/people/gritti/code/pymif_test_data/test_array_write_resaved_parallel.zarr\",\n",
    "    compressor = None,\n",
    "    parallelize = True\n",
    ")\n",
    "print(time.time()-start)"
   ]
  },
  {
   "cell_type": "code",
   "execution_count": null,
   "id": "3edd0e4f-a36f-4c94-a8fa-72450f29af6f",
   "metadata": {},
   "outputs": [],
   "source": []
  }
 ],
 "metadata": {
  "kernelspec": {
   "display_name": "Python 3 (ipykernel)",
   "language": "python",
   "name": "python3"
  },
  "language_info": {
   "codemirror_mode": {
    "name": "ipython",
    "version": 3
   },
   "file_extension": ".py",
   "mimetype": "text/x-python",
   "name": "python",
   "nbconvert_exporter": "python",
   "pygments_lexer": "ipython3",
   "version": "3.10.18"
  }
 },
 "nbformat": 4,
 "nbformat_minor": 5
}

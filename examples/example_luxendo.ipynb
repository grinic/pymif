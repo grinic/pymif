{
 "cells": [
  {
   "cell_type": "markdown",
   "id": "1ceeb36a-2802-45a0-b34f-3d9ef6e27935",
   "metadata": {},
   "source": [
    "# LuxendoManager Example Notebook"
   ]
  },
  {
   "cell_type": "code",
   "execution_count": null,
   "id": "c98f8df3-cfe1-4ef1-afa7-9fd47bcb06ed",
   "metadata": {},
   "outputs": [],
   "source": [
    "# --- Imports ---\n",
    "import pymif.microscope_manager as mm\n",
    "import napari\n",
    "import os\n",
    "import time"
   ]
  },
  {
   "cell_type": "code",
   "execution_count": null,
   "id": "6a1762e9",
   "metadata": {},
   "outputs": [],
   "source": [
    "# --- Set input data path ---\n",
    "main_path = \"../../pymif_test_data/luxendo\"\n",
    "dataset_name = \"3T_2C_2895Z_2076Y_2860Z\"\n",
    "\n",
    "# main_path = \"/g/mif/common/Data/Z_from_LCS_24-07-16/Coll_Montse/MouseEmbryo_micemetyleneBlue/2022-08-09_132304/processed\"\n",
    "# dataset_name = \"20221108-162726_Task_2_LM_FullRes_C\"\n",
    "\n",
    "# main_path = \"/mif-users/Users/Arias_Adrian/scans_CSL_P21/2400_31573_s\"\n",
    "# dataset_name = \"20250523-105843_Task_1_stitching_1_C\"\n",
    "\n",
    "luxendo_path = f\"{main_path}/{dataset_name}\""
   ]
  },
  {
   "cell_type": "code",
   "execution_count": null,
   "id": "722b29ff",
   "metadata": {},
   "outputs": [],
   "source": [
    "# --- Initialize manager ---\n",
    "# Here, the argument chunks can be used to specify a preferred chunk (Default: (1,1,16,256,256)\n",
    "dataset = mm.LuxendoManager(path=luxendo_path, chunks=(1,1,8,3000,3000))"
   ]
  },
  {
   "cell_type": "code",
   "execution_count": null,
   "id": "e713e064",
   "metadata": {},
   "outputs": [],
   "source": [
    "# --- Show metadata summary ---\n",
    "for i in dataset.metadata:\n",
    "    print(f\"{i.upper()}: {dataset.metadata[i]}\")\n",
    "print(\"CHUNK SIZE:\", dataset.chunks)"
   ]
  },
  {
   "cell_type": "code",
   "execution_count": null,
   "id": "432b305f-0b3d-4669-b9b6-623916015444",
   "metadata": {},
   "outputs": [],
   "source": [
    "dataset.data[0]"
   ]
  },
  {
   "cell_type": "code",
   "execution_count": null,
   "id": "244443a2",
   "metadata": {},
   "outputs": [],
   "source": [
    "# --- Visualize in Napari ---\n",
    "# Opens napari with pyramid-aware viewing and color channels\n",
    "# It reads only the visualizing slice. Faster to open but not interactive.\n",
    "# NOT RECOMMENDED FOR LARGE h5 DATASETS!\n",
    "# To visualize lower resolution, use the next cell.\n",
    "# To visualize the whole dataset at full resolution, convert data into ome-zarr\n",
    "\n",
    "start = time.time()\n",
    "viewer = dataset.visualize()\n",
    "print(f\"{time.time()-start}\")"
   ]
  },
  {
   "cell_type": "code",
   "execution_count": null,
   "id": "26134b63-4cdf-4cd0-878e-cf2328d11793",
   "metadata": {
    "scrolled": true
   },
   "outputs": [],
   "source": [
    "# --- Visualize in Napari ---\n",
    "# Opens napari with pyramid-aware viewing and color channels\n",
    "# The start_level-stop_level options, generate lower resolution layers and load them into memory\n",
    "# NOTE: This works because the dataset has 5 resolution layers\n",
    "# It takes some time because it has to open the files and read the corresponding layers\n",
    "# Best would be to resave the dataset in ome-zarr (see next cell on how to do it)\n",
    "\n",
    "start = time.time()\n",
    "viewer = dataset.visualize( \n",
    "                        start_level = 5, \n",
    "                        stop_level = 6, \n",
    "                        in_memory = True \n",
    "                    )\n",
    "print(f\"{time.time()-start}\")"
   ]
  },
  {
   "cell_type": "code",
   "execution_count": null,
   "id": "d93b67df",
   "metadata": {},
   "outputs": [],
   "source": [
    "# --- Build pyramid if not already ---\n",
    "dataset.build_pyramid(\n",
    "                    num_levels=8, \n",
    "                    downscale_factor=2,\n",
    "                    start_level=0\n",
    "                    )\n",
    "\n",
    "# --- Optional: Write to OME-Zarr format ---\n",
    "output_zarr_path = f\"{main_path}/{dataset_name}.zarr\"\n",
    "dataset.write(output_zarr_path)"
   ]
  },
  {
   "cell_type": "code",
   "execution_count": null,
   "id": "4734b7c3-e72c-441d-83fb-bb209dd93df7",
   "metadata": {},
   "outputs": [],
   "source": [
    "# --- Show metadata summary for updated dataset ---\n",
    "for i in dataset.metadata:\n",
    "    print(f\"{i.upper()}: {dataset.metadata[i]}\")\n",
    "print(\"CHUNK SIZE:\", dataset.chunks)"
   ]
  },
  {
   "cell_type": "code",
   "execution_count": null,
   "id": "5d3bfd87-f604-424c-8509-a88bd45d08d3",
   "metadata": {},
   "outputs": [],
   "source": [
    "dataset.close()"
   ]
  },
  {
   "cell_type": "markdown",
   "id": "c7a85e47-e830-4036-874b-dabd46401000",
   "metadata": {},
   "source": [
    "# Now we use the ZarrManager to load the new data and display it"
   ]
  },
  {
   "cell_type": "code",
   "execution_count": null,
   "id": "db6c9ce8-2e50-43e5-9938-bc267c893e39",
   "metadata": {},
   "outputs": [],
   "source": [
    "input_zarr_path = output_zarr_path"
   ]
  },
  {
   "cell_type": "code",
   "execution_count": null,
   "id": "cda87a56-9754-4a14-b8ee-8359cbdf8e3d",
   "metadata": {},
   "outputs": [],
   "source": [
    "# --- Initialize manager ---\n",
    "# Here, the argument chunks can be used to specify a preferred chunk (Default: (1,1,16,256,256)\n",
    "# Here, we use the same chunks.\n",
    "zarr_dataset = mm.ZarrManager(path=input_zarr_path)#, chunks=(1,1,32,2048,2048))"
   ]
  },
  {
   "cell_type": "code",
   "execution_count": null,
   "id": "77f05b0d-7511-4cce-9d32-8ecd85b3397a",
   "metadata": {},
   "outputs": [],
   "source": [
    "for i in zarr_dataset.metadata:\n",
    "    print(f\"{i.upper()}: {zarr_dataset.metadata[i]}\")\n",
    "print(\"CHUNK SIZE:\", zarr_dataset.chunks)"
   ]
  },
  {
   "cell_type": "code",
   "execution_count": null,
   "id": "203643ce-d9a2-4332-b6c0-acbab346056e",
   "metadata": {},
   "outputs": [],
   "source": [
    "zarr_dataset.data[0]"
   ]
  },
  {
   "cell_type": "code",
   "execution_count": null,
   "id": "f2fd5a3e-6bbc-4efa-bc8e-1692034377a0",
   "metadata": {},
   "outputs": [],
   "source": [
    "# --- Visualize in Napari ---\n",
    "# Opens napari with pyramid-aware viewing and color channels\n",
    "# It reads only the visualizing slice. Faster but not interactive.\n",
    "start = time.time()\n",
    "viewer = zarr_dataset.visualize()\n",
    "print(f\"{time.time()-start}\")"
   ]
  },
  {
   "cell_type": "code",
   "execution_count": null,
   "id": "82586ca7-d5d5-4c99-a1f8-13f1b18ff0a4",
   "metadata": {},
   "outputs": [],
   "source": [
    "start = time.time()\n",
    "# zarr_dataset.data = [level.rechunk((1, 1, 32, 512, 512)) for level in zarr_dataset.data]\n",
    "viewer = zarr_dataset.visualize(                        \n",
    "                        start_level = 0, \n",
    "                        stop_level = 2, \n",
    "                        in_memory = False \n",
    ")\n",
    "print(f\"{time.time()-start}\")"
   ]
  },
  {
   "cell_type": "code",
   "execution_count": null,
   "id": "f64824b5-420c-4537-8a69-226479db45eb",
   "metadata": {},
   "outputs": [],
   "source": []
  }
 ],
 "metadata": {
  "kernelspec": {
   "display_name": "Python 3 (ipykernel)",
   "language": "python",
   "name": "python3"
  },
  "language_info": {
   "codemirror_mode": {
    "name": "ipython",
    "version": 3
   },
   "file_extension": ".py",
   "mimetype": "text/x-python",
   "name": "python",
   "nbconvert_exporter": "python",
   "pygments_lexer": "ipython3",
   "version": "3.10.17"
  }
 },
 "nbformat": 4,
 "nbformat_minor": 5
}

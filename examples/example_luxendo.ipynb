{
 "cells": [
  {
   "cell_type": "markdown",
   "id": "1ceeb36a-2802-45a0-b34f-3d9ef6e27935",
   "metadata": {},
   "source": [
    "# LuxendoManager Example Notebook"
   ]
  },
  {
   "cell_type": "code",
   "execution_count": 1,
   "id": "c98f8df3-cfe1-4ef1-afa7-9fd47bcb06ed",
   "metadata": {},
   "outputs": [],
   "source": [
    "# --- Imports ---\n",
    "import pymif.microscope_manager as mm\n",
    "import napari\n",
    "import os\n",
    "import time"
   ]
  },
  {
   "cell_type": "code",
   "execution_count": 2,
   "id": "6a1762e9",
   "metadata": {},
   "outputs": [],
   "source": [
    "# --- Set input data path ---\n",
    "main_path = \"../../pymif_test_data/luxendo\"\n",
    "dataset_name = \"3T_2C_2895Z_2076Y_2860Z\"\n",
    "\n",
    "# main_path = \"/g/mif/common/Data/Z_from_LCS_24-07-16/Coll_Montse/MouseEmbryo_micemetyleneBlue/2022-08-09_132304/processed\"\n",
    "# dataset_name = \"20221108-162726_Task_2_LM_FullRes_C\"\n",
    "\n",
    "# main_path = \"/mif-users/Users/Arias_Adrian/scans_CSL_P21/2400_31573_s\"\n",
    "# dataset_name = \"20250523-105843_Task_1_stitching_1_C\"\n",
    "\n",
    "luxendo_path = f\"{main_path}/{dataset_name}\""
   ]
  },
  {
   "cell_type": "code",
   "execution_count": 3,
   "id": "722b29ff",
   "metadata": {},
   "outputs": [],
   "source": [
    "# --- Initialize manager ---\n",
    "# Here, the argument chunks can be used to specify a preferred chunk (Default: (1,1,16,256,256)\n",
    "dataset = mm.LuxendoManager(path=luxendo_path)#, chunks=(1,1,8,3000,3000))"
   ]
  },
  {
   "cell_type": "code",
   "execution_count": 4,
   "id": "e713e064",
   "metadata": {},
   "outputs": [
    {
     "name": "stdout",
     "output_type": "stream",
     "text": [
      "SIZE: [(3, 2, 2895, 2076, 2860), (3, 2, 1472, 1056, 1440), (3, 2, 736, 544, 736), (3, 2, 384, 288, 384), (3, 2, 192, 160, 192)]\n",
      "SCALES: [(0.39000002, 0.39000002, 0.39000002), (0.78000004, 0.78000004, 0.78000004), (1.56000008, 1.56000008, 1.56000008), (3.12000016, 3.12000016, 3.12000016), (6.24000032, 6.24000032, 6.24000032)]\n",
      "UNITS: ('micrometer', 'micrometer', 'micrometer')\n",
      "TIME_INCREMENT: 1.0\n",
      "TIME_INCREMENT_UNIT: s\n",
      "CHANNEL_NAMES: ['ch:0', 'ch:1']\n",
      "CHANNEL_COLORS: [16711680, 255]\n",
      "DTYPE: uint16\n",
      "PLANE_FILES: None\n",
      "AXES: tczyx\n",
      "CHUNK SIZE: (1, 1, 16, 256, 256)\n"
     ]
    }
   ],
   "source": [
    "# --- Show metadata summary ---\n",
    "for i in dataset.metadata:\n",
    "    print(f\"{i.upper()}: {dataset.metadata[i]}\")\n",
    "print(\"CHUNK SIZE:\", dataset.chunks)"
   ]
  },
  {
   "cell_type": "code",
   "execution_count": 5,
   "id": "432b305f-0b3d-4669-b9b6-623916015444",
   "metadata": {},
   "outputs": [
    {
     "data": {
      "text/html": [
       "<table>\n",
       "    <tr>\n",
       "        <td>\n",
       "            <table style=\"border-collapse: collapse;\">\n",
       "                <thead>\n",
       "                    <tr>\n",
       "                        <td> </td>\n",
       "                        <th> Array </th>\n",
       "                        <th> Chunk </th>\n",
       "                    </tr>\n",
       "                </thead>\n",
       "                <tbody>\n",
       "                    \n",
       "                    <tr>\n",
       "                        <th> Bytes </th>\n",
       "                        <td> 192.10 GiB </td>\n",
       "                        <td> 2.00 MiB </td>\n",
       "                    </tr>\n",
       "                    \n",
       "                    <tr>\n",
       "                        <th> Shape </th>\n",
       "                        <td> (3, 2, 2895, 2076, 2860) </td>\n",
       "                        <td> (1, 1, 16, 256, 256) </td>\n",
       "                    </tr>\n",
       "                    <tr>\n",
       "                        <th> Dask graph </th>\n",
       "                        <td colspan=\"2\"> 117288 chunks in 16 graph layers </td>\n",
       "                    </tr>\n",
       "                    <tr>\n",
       "                        <th> Data type </th>\n",
       "                        <td colspan=\"2\"> uint16 numpy.ndarray </td>\n",
       "                    </tr>\n",
       "                </tbody>\n",
       "            </table>\n",
       "        </td>\n",
       "        <td>\n",
       "        <svg width=\"429\" height=\"206\" style=\"stroke:rgb(0,0,0);stroke-width:1\" >\n",
       "\n",
       "  <!-- Horizontal lines -->\n",
       "  <line x1=\"0\" y1=\"0\" x2=\"25\" y2=\"0\" style=\"stroke-width:2\" />\n",
       "  <line x1=\"0\" y1=\"8\" x2=\"25\" y2=\"8\" />\n",
       "  <line x1=\"0\" y1=\"16\" x2=\"25\" y2=\"16\" />\n",
       "  <line x1=\"0\" y1=\"25\" x2=\"25\" y2=\"25\" style=\"stroke-width:2\" />\n",
       "\n",
       "  <!-- Vertical lines -->\n",
       "  <line x1=\"0\" y1=\"0\" x2=\"0\" y2=\"25\" style=\"stroke-width:2\" />\n",
       "  <line x1=\"12\" y1=\"0\" x2=\"12\" y2=\"25\" />\n",
       "  <line x1=\"25\" y1=\"0\" x2=\"25\" y2=\"25\" style=\"stroke-width:2\" />\n",
       "\n",
       "  <!-- Colored Rectangle -->\n",
       "  <polygon points=\"0.0,0.0 25.412616514582485,0.0 25.412616514582485,25.412616514582485 0.0,25.412616514582485\" style=\"fill:#ECB172A0;stroke-width:0\"/>\n",
       "\n",
       "  <!-- Text -->\n",
       "  <text x=\"12.706308\" y=\"45.412617\" font-size=\"1.0rem\" font-weight=\"100\" text-anchor=\"middle\" >2</text>\n",
       "  <text x=\"45.412617\" y=\"12.706308\" font-size=\"1.0rem\" font-weight=\"100\" text-anchor=\"middle\" transform=\"rotate(0,45.412617,12.706308)\">3</text>\n",
       "\n",
       "\n",
       "  <!-- Horizontal lines -->\n",
       "  <line x1=\"95\" y1=\"0\" x2=\"165\" y2=\"70\" style=\"stroke-width:2\" />\n",
       "  <line x1=\"95\" y1=\"10\" x2=\"165\" y2=\"81\" />\n",
       "  <line x1=\"95\" y1=\"21\" x2=\"165\" y2=\"91\" />\n",
       "  <line x1=\"95\" y1=\"31\" x2=\"165\" y2=\"102\" />\n",
       "  <line x1=\"95\" y1=\"42\" x2=\"165\" y2=\"113\" />\n",
       "  <line x1=\"95\" y1=\"53\" x2=\"165\" y2=\"123\" />\n",
       "  <line x1=\"95\" y1=\"63\" x2=\"165\" y2=\"134\" />\n",
       "  <line x1=\"95\" y1=\"74\" x2=\"165\" y2=\"144\" />\n",
       "  <line x1=\"95\" y1=\"84\" x2=\"165\" y2=\"155\" />\n",
       "  <line x1=\"95\" y1=\"86\" x2=\"165\" y2=\"156\" style=\"stroke-width:2\" />\n",
       "\n",
       "  <!-- Vertical lines -->\n",
       "  <line x1=\"95\" y1=\"0\" x2=\"95\" y2=\"86\" style=\"stroke-width:2\" />\n",
       "  <line x1=\"96\" y1=\"1\" x2=\"96\" y2=\"88\" />\n",
       "  <line x1=\"99\" y1=\"4\" x2=\"99\" y2=\"90\" />\n",
       "  <line x1=\"101\" y1=\"6\" x2=\"101\" y2=\"92\" />\n",
       "  <line x1=\"103\" y1=\"8\" x2=\"103\" y2=\"94\" />\n",
       "  <line x1=\"105\" y1=\"10\" x2=\"105\" y2=\"96\" />\n",
       "  <line x1=\"107\" y1=\"12\" x2=\"107\" y2=\"98\" />\n",
       "  <line x1=\"110\" y1=\"15\" x2=\"110\" y2=\"101\" />\n",
       "  <line x1=\"112\" y1=\"17\" x2=\"112\" y2=\"103\" />\n",
       "  <line x1=\"114\" y1=\"19\" x2=\"114\" y2=\"105\" />\n",
       "  <line x1=\"116\" y1=\"21\" x2=\"116\" y2=\"107\" />\n",
       "  <line x1=\"119\" y1=\"24\" x2=\"119\" y2=\"110\" />\n",
       "  <line x1=\"121\" y1=\"26\" x2=\"121\" y2=\"112\" />\n",
       "  <line x1=\"123\" y1=\"28\" x2=\"123\" y2=\"114\" />\n",
       "  <line x1=\"125\" y1=\"30\" x2=\"125\" y2=\"116\" />\n",
       "  <line x1=\"127\" y1=\"32\" x2=\"127\" y2=\"118\" />\n",
       "  <line x1=\"130\" y1=\"35\" x2=\"130\" y2=\"121\" />\n",
       "  <line x1=\"132\" y1=\"37\" x2=\"132\" y2=\"123\" />\n",
       "  <line x1=\"134\" y1=\"39\" x2=\"134\" y2=\"125\" />\n",
       "  <line x1=\"136\" y1=\"41\" x2=\"136\" y2=\"127\" />\n",
       "  <line x1=\"139\" y1=\"44\" x2=\"139\" y2=\"130\" />\n",
       "  <line x1=\"141\" y1=\"46\" x2=\"141\" y2=\"132\" />\n",
       "  <line x1=\"143\" y1=\"48\" x2=\"143\" y2=\"134\" />\n",
       "  <line x1=\"145\" y1=\"50\" x2=\"145\" y2=\"136\" />\n",
       "  <line x1=\"147\" y1=\"52\" x2=\"147\" y2=\"138\" />\n",
       "  <line x1=\"150\" y1=\"55\" x2=\"150\" y2=\"141\" />\n",
       "  <line x1=\"152\" y1=\"57\" x2=\"152\" y2=\"143\" />\n",
       "  <line x1=\"154\" y1=\"59\" x2=\"154\" y2=\"145\" />\n",
       "  <line x1=\"156\" y1=\"61\" x2=\"156\" y2=\"147\" />\n",
       "  <line x1=\"158\" y1=\"63\" x2=\"158\" y2=\"150\" />\n",
       "  <line x1=\"160\" y1=\"65\" x2=\"160\" y2=\"151\" />\n",
       "  <line x1=\"163\" y1=\"68\" x2=\"163\" y2=\"154\" />\n",
       "  <line x1=\"165\" y1=\"70\" x2=\"165\" y2=\"156\" style=\"stroke-width:2\" />\n",
       "\n",
       "  <!-- Colored Rectangle -->\n",
       "  <polygon points=\"95.0,0.0 165.58823529411765,70.58823529411765 165.58823529411765,156.64004876562024 95.0,86.0518134715026\" style=\"fill:#8B4903A0;stroke-width:0\"/>\n",
       "\n",
       "  <!-- Horizontal lines -->\n",
       "  <line x1=\"95\" y1=\"0\" x2=\"213\" y2=\"0\" style=\"stroke-width:2\" />\n",
       "  <line x1=\"96\" y1=\"1\" x2=\"215\" y2=\"1\" />\n",
       "  <line x1=\"99\" y1=\"4\" x2=\"217\" y2=\"4\" />\n",
       "  <line x1=\"101\" y1=\"6\" x2=\"219\" y2=\"6\" />\n",
       "  <line x1=\"103\" y1=\"8\" x2=\"222\" y2=\"8\" />\n",
       "  <line x1=\"105\" y1=\"10\" x2=\"224\" y2=\"10\" />\n",
       "  <line x1=\"107\" y1=\"12\" x2=\"226\" y2=\"12\" />\n",
       "  <line x1=\"110\" y1=\"15\" x2=\"228\" y2=\"15\" />\n",
       "  <line x1=\"112\" y1=\"17\" x2=\"231\" y2=\"17\" />\n",
       "  <line x1=\"114\" y1=\"19\" x2=\"233\" y2=\"19\" />\n",
       "  <line x1=\"116\" y1=\"21\" x2=\"235\" y2=\"21\" />\n",
       "  <line x1=\"119\" y1=\"24\" x2=\"237\" y2=\"24\" />\n",
       "  <line x1=\"121\" y1=\"26\" x2=\"239\" y2=\"26\" />\n",
       "  <line x1=\"123\" y1=\"28\" x2=\"242\" y2=\"28\" />\n",
       "  <line x1=\"125\" y1=\"30\" x2=\"244\" y2=\"30\" />\n",
       "  <line x1=\"127\" y1=\"32\" x2=\"246\" y2=\"32\" />\n",
       "  <line x1=\"130\" y1=\"35\" x2=\"248\" y2=\"35\" />\n",
       "  <line x1=\"132\" y1=\"37\" x2=\"251\" y2=\"37\" />\n",
       "  <line x1=\"134\" y1=\"39\" x2=\"252\" y2=\"39\" />\n",
       "  <line x1=\"136\" y1=\"41\" x2=\"255\" y2=\"41\" />\n",
       "  <line x1=\"139\" y1=\"44\" x2=\"257\" y2=\"44\" />\n",
       "  <line x1=\"141\" y1=\"46\" x2=\"259\" y2=\"46\" />\n",
       "  <line x1=\"143\" y1=\"48\" x2=\"261\" y2=\"48\" />\n",
       "  <line x1=\"145\" y1=\"50\" x2=\"264\" y2=\"50\" />\n",
       "  <line x1=\"147\" y1=\"52\" x2=\"266\" y2=\"52\" />\n",
       "  <line x1=\"150\" y1=\"55\" x2=\"268\" y2=\"55\" />\n",
       "  <line x1=\"152\" y1=\"57\" x2=\"270\" y2=\"57\" />\n",
       "  <line x1=\"154\" y1=\"59\" x2=\"272\" y2=\"59\" />\n",
       "  <line x1=\"156\" y1=\"61\" x2=\"275\" y2=\"61\" />\n",
       "  <line x1=\"158\" y1=\"63\" x2=\"277\" y2=\"63\" />\n",
       "  <line x1=\"160\" y1=\"65\" x2=\"279\" y2=\"65\" />\n",
       "  <line x1=\"163\" y1=\"68\" x2=\"281\" y2=\"68\" />\n",
       "  <line x1=\"165\" y1=\"70\" x2=\"284\" y2=\"70\" style=\"stroke-width:2\" />\n",
       "\n",
       "  <!-- Vertical lines -->\n",
       "  <line x1=\"95\" y1=\"0\" x2=\"165\" y2=\"70\" style=\"stroke-width:2\" />\n",
       "  <line x1=\"105\" y1=\"0\" x2=\"176\" y2=\"70\" />\n",
       "  <line x1=\"116\" y1=\"0\" x2=\"186\" y2=\"70\" />\n",
       "  <line x1=\"126\" y1=\"0\" x2=\"197\" y2=\"70\" />\n",
       "  <line x1=\"137\" y1=\"0\" x2=\"208\" y2=\"70\" />\n",
       "  <line x1=\"148\" y1=\"0\" x2=\"218\" y2=\"70\" />\n",
       "  <line x1=\"158\" y1=\"0\" x2=\"229\" y2=\"70\" />\n",
       "  <line x1=\"169\" y1=\"0\" x2=\"239\" y2=\"70\" />\n",
       "  <line x1=\"179\" y1=\"0\" x2=\"250\" y2=\"70\" />\n",
       "  <line x1=\"190\" y1=\"0\" x2=\"261\" y2=\"70\" />\n",
       "  <line x1=\"201\" y1=\"0\" x2=\"271\" y2=\"70\" />\n",
       "  <line x1=\"211\" y1=\"0\" x2=\"282\" y2=\"70\" />\n",
       "  <line x1=\"213\" y1=\"0\" x2=\"284\" y2=\"70\" style=\"stroke-width:2\" />\n",
       "\n",
       "  <!-- Colored Rectangle -->\n",
       "  <polygon points=\"95.0,0.0 213.54922279792743,0.0 284.1374580920451,70.58823529411765 165.58823529411765,70.58823529411765\" style=\"fill:#8B4903A0;stroke-width:0\"/>\n",
       "\n",
       "  <!-- Horizontal lines -->\n",
       "  <line x1=\"165\" y1=\"70\" x2=\"284\" y2=\"70\" style=\"stroke-width:2\" />\n",
       "  <line x1=\"165\" y1=\"81\" x2=\"284\" y2=\"81\" />\n",
       "  <line x1=\"165\" y1=\"91\" x2=\"284\" y2=\"91\" />\n",
       "  <line x1=\"165\" y1=\"102\" x2=\"284\" y2=\"102\" />\n",
       "  <line x1=\"165\" y1=\"113\" x2=\"284\" y2=\"113\" />\n",
       "  <line x1=\"165\" y1=\"123\" x2=\"284\" y2=\"123\" />\n",
       "  <line x1=\"165\" y1=\"134\" x2=\"284\" y2=\"134\" />\n",
       "  <line x1=\"165\" y1=\"144\" x2=\"284\" y2=\"144\" />\n",
       "  <line x1=\"165\" y1=\"155\" x2=\"284\" y2=\"155\" />\n",
       "  <line x1=\"165\" y1=\"156\" x2=\"284\" y2=\"156\" style=\"stroke-width:2\" />\n",
       "\n",
       "  <!-- Vertical lines -->\n",
       "  <line x1=\"165\" y1=\"70\" x2=\"165\" y2=\"156\" style=\"stroke-width:2\" />\n",
       "  <line x1=\"176\" y1=\"70\" x2=\"176\" y2=\"156\" />\n",
       "  <line x1=\"186\" y1=\"70\" x2=\"186\" y2=\"156\" />\n",
       "  <line x1=\"197\" y1=\"70\" x2=\"197\" y2=\"156\" />\n",
       "  <line x1=\"208\" y1=\"70\" x2=\"208\" y2=\"156\" />\n",
       "  <line x1=\"218\" y1=\"70\" x2=\"218\" y2=\"156\" />\n",
       "  <line x1=\"229\" y1=\"70\" x2=\"229\" y2=\"156\" />\n",
       "  <line x1=\"239\" y1=\"70\" x2=\"239\" y2=\"156\" />\n",
       "  <line x1=\"250\" y1=\"70\" x2=\"250\" y2=\"156\" />\n",
       "  <line x1=\"261\" y1=\"70\" x2=\"261\" y2=\"156\" />\n",
       "  <line x1=\"271\" y1=\"70\" x2=\"271\" y2=\"156\" />\n",
       "  <line x1=\"282\" y1=\"70\" x2=\"282\" y2=\"156\" />\n",
       "  <line x1=\"284\" y1=\"70\" x2=\"284\" y2=\"156\" style=\"stroke-width:2\" />\n",
       "\n",
       "  <!-- Colored Rectangle -->\n",
       "  <polygon points=\"165.58823529411765,70.58823529411765 284.1374580920451,70.58823529411765 284.1374580920451,156.64004876562024 165.58823529411765,156.64004876562024\" style=\"fill:#ECB172A0;stroke-width:0\"/>\n",
       "\n",
       "  <!-- Text -->\n",
       "  <text x=\"224.862847\" y=\"176.640049\" font-size=\"1.0rem\" font-weight=\"100\" text-anchor=\"middle\" >2860</text>\n",
       "  <text x=\"304.137458\" y=\"113.614142\" font-size=\"1.0rem\" font-weight=\"100\" text-anchor=\"middle\" transform=\"rotate(-90,304.137458,113.614142)\">2076</text>\n",
       "  <text x=\"120.294118\" y=\"141.345931\" font-size=\"1.0rem\" font-weight=\"100\" text-anchor=\"middle\" transform=\"rotate(45,120.294118,141.345931)\">2895</text>\n",
       "</svg>\n",
       "        </td>\n",
       "    </tr>\n",
       "</table>"
      ],
      "text/plain": [
       "dask.array<stack, shape=(3, 2, 2895, 2076, 2860), dtype=uint16, chunksize=(1, 1, 16, 256, 256), chunktype=numpy.ndarray>"
      ]
     },
     "execution_count": 5,
     "metadata": {},
     "output_type": "execute_result"
    }
   ],
   "source": [
    "dataset.data[0]"
   ]
  },
  {
   "cell_type": "code",
   "execution_count": null,
   "id": "244443a2",
   "metadata": {},
   "outputs": [],
   "source": [
    "# --- Visualize in Napari ---\n",
    "# Opens napari with pyramid-aware viewing and color channels\n",
    "# It reads only the visualizing slice. Faster to open but not interactive.\n",
    "# NOT RECOMMENDED FOR LARGE h5 DATASETS!\n",
    "# To visualize lower resolution, use the next cell.\n",
    "# To visualize the whole dataset at full resolution, convert data into ome-zarr\n",
    "\n",
    "start = time.time()\n",
    "viewer = dataset.visualize()\n",
    "print(f\"{time.time()-start}\")"
   ]
  },
  {
   "cell_type": "code",
   "execution_count": null,
   "id": "26134b63-4cdf-4cd0-878e-cf2328d11793",
   "metadata": {
    "scrolled": true
   },
   "outputs": [],
   "source": [
    "# --- Visualize in Napari ---\n",
    "# Opens napari with pyramid-aware viewing and color channels\n",
    "# The start_level-stop_level options, generate lower resolution layers and load them into memory\n",
    "# NOTE: This works because the dataset has 5 resolution layers\n",
    "# It takes some time because it has to open the files and read the corresponding layers\n",
    "# Best would be to resave the dataset in ome-zarr (see next cell on how to do it)\n",
    "\n",
    "start = time.time()\n",
    "viewer = dataset.visualize( \n",
    "                        start_level = 5, \n",
    "                        stop_level = 6, \n",
    "                        in_memory = True \n",
    "                    )\n",
    "print(f\"{time.time()-start}\")"
   ]
  },
  {
   "cell_type": "code",
   "execution_count": null,
   "id": "d93b67df",
   "metadata": {},
   "outputs": [],
   "source": [
    "# --- Build pyramid if not already ---\n",
    "dataset.build_pyramid(\n",
    "                    num_levels=8, \n",
    "                    downscale_factor=2,\n",
    "                    start_level=0\n",
    "                    )\n",
    "\n",
    "# --- Optional: Write to OME-Zarr format ---\n",
    "output_zarr_path = f\"{main_path}/{dataset_name}.zarr\"\n",
    "dataset.write(output_zarr_path)"
   ]
  },
  {
   "cell_type": "code",
   "execution_count": null,
   "id": "4734b7c3-e72c-441d-83fb-bb209dd93df7",
   "metadata": {},
   "outputs": [],
   "source": [
    "# --- Show metadata summary for updated dataset ---\n",
    "for i in dataset.metadata:\n",
    "    print(f\"{i.upper()}: {dataset.metadata[i]}\")\n",
    "print(\"CHUNK SIZE:\", dataset.chunks)"
   ]
  },
  {
   "cell_type": "code",
   "execution_count": null,
   "id": "5d3bfd87-f604-424c-8509-a88bd45d08d3",
   "metadata": {},
   "outputs": [],
   "source": [
    "dataset.close()"
   ]
  },
  {
   "cell_type": "markdown",
   "id": "c7a85e47-e830-4036-874b-dabd46401000",
   "metadata": {},
   "source": [
    "# Now we use the ZarrManager to load the new data and display it"
   ]
  },
  {
   "cell_type": "code",
   "execution_count": null,
   "id": "db6c9ce8-2e50-43e5-9938-bc267c893e39",
   "metadata": {},
   "outputs": [],
   "source": [
    "input_zarr_path = output_zarr_path"
   ]
  },
  {
   "cell_type": "code",
   "execution_count": null,
   "id": "cda87a56-9754-4a14-b8ee-8359cbdf8e3d",
   "metadata": {},
   "outputs": [],
   "source": [
    "# --- Initialize manager ---\n",
    "# Here, the argument chunks can be used to specify a preferred chunk (Default: (1,1,16,256,256)\n",
    "# Here, we use the same chunks.\n",
    "zarr_dataset = mm.ZarrManager(path=input_zarr_path)#, chunks=(1,1,32,2048,2048))"
   ]
  },
  {
   "cell_type": "code",
   "execution_count": null,
   "id": "77f05b0d-7511-4cce-9d32-8ecd85b3397a",
   "metadata": {},
   "outputs": [],
   "source": [
    "for i in zarr_dataset.metadata:\n",
    "    print(f\"{i.upper()}: {zarr_dataset.metadata[i]}\")\n",
    "print(\"CHUNK SIZE:\", zarr_dataset.chunks)"
   ]
  },
  {
   "cell_type": "code",
   "execution_count": null,
   "id": "203643ce-d9a2-4332-b6c0-acbab346056e",
   "metadata": {},
   "outputs": [],
   "source": [
    "zarr_dataset.data[0]"
   ]
  },
  {
   "cell_type": "code",
   "execution_count": null,
   "id": "f2fd5a3e-6bbc-4efa-bc8e-1692034377a0",
   "metadata": {},
   "outputs": [],
   "source": [
    "# --- Visualize in Napari ---\n",
    "# Opens napari with pyramid-aware viewing and color channels\n",
    "# It reads only the visualizing slice. Faster but not interactive.\n",
    "start = time.time()\n",
    "viewer = zarr_dataset.visualize()\n",
    "print(f\"{time.time()-start}\")"
   ]
  },
  {
   "cell_type": "code",
   "execution_count": null,
   "id": "82586ca7-d5d5-4c99-a1f8-13f1b18ff0a4",
   "metadata": {},
   "outputs": [],
   "source": [
    "start = time.time()\n",
    "# zarr_dataset.data = [level.rechunk((1, 1, 32, 512, 512)) for level in zarr_dataset.data]\n",
    "viewer = zarr_dataset.visualize(                        \n",
    "                        start_level = 0, \n",
    "                        stop_level = 2, \n",
    "                        in_memory = False \n",
    ")\n",
    "print(f\"{time.time()-start}\")"
   ]
  },
  {
   "cell_type": "code",
   "execution_count": null,
   "id": "f64824b5-420c-4537-8a69-226479db45eb",
   "metadata": {},
   "outputs": [],
   "source": []
  }
 ],
 "metadata": {
  "kernelspec": {
   "display_name": "Python 3 (ipykernel)",
   "language": "python",
   "name": "python3"
  },
  "language_info": {
   "codemirror_mode": {
    "name": "ipython",
    "version": 3
   },
   "file_extension": ".py",
   "mimetype": "text/x-python",
   "name": "python",
   "nbconvert_exporter": "python",
   "pygments_lexer": "ipython3",
   "version": "3.10.17"
  }
 },
 "nbformat": 4,
 "nbformat_minor": 5
}

{
 "cells": [
  {
   "cell_type": "code",
   "execution_count": 1,
   "id": "9b661a73",
   "metadata": {},
   "outputs": [],
   "source": [
    "import sys\n",
    "from pathlib import Path\n",
    "import time\n",
    "\n",
    "# Set manually based on your repo's structure\n",
    "repo_root = Path.cwd().parent  # or Path.cwd() if you're in the repo root\n",
    "sys.path.append(str(repo_root))"
   ]
  },
  {
   "cell_type": "markdown",
   "id": "1ceeb36a-2802-45a0-b34f-3d9ef6e27935",
   "metadata": {},
   "source": [
    "# LuxendoManager Example Notebook"
   ]
  },
  {
   "cell_type": "code",
   "execution_count": 2,
   "id": "c98f8df3-cfe1-4ef1-afa7-9fd47bcb06ed",
   "metadata": {},
   "outputs": [],
   "source": [
    "# --- Imports ---\n",
    "import pymif.microscope_manager as mm\n",
    "import napari\n",
    "import os"
   ]
  },
  {
   "cell_type": "code",
   "execution_count": 3,
   "id": "6a1762e9",
   "metadata": {},
   "outputs": [],
   "source": [
    "# --- Set input data path ---\n",
    "main_path = \"/g/mif/people/gritti/code/pymif_test_data\"\n",
    "dataset_name = \"luxendo\"\n",
    "\n",
    "main_path = \"/g/mif/common/Data/Z_from_LCS_24-07-16/Coll_Montse/MouseEmbryo_micemetyleneBlue/2022-08-09_132304/processed\"\n",
    "dataset_name = \"20221108-162726_Task_2_LM_FullRes_C\"\n",
    "\n",
    "main_path = \"/mif-users/Users/Arias_Adrian/scans_CSL_P21/2400_31573_s\"\n",
    "dataset_name = \"20250523-105843_Task_1_stitching_1_C\"\n",
    "\n",
    "luxendo_path = f\"{main_path}/{dataset_name}\""
   ]
  },
  {
   "cell_type": "code",
   "execution_count": 4,
   "id": "722b29ff",
   "metadata": {},
   "outputs": [],
   "source": [
    "# --- Initialize manager ---\n",
    "# Here, the argument chunks can be used to specify a preferred chunk (Default: (1,1,16,256,256)\n",
    "dataset = mm.LuxendoManager(path=luxendo_path, chunks=(1,1,32,2048,2048))"
   ]
  },
  {
   "cell_type": "code",
   "execution_count": 5,
   "id": "e713e064",
   "metadata": {},
   "outputs": [
    {
     "name": "stdout",
     "output_type": "stream",
     "text": [
      "Axes: tczyx\n",
      "Size: [(1, 2, 4982, 16304, 12055), (1, 2, 2496, 8192, 6080), (1, 2, 1280, 4096, 3072), (1, 2, 640, 2048, 1536), (1, 2, 320, 1024, 768), (1, 2, 192, 512, 384), (1, 2, 128, 256, 192)]\n",
      "Scales: [(4.0, 1.4625, 1.4625), (8.0, 2.925, 2.925), (16.0, 5.85, 5.85), (32.0, 11.7, 11.7), (64.0, 23.4, 23.4), (128.0, 46.8, 46.8), (256.0, 93.6, 93.6)]\n",
      "Chunk size: (1, 1, 32, 2048, 2048)\n",
      "Channels: ['ch:0', 'ch:1']\n",
      "Colors: [16711680, 255]\n",
      "\n",
      "\n",
      "SIZE: [(1, 2, 4982, 16304, 12055), (1, 2, 2496, 8192, 6080), (1, 2, 1280, 4096, 3072), (1, 2, 640, 2048, 1536), (1, 2, 320, 1024, 768), (1, 2, 192, 512, 384), (1, 2, 128, 256, 192)]\n",
      "SCALES: [(4.0, 1.4625, 1.4625), (8.0, 2.925, 2.925), (16.0, 5.85, 5.85), (32.0, 11.7, 11.7), (64.0, 23.4, 23.4), (128.0, 46.8, 46.8), (256.0, 93.6, 93.6)]\n",
      "UNITS: ('micrometer', 'micrometer', 'micrometer')\n",
      "TIME_INCREMENT: 1.0\n",
      "TIME_INCREMENT_UNIT: s\n",
      "CHANNEL_NAMES: ['ch:0', 'ch:1']\n",
      "CHANNEL_COLORS: [16711680, 255]\n",
      "DTYPE: uint16\n",
      "PLANE_FILES: None\n",
      "AXES: tczyx\n"
     ]
    }
   ],
   "source": [
    "# --- Show metadata summary ---\n",
    "print(\"Axes:\", dataset.metadata[\"axes\"])\n",
    "print(\"Size:\", dataset.metadata[\"size\"])\n",
    "print(\"Scales:\", dataset.metadata[\"scales\"])\n",
    "print(\"Chunk size:\", dataset.chunks)\n",
    "print(\"Channels:\", dataset.metadata[\"channel_names\"])\n",
    "print(\"Colors:\", dataset.metadata[\"channel_colors\"])\n",
    "print(\"\\n\")\n",
    "for i in dataset.metadata:\n",
    "    print(f\"{i.upper()}: {dataset.metadata[i]}\")"
   ]
  },
  {
   "cell_type": "code",
   "execution_count": null,
   "id": "432b305f-0b3d-4669-b9b6-623916015444",
   "metadata": {},
   "outputs": [],
   "source": [
    "dataset.data[0]"
   ]
  },
  {
   "cell_type": "code",
   "execution_count": null,
   "id": "244443a2",
   "metadata": {},
   "outputs": [],
   "source": [
    "# --- Visualize in Napari ---\n",
    "# Opens napari with pyramid-aware viewing and color channels\n",
    "# It reads only the visualizing slice. Faster to open but not interactive.\n",
    "# NOT RECOMMENDED FOR LARGE h5 DATASETS!\n",
    "# To visualize lower resolution, use the next cell.\n",
    "# To visualize the whole dataset at full resolution, convert data into ome-zarr\n",
    "\n",
    "# start = time.time()\n",
    "# viewer = dataset.visualize()\n",
    "# print(f\"{time.time()-start}\")"
   ]
  },
  {
   "cell_type": "code",
   "execution_count": null,
   "id": "26134b63-4cdf-4cd0-878e-cf2328d11793",
   "metadata": {},
   "outputs": [],
   "source": [
    "# --- Visualize in Napari ---\n",
    "# Opens napari with pyramid-aware viewing and color channels\n",
    "# The start_level-stop_level options, generate lower resolution layers and load them into memory\n",
    "# NOTE: This works because the dataset has 5 resolution layers\n",
    "# It takes some time because it has to open the files and read the corresponding layers\n",
    "# Best would be to resave the dataset in ome-zarr (see next cell on how to do it)\n",
    "\n",
    "start = time.time()\n",
    "viewer = dataset.visualize( \n",
    "                        start_level = 5, \n",
    "                        stop_level = 6, \n",
    "                        in_memory = True \n",
    "                    )\n",
    "print(f\"{time.time()-start}\")"
   ]
  },
  {
   "cell_type": "code",
   "execution_count": null,
   "id": "d93b67df",
   "metadata": {},
   "outputs": [],
   "source": [
    "# --- Build pyramid if not already ---\n",
    "dataset.build_pyramid(\n",
    "                    num_levels=5, \n",
    "                    downscale_factor=2,\n",
    "                    start_level=0\n",
    "                    )\n",
    "\n",
    "# --- Optional: Write to OME-Zarr format ---\n",
    "output_zarr_path = f\"{main_path}/{dataset_name}.zarr\"\n",
    "dataset.write(output_zarr_path)"
   ]
  },
  {
   "cell_type": "code",
   "execution_count": null,
   "id": "4734b7c3-e72c-441d-83fb-bb209dd93df7",
   "metadata": {},
   "outputs": [],
   "source": [
    "# # --- Show metadata summary for updated dataset ---\n",
    "# print(\"Axes:\", dataset.metadata[\"axes\"])\n",
    "# print(\"Size:\", dataset.metadata[\"size\"])\n",
    "# print(\"Scales:\", dataset.metadata[\"scales\"])\n",
    "# print(\"Chunk size:\", dataset.chunks)\n",
    "# print(\"Channels:\", dataset.metadata[\"channel_names\"])\n",
    "# print(\"Colors:\", dataset.metadata[\"channel_colors\"])\n",
    "# print(\"\\n\")\n",
    "# for i in dataset.metadata:\n",
    "#     print(f\"{i.upper()}: {dataset.metadata[i]}\")"
   ]
  },
  {
   "cell_type": "markdown",
   "id": "c7a85e47-e830-4036-874b-dabd46401000",
   "metadata": {},
   "source": [
    "# Now we use the ZarrManager to load the new data and display it"
   ]
  },
  {
   "cell_type": "code",
   "execution_count": 6,
   "id": "db6c9ce8-2e50-43e5-9938-bc267c893e39",
   "metadata": {},
   "outputs": [],
   "source": [
    "input_zarr_path = f\"{main_path}/{dataset_name}.zarr\""
   ]
  },
  {
   "cell_type": "code",
   "execution_count": 7,
   "id": "cda87a56-9754-4a14-b8ee-8359cbdf8e3d",
   "metadata": {},
   "outputs": [],
   "source": [
    "# --- Initialize manager ---\n",
    "# Here, the argument chunks can be used to specify a preferred chunk (Default: (1,1,16,256,256)\n",
    "# Here, we use the same chunks.\n",
    "zarr_dataset = mm.ZarrManager(path=input_zarr_path, chunks=(1,1,32,2048,2048))"
   ]
  },
  {
   "cell_type": "code",
   "execution_count": 8,
   "id": "77f05b0d-7511-4cce-9d32-8ecd85b3397a",
   "metadata": {},
   "outputs": [
    {
     "name": "stdout",
     "output_type": "stream",
     "text": [
      "Axes: tczyx\n",
      "Size: [(1, 2, 4982, 16304, 12055), (1, 2, 2491, 8152, 6028), (1, 2, 1246, 4076, 3014), (1, 2, 623, 2038, 1507), (1, 2, 312, 1019, 754)]\n",
      "Scales: [(4.0, 1.4625, 1.4625), (8.0, 2.925, 2.925), (16.0, 5.85, 5.85), (32.0, 11.7, 11.7), (64.0, 23.4, 23.4)]\n",
      "Chunk size: (1, 1, 32, 2048, 2048)\n",
      "Channels: ['ch:0', 'ch:1']\n",
      "Colors: [16711680, 255]\n",
      "\n",
      "\n",
      "SIZE: [(1, 2, 4982, 16304, 12055), (1, 2, 2491, 8152, 6028), (1, 2, 1246, 4076, 3014), (1, 2, 623, 2038, 1507), (1, 2, 312, 1019, 754)]\n",
      "SCALES: [(4.0, 1.4625, 1.4625), (8.0, 2.925, 2.925), (16.0, 5.85, 5.85), (32.0, 11.7, 11.7), (64.0, 23.4, 23.4)]\n",
      "UNITS: ('micrometer', 'micrometer', 'micrometer')\n",
      "TIME_INCREMENT: 1.0\n",
      "TIME_INCREMENT_UNIT: s\n",
      "CHANNEL_NAMES: ['ch:0', 'ch:1']\n",
      "CHANNEL_COLORS: [16711680, 255]\n",
      "DTYPE: uint16\n",
      "PLANE_FILES: None\n",
      "AXES: tczyx\n"
     ]
    }
   ],
   "source": [
    "# --- Show metadata summary ---\n",
    "print(\"Axes:\", zarr_dataset.metadata[\"axes\"])\n",
    "print(\"Size:\", zarr_dataset.metadata[\"size\"])\n",
    "print(\"Scales:\", zarr_dataset.metadata[\"scales\"])\n",
    "print(\"Chunk size:\", zarr_dataset.chunks)\n",
    "print(\"Channels:\", zarr_dataset.metadata[\"channel_names\"])\n",
    "print(\"Colors:\", zarr_dataset.metadata[\"channel_colors\"])\n",
    "print(\"\\n\")\n",
    "for i in zarr_dataset.metadata:\n",
    "    print(f\"{i.upper()}: {zarr_dataset.metadata[i]}\")"
   ]
  },
  {
   "cell_type": "code",
   "execution_count": null,
   "id": "203643ce-d9a2-4332-b6c0-acbab346056e",
   "metadata": {},
   "outputs": [],
   "source": [
    "zarr_dataset.data[0]"
   ]
  },
  {
   "cell_type": "code",
   "execution_count": null,
   "id": "f2fd5a3e-6bbc-4efa-bc8e-1692034377a0",
   "metadata": {},
   "outputs": [],
   "source": [
    "# --- Visualize in Napari ---\n",
    "# Opens napari with pyramid-aware viewing and color channels\n",
    "# It reads only the visualizing slice. Faster but not interactive.\n",
    "start = time.time()\n",
    "viewer = zarr_dataset.visualize()\n",
    "print(f\"{time.time()-start}\")"
   ]
  },
  {
   "cell_type": "code",
   "execution_count": null,
   "id": "82586ca7-d5d5-4c99-a1f8-13f1b18ff0a4",
   "metadata": {},
   "outputs": [],
   "source": [
    "start = time.time()\n",
    "viewer = zarr_dataset.visualize(                        \n",
    "                        start_level = 2, \n",
    "                        stop_level = 3, \n",
    "                        in_memory = True \n",
    ")\n",
    "print(f\"{time.time()-start}\")"
   ]
  },
  {
   "cell_type": "code",
   "execution_count": null,
   "id": "3981986f-f909-4e02-8242-a88c2907c5a6",
   "metadata": {},
   "outputs": [],
   "source": []
  }
 ],
 "metadata": {
  "kernelspec": {
   "display_name": "Python 3 (ipykernel)",
   "language": "python",
   "name": "python3"
  },
  "language_info": {
   "codemirror_mode": {
    "name": "ipython",
    "version": 3
   },
   "file_extension": ".py",
   "mimetype": "text/x-python",
   "name": "python",
   "nbconvert_exporter": "python",
   "pygments_lexer": "ipython3",
   "version": "3.10.17"
  }
 },
 "nbformat": 4,
 "nbformat_minor": 5
}

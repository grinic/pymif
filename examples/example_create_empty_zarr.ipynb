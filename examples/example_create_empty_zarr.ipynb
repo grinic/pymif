{
 "cells": [
  {
   "cell_type": "markdown",
   "id": "33f2577b-c38c-473e-9f0f-39d5ab2259d3",
   "metadata": {},
   "source": [
    "# ZarrManager example"
   ]
  },
  {
   "cell_type": "code",
   "execution_count": null,
   "id": "f848bb30-b802-4b11-9974-8535583a0ee6",
   "metadata": {},
   "outputs": [],
   "source": [
    "# --- Imports ---\n",
    "import pymif.microscope_manager as mm\n",
    "import napari\n",
    "import os\n",
    "import time"
   ]
  },
  {
   "cell_type": "code",
   "execution_count": null,
   "id": "3f023fe4-82c8-4a07-b8ef-055660a8ccf0",
   "metadata": {},
   "outputs": [],
   "source": [
    "# --- Set input data path ---\n",
    "main_path = \"../../pymif_test_data/zarr\"\n",
    "# dataset_name = \"viventis_5T_2C_81Z_2304Y_2304X\"\n",
    "dataset_name = \"viventis_5T_2C_8Z_128Y_128X\"\n",
    "input_zarr_path = f\"{main_path}/{dataset_name}.zarr\"\n"
   ]
  },
  {
   "cell_type": "code",
   "execution_count": null,
   "id": "45861511-1cee-49d2-8442-67c459849101",
   "metadata": {},
   "outputs": [],
   "source": [
    "# --- Initialize manager ---\n",
    "# Here, the argument chunks can be used to specify a preferred chunk (Default: None = zarr native chunks)\n",
    "zarr_dataset = mm.ZarrManager(path=input_zarr_path)"
   ]
  },
  {
   "cell_type": "code",
   "execution_count": null,
   "id": "00a67116-b26f-43b6-b48e-39d921dfe13d",
   "metadata": {},
   "outputs": [],
   "source": [
    "zarr_dataset.data"
   ]
  },
  {
   "cell_type": "code",
   "execution_count": null,
   "id": "b44dd8b4",
   "metadata": {},
   "outputs": [],
   "source": [
    "# zarr_dataset.visualize_zarr()"
   ]
  },
  {
   "cell_type": "markdown",
   "id": "88fe7c0e-bd05-4ee2-a0a7-d0891985c22f",
   "metadata": {},
   "source": [
    "## Create an empty copy and modify it"
   ]
  },
  {
   "cell_type": "code",
   "execution_count": null,
   "id": "6fb5a50f-76ef-4e0b-a406-e8596a3df3fd",
   "metadata": {},
   "outputs": [],
   "source": [
    "output_zarr_path = f\"{main_path}/{dataset_name}_copy_empty.zarr\""
   ]
  },
  {
   "cell_type": "code",
   "execution_count": null,
   "id": "c4d52d58",
   "metadata": {},
   "outputs": [],
   "source": [
    "# zarr_dataset.write(output_zarr_path)"
   ]
  },
  {
   "cell_type": "code",
   "execution_count": null,
   "id": "45230c16",
   "metadata": {},
   "outputs": [],
   "source": [
    "zarr_dataset_copy = mm.ZarrManager(path=output_zarr_path, mode=\"w\", metadata=zarr_dataset.metadata)"
   ]
  },
  {
   "cell_type": "markdown",
   "id": "7add34ac",
   "metadata": {},
   "source": [
    "## Add one part of the image"
   ]
  },
  {
   "cell_type": "code",
   "execution_count": null,
   "id": "e7c7cc58",
   "metadata": {},
   "outputs": [],
   "source": [
    "zarr_dataset_copy.write_image_region(\n",
    "    data = zarr_dataset.data[0][0:1,:,:4,:64,10:74].compute(),\n",
    "    t = slice(0,1),\n",
    "    c = slice(0,2),\n",
    "    z = slice(0,4),\n",
    "    y = slice(0,64),\n",
    "    x = slice(10,74),\n",
    "    level = 0,\n",
    "    # group = \"/\",\n",
    ")"
   ]
  },
  {
   "cell_type": "markdown",
   "id": "02b36057",
   "metadata": {},
   "source": [
    "## Add one part of the label of the membrane\n",
    "\n",
    "First, create an empty label group"
   ]
  },
  {
   "cell_type": "code",
   "execution_count": null,
   "id": "63c44cea",
   "metadata": {},
   "outputs": [],
   "source": [
    "labels_metadata = {\n",
    "    \"axes\" : \"tzyx\",\n",
    "    \"size\" : [tuple([s[0],s[2],s[3],s[4]]) for s in zarr_dataset.metadata[\"size\"]],\n",
    "    \"chunksize\" : [tuple([s[0],s[2],s[3],s[4]]) for s in zarr_dataset.metadata[\"chunksize\"]],\n",
    "    \"scales\" : zarr_dataset.metadata[\"scales\"],\n",
    "    \"time_increment\" : zarr_dataset.metadata[\"time_increment\"],\n",
    "    \"time_increment_unit\" : zarr_dataset.metadata[\"time_increment_unit\"],\n",
    "}\n",
    "zarr_dataset_copy.create_empty_group(group_name=\"membranes\",\n",
    "                                     metadata=labels_metadata,\n",
    "                                     is_label=True)"
   ]
  },
  {
   "cell_type": "code",
   "execution_count": null,
   "id": "9c0065c8",
   "metadata": {},
   "outputs": [],
   "source": [
    "zarr_dataset_copy.write_label_region(\n",
    "    data = zarr_dataset.labels[\"membranes\"][0][0:1,:4,:64,10:74].compute(),\n",
    "    t = slice(0,1),\n",
    "    z = slice(0,4),\n",
    "    y = slice(0,64),\n",
    "    x = slice(10,74),\n",
    "    level = 0,\n",
    "    group = \"labels/membranes\",\n",
    ")"
   ]
  },
  {
   "cell_type": "markdown",
   "id": "af923d00",
   "metadata": {},
   "source": [
    "## Now add a new group e.g. processed and append a small part of the image after some processing"
   ]
  },
  {
   "cell_type": "code",
   "execution_count": null,
   "id": "0a28d465",
   "metadata": {},
   "outputs": [],
   "source": [
    "labels_metadata = {\n",
    "    \"axes\" : \"tczyx\",\n",
    "    \"size\" : [tuple([s[0],1,s[2],s[3],s[4]]) for s in zarr_dataset.metadata[\"size\"]],\n",
    "    \"chunksize\" : zarr_dataset.metadata[\"chunksize\"],\n",
    "    \"scales\" : zarr_dataset.metadata[\"scales\"],\n",
    "    \"time_increment\" : zarr_dataset.metadata[\"time_increment\"],\n",
    "    \"time_increment_unit\" : zarr_dataset.metadata[\"time_increment_unit\"],\n",
    "    \"units\" : zarr_dataset.metadata[\"units\"],\n",
    "    \"channel_names\" : [\"Hoechst_processed\"],\n",
    "    \"channel_colors\" : [16711935],\n",
    "}\n",
    "\n",
    "zarr_dataset_copy.create_empty_group(group_name=\"processed\",\n",
    "                                     metadata=labels_metadata,\n",
    "                                     is_label=False)"
   ]
  },
  {
   "cell_type": "code",
   "execution_count": null,
   "id": "e37c2476",
   "metadata": {},
   "outputs": [],
   "source": [
    "from skimage.filters import gaussian\n",
    "array = zarr_dataset.data[0][0:1,:1,:4,:64,10:74].compute()\n",
    "for i in range(array.shape[0]):\n",
    "    for j in range(array.shape[1]):\n",
    "        p = gaussian(array[i,j], sigma=1, preserve_range=True)\n",
    "        array[i,j] = p\n",
    "\n",
    "        "
   ]
  },
  {
   "cell_type": "code",
   "execution_count": null,
   "id": "8d7f7b8d",
   "metadata": {},
   "outputs": [],
   "source": [
    "import numpy as np\n",
    "print(array.shape)\n",
    "print(np.max(array))"
   ]
  },
  {
   "cell_type": "code",
   "execution_count": null,
   "id": "52969109",
   "metadata": {},
   "outputs": [],
   "source": [
    "zarr_dataset_copy.write_image_region(\n",
    "    data = np.array(array),\n",
    "    t = slice(0,1),\n",
    "    c = slice(0,1),\n",
    "    z = slice(0,4),\n",
    "    y = slice(0,64),\n",
    "    x = slice(10,74),\n",
    "    level = 0,\n",
    "    group = \"processed\",\n",
    ")"
   ]
  },
  {
   "cell_type": "code",
   "execution_count": null,
   "id": "c336e868",
   "metadata": {},
   "outputs": [],
   "source": [
    "viewer = napari.Viewer()\n",
    "zarr_dataset_copy = mm.ZarrManager(path=output_zarr_path, mode=\"r+\")\n",
    "zarr_dataset_copy.visualize_zarr(viewer=viewer)"
   ]
  },
  {
   "cell_type": "code",
   "execution_count": null,
   "id": "6ddf4d0a",
   "metadata": {},
   "outputs": [],
   "source": []
  }
 ],
 "metadata": {
  "kernelspec": {
   "display_name": "pymif",
   "language": "python",
   "name": "python3"
  },
  "language_info": {
   "codemirror_mode": {
    "name": "ipython",
    "version": 3
   },
   "file_extension": ".py",
   "mimetype": "text/x-python",
   "name": "python",
   "nbconvert_exporter": "python",
   "pygments_lexer": "ipython3",
   "version": "3.10.18"
  }
 },
 "nbformat": 4,
 "nbformat_minor": 5
}

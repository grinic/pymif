{
 "cells": [
  {
   "cell_type": "markdown",
   "id": "414b9889-4f79-420d-ae3c-75e007195ae0",
   "metadata": {},
   "source": [
    "# ViventisManager Example Notebook"
   ]
  },
  {
   "cell_type": "code",
   "execution_count": 1,
   "id": "c2348794-a7c1-4af8-b48c-a5f664a9ab1d",
   "metadata": {},
   "outputs": [],
   "source": [
    "# --- Imports ---\n",
    "import pymif.microscope_manager as mm\n",
    "import napari\n",
    "import os\n",
    "import time"
   ]
  },
  {
   "cell_type": "code",
   "execution_count": 2,
   "id": "6a1762e9",
   "metadata": {},
   "outputs": [],
   "source": [
    "# --- Set input data path ---\n",
    "main_path = \"/g/mif/people/gritti/code/pymif_test_data\"\n",
    "dataset_name = \"viventis\"\n",
    "viventis_path = f\"{main_path}/{dataset_name}\"  # Update this to your real path\n"
   ]
  },
  {
   "cell_type": "code",
   "execution_count": 3,
   "id": "722b29ff",
   "metadata": {},
   "outputs": [],
   "source": [
    "# --- Initialize manager ---\n",
    "dataset = mm.ViventisManager(path=viventis_path, chunks=(1,1,64,1024,1024))"
   ]
  },
  {
   "cell_type": "code",
   "execution_count": 4,
   "id": "e713e064",
   "metadata": {},
   "outputs": [
    {
     "name": "stdout",
     "output_type": "stream",
     "text": [
      "SIZE: [(5, 2, 81, 2304, 2304)]\n",
      "SCALES: [(1.0, 0.173, 0.173)]\n",
      "UNITS: ('µm', 'µm', 'µm')\n",
      "TIME_INCREMENT: 900.0\n",
      "TIME_INCREMENT_UNIT: s\n",
      "CHANNEL_NAMES: ['Hoechst', 'FM4-64']\n",
      "CHANNEL_COLORS: [16711935, -16776961]\n",
      "DTYPE: uint16\n",
      "PLANE_FILES: {(0, 0): 't0001_Hoechst.tif', (0, 1): 't0001_FM4-64.tif', (1, 0): 't0002_Hoechst.tif', (1, 1): 't0002_FM4-64.tif', (2, 0): 't0003_Hoechst.tif', (2, 1): 't0003_FM4-64.tif', (3, 0): 't0004_Hoechst.tif', (3, 1): 't0004_FM4-64.tif', (4, 0): 't0005_Hoechst.tif', (4, 1): 't0005_FM4-64.tif'}\n",
      "AXES: tczyx\n",
      "CHUNK SIZE: (1, 1, 64, 1024, 1024)\n"
     ]
    }
   ],
   "source": [
    "# --- Show metadata summary ---\n",
    "for i in dataset.metadata:\n",
    "    print(f\"{i.upper()}: {dataset.metadata[i]}\")\n",
    "print(\"CHUNK SIZE:\", dataset.chunks)"
   ]
  },
  {
   "cell_type": "code",
   "execution_count": 5,
   "id": "432b305f-0b3d-4669-b9b6-623916015444",
   "metadata": {},
   "outputs": [
    {
     "data": {
      "text/html": [
       "<table>\n",
       "    <tr>\n",
       "        <td>\n",
       "            <table style=\"border-collapse: collapse;\">\n",
       "                <thead>\n",
       "                    <tr>\n",
       "                        <td> </td>\n",
       "                        <th> Array </th>\n",
       "                        <th> Chunk </th>\n",
       "                    </tr>\n",
       "                </thead>\n",
       "                <tbody>\n",
       "                    \n",
       "                    <tr>\n",
       "                        <th> Bytes </th>\n",
       "                        <td> 8.01 GiB </td>\n",
       "                        <td> 128.00 MiB </td>\n",
       "                    </tr>\n",
       "                    \n",
       "                    <tr>\n",
       "                        <th> Shape </th>\n",
       "                        <td> (5, 2, 81, 2304, 2304) </td>\n",
       "                        <td> (1, 1, 64, 1024, 1024) </td>\n",
       "                    </tr>\n",
       "                    <tr>\n",
       "                        <th> Dask graph </th>\n",
       "                        <td colspan=\"2\"> 180 chunks in 27 graph layers </td>\n",
       "                    </tr>\n",
       "                    <tr>\n",
       "                        <th> Data type </th>\n",
       "                        <td colspan=\"2\"> uint16 numpy.ndarray </td>\n",
       "                    </tr>\n",
       "                </tbody>\n",
       "            </table>\n",
       "        </td>\n",
       "        <td>\n",
       "        <svg width=\"379\" height=\"189\" style=\"stroke:rgb(0,0,0);stroke-width:1\" >\n",
       "\n",
       "  <!-- Horizontal lines -->\n",
       "  <line x1=\"0\" y1=\"0\" x2=\"25\" y2=\"0\" style=\"stroke-width:2\" />\n",
       "  <line x1=\"0\" y1=\"5\" x2=\"25\" y2=\"5\" />\n",
       "  <line x1=\"0\" y1=\"10\" x2=\"25\" y2=\"10\" />\n",
       "  <line x1=\"0\" y1=\"15\" x2=\"25\" y2=\"15\" />\n",
       "  <line x1=\"0\" y1=\"20\" x2=\"25\" y2=\"20\" />\n",
       "  <line x1=\"0\" y1=\"25\" x2=\"25\" y2=\"25\" style=\"stroke-width:2\" />\n",
       "\n",
       "  <!-- Vertical lines -->\n",
       "  <line x1=\"0\" y1=\"0\" x2=\"0\" y2=\"25\" style=\"stroke-width:2\" />\n",
       "  <line x1=\"12\" y1=\"0\" x2=\"12\" y2=\"25\" />\n",
       "  <line x1=\"25\" y1=\"0\" x2=\"25\" y2=\"25\" style=\"stroke-width:2\" />\n",
       "\n",
       "  <!-- Colored Rectangle -->\n",
       "  <polygon points=\"0.0,0.0 25.412616514582485,0.0 25.412616514582485,25.412616514582485 0.0,25.412616514582485\" style=\"fill:#ECB172A0;stroke-width:0\"/>\n",
       "\n",
       "  <!-- Text -->\n",
       "  <text x=\"12.706308\" y=\"45.412617\" font-size=\"1.0rem\" font-weight=\"100\" text-anchor=\"middle\" >2</text>\n",
       "  <text x=\"45.412617\" y=\"12.706308\" font-size=\"1.0rem\" font-weight=\"100\" text-anchor=\"middle\" transform=\"rotate(0,45.412617,12.706308)\">5</text>\n",
       "\n",
       "\n",
       "  <!-- Horizontal lines -->\n",
       "  <line x1=\"95\" y1=\"0\" x2=\"114\" y2=\"19\" style=\"stroke-width:2\" />\n",
       "  <line x1=\"95\" y1=\"53\" x2=\"114\" y2=\"72\" />\n",
       "  <line x1=\"95\" y1=\"106\" x2=\"114\" y2=\"125\" />\n",
       "  <line x1=\"95\" y1=\"120\" x2=\"114\" y2=\"139\" style=\"stroke-width:2\" />\n",
       "\n",
       "  <!-- Vertical lines -->\n",
       "  <line x1=\"95\" y1=\"0\" x2=\"95\" y2=\"120\" style=\"stroke-width:2\" />\n",
       "  <line x1=\"110\" y1=\"15\" x2=\"110\" y2=\"135\" />\n",
       "  <line x1=\"114\" y1=\"19\" x2=\"114\" y2=\"139\" style=\"stroke-width:2\" />\n",
       "\n",
       "  <!-- Colored Rectangle -->\n",
       "  <polygon points=\"95.0,0.0 114.02765395748794,19.02765395748794 114.02765395748794,139.02765395748793 95.0,120.0\" style=\"fill:#ECB172A0;stroke-width:0\"/>\n",
       "\n",
       "  <!-- Horizontal lines -->\n",
       "  <line x1=\"95\" y1=\"0\" x2=\"215\" y2=\"0\" style=\"stroke-width:2\" />\n",
       "  <line x1=\"110\" y1=\"15\" x2=\"230\" y2=\"15\" />\n",
       "  <line x1=\"114\" y1=\"19\" x2=\"234\" y2=\"19\" style=\"stroke-width:2\" />\n",
       "\n",
       "  <!-- Vertical lines -->\n",
       "  <line x1=\"95\" y1=\"0\" x2=\"114\" y2=\"19\" style=\"stroke-width:2\" />\n",
       "  <line x1=\"148\" y1=\"0\" x2=\"167\" y2=\"19\" />\n",
       "  <line x1=\"201\" y1=\"0\" x2=\"220\" y2=\"19\" />\n",
       "  <line x1=\"215\" y1=\"0\" x2=\"234\" y2=\"19\" style=\"stroke-width:2\" />\n",
       "\n",
       "  <!-- Colored Rectangle -->\n",
       "  <polygon points=\"95.0,0.0 215.0,0.0 234.02765395748793,19.02765395748794 114.02765395748794,19.02765395748794\" style=\"fill:#ECB172A0;stroke-width:0\"/>\n",
       "\n",
       "  <!-- Horizontal lines -->\n",
       "  <line x1=\"114\" y1=\"19\" x2=\"234\" y2=\"19\" style=\"stroke-width:2\" />\n",
       "  <line x1=\"114\" y1=\"72\" x2=\"234\" y2=\"72\" />\n",
       "  <line x1=\"114\" y1=\"125\" x2=\"234\" y2=\"125\" />\n",
       "  <line x1=\"114\" y1=\"139\" x2=\"234\" y2=\"139\" style=\"stroke-width:2\" />\n",
       "\n",
       "  <!-- Vertical lines -->\n",
       "  <line x1=\"114\" y1=\"19\" x2=\"114\" y2=\"139\" style=\"stroke-width:2\" />\n",
       "  <line x1=\"167\" y1=\"19\" x2=\"167\" y2=\"139\" />\n",
       "  <line x1=\"220\" y1=\"19\" x2=\"220\" y2=\"139\" />\n",
       "  <line x1=\"234\" y1=\"19\" x2=\"234\" y2=\"139\" style=\"stroke-width:2\" />\n",
       "\n",
       "  <!-- Colored Rectangle -->\n",
       "  <polygon points=\"114.02765395748794,19.02765395748794 234.02765395748793,19.02765395748794 234.02765395748793,139.02765395748793 114.02765395748794,139.02765395748793\" style=\"fill:#ECB172A0;stroke-width:0\"/>\n",
       "\n",
       "  <!-- Text -->\n",
       "  <text x=\"174.027654\" y=\"159.027654\" font-size=\"1.0rem\" font-weight=\"100\" text-anchor=\"middle\" >2304</text>\n",
       "  <text x=\"254.027654\" y=\"79.027654\" font-size=\"1.0rem\" font-weight=\"100\" text-anchor=\"middle\" transform=\"rotate(-90,254.027654,79.027654)\">2304</text>\n",
       "  <text x=\"94.513827\" y=\"149.513827\" font-size=\"1.0rem\" font-weight=\"100\" text-anchor=\"middle\" transform=\"rotate(45,94.513827,149.513827)\">81</text>\n",
       "</svg>\n",
       "        </td>\n",
       "    </tr>\n",
       "</table>"
      ],
      "text/plain": [
       "dask.array<rechunk-merge, shape=(5, 2, 81, 2304, 2304), dtype=uint16, chunksize=(1, 1, 64, 1024, 1024), chunktype=numpy.ndarray>"
      ]
     },
     "execution_count": 5,
     "metadata": {},
     "output_type": "execute_result"
    }
   ],
   "source": [
    "dataset.data[0]"
   ]
  },
  {
   "cell_type": "code",
   "execution_count": 6,
   "id": "244443a2",
   "metadata": {
    "scrolled": true
   },
   "outputs": [],
   "source": [
    "# --- Visualize in Napari ---\n",
    "# Opens napari with pyramid-aware viewing and color channels\n",
    "# NOT RECOMMENDED FOR VERY LARGE DATASETS!\n",
    "# To visualize lower resolution, build the pyramid and use the start_level argument (last cell).\n",
    "# To visualize the whole dataset at full resolution, convert data into ome-zarr\n",
    "\n",
    "viewer = dataset.visualize()"
   ]
  },
  {
   "cell_type": "code",
   "execution_count": 7,
   "id": "26134b63-4cdf-4cd0-878e-cf2328d11793",
   "metadata": {
    "scrolled": true
   },
   "outputs": [
    {
     "ename": "ValueError",
     "evalue": "start_level=2 is out of bounds for available 1 levels.",
     "output_type": "error",
     "traceback": [
      "\u001b[0;31m---------------------------------------------------------------------------\u001b[0m",
      "\u001b[0;31mValueError\u001b[0m                                Traceback (most recent call last)",
      "Cell \u001b[0;32mIn[7], line 3\u001b[0m\n\u001b[1;32m      1\u001b[0m \u001b[38;5;66;03m# --- Visualize in Napari ---\u001b[39;00m\n\u001b[1;32m      2\u001b[0m \u001b[38;5;66;03m# Opens napari with pyramid-aware viewing and color channels, generate lower resolution and load it into memory\u001b[39;00m\n\u001b[0;32m----> 3\u001b[0m viewer \u001b[38;5;241m=\u001b[39m \u001b[43mdataset\u001b[49m\u001b[38;5;241;43m.\u001b[39;49m\u001b[43mvisualize\u001b[49m\u001b[43m(\u001b[49m\u001b[43m \u001b[49m\u001b[43mstart_level\u001b[49m\u001b[43m \u001b[49m\u001b[38;5;241;43m=\u001b[39;49m\u001b[43m \u001b[49m\u001b[38;5;241;43m2\u001b[39;49m\u001b[43m,\u001b[49m\u001b[43m \u001b[49m\u001b[43min_memory\u001b[49m\u001b[43m \u001b[49m\u001b[38;5;241;43m=\u001b[39;49m\u001b[43m \u001b[49m\u001b[38;5;28;43;01mTrue\u001b[39;49;00m\u001b[43m \u001b[49m\u001b[43m)\u001b[49m\n\u001b[1;32m      4\u001b[0m \u001b[38;5;66;03m# NOTE: This fails because the dataset only has 1 resolution layer\u001b[39;00m\n",
      "File \u001b[0;32m/g/mif/people/gritti/code/pymif/pymif/microscope_manager/microscope_manager.py:47\u001b[0m, in \u001b[0;36mMicroscopeManager.visualize\u001b[0;34m(self, start_level, stop_level, in_memory, viewer)\u001b[0m\n\u001b[1;32m     40\u001b[0m \u001b[38;5;28;01mdef\u001b[39;00m\u001b[38;5;250m \u001b[39m\u001b[38;5;21mvisualize\u001b[39m(  \u001b[38;5;28mself\u001b[39m,\n\u001b[1;32m     41\u001b[0m                 start_level: Optional[\u001b[38;5;28mint\u001b[39m] \u001b[38;5;241m=\u001b[39m \u001b[38;5;241m0\u001b[39m,\n\u001b[1;32m     42\u001b[0m                 stop_level: Optional[\u001b[38;5;28mint\u001b[39m] \u001b[38;5;241m=\u001b[39m \u001b[38;5;241m-\u001b[39m\u001b[38;5;241m1\u001b[39m,\n\u001b[1;32m     43\u001b[0m                 in_memory: Optional[\u001b[38;5;28mbool\u001b[39m] \u001b[38;5;241m=\u001b[39m \u001b[38;5;28;01mFalse\u001b[39;00m,\n\u001b[1;32m     44\u001b[0m                 viewer: Optional[napari\u001b[38;5;241m.\u001b[39mViewer] \u001b[38;5;241m=\u001b[39m \u001b[38;5;28;01mNone\u001b[39;00m,\n\u001b[1;32m     45\u001b[0m               ) \u001b[38;5;241m-\u001b[39m\u001b[38;5;241m>\u001b[39m Any:\n\u001b[1;32m     46\u001b[0m     \u001b[38;5;28;01mfrom\u001b[39;00m\u001b[38;5;250m \u001b[39m\u001b[38;5;21;01m.\u001b[39;00m\u001b[38;5;21;01mutils\u001b[39;00m\u001b[38;5;21;01m.\u001b[39;00m\u001b[38;5;21;01mvisualize\u001b[39;00m\u001b[38;5;250m \u001b[39m\u001b[38;5;28;01mimport\u001b[39;00m visualize \u001b[38;5;28;01mas\u001b[39;00m _visualize\n\u001b[0;32m---> 47\u001b[0m     \u001b[38;5;28;01mreturn\u001b[39;00m \u001b[43m_visualize\u001b[49m\u001b[43m(\u001b[49m\u001b[43m  \u001b[49m\u001b[38;5;28;43mself\u001b[39;49m\u001b[38;5;241;43m.\u001b[39;49m\u001b[43mdata\u001b[49m\u001b[43m,\u001b[49m\u001b[43m \u001b[49m\n\u001b[1;32m     48\u001b[0m \u001b[43m                        \u001b[49m\u001b[38;5;28;43mself\u001b[39;49m\u001b[38;5;241;43m.\u001b[39;49m\u001b[43mmetadata\u001b[49m\u001b[43m,\u001b[49m\n\u001b[1;32m     49\u001b[0m \u001b[43m                        \u001b[49m\u001b[43mstart_level\u001b[49m\u001b[43m \u001b[49m\u001b[38;5;241;43m=\u001b[39;49m\u001b[43m \u001b[49m\u001b[43mstart_level\u001b[49m\u001b[43m,\u001b[49m\n\u001b[1;32m     50\u001b[0m \u001b[43m                        \u001b[49m\u001b[43mstop_level\u001b[49m\u001b[43m \u001b[49m\u001b[38;5;241;43m=\u001b[39;49m\u001b[43m \u001b[49m\u001b[43mstop_level\u001b[49m\u001b[43m,\u001b[49m\n\u001b[1;32m     51\u001b[0m \u001b[43m                        \u001b[49m\u001b[43min_memory\u001b[49m\u001b[43m \u001b[49m\u001b[38;5;241;43m=\u001b[39;49m\u001b[43m \u001b[49m\u001b[43min_memory\u001b[49m\u001b[43m,\u001b[49m\n\u001b[1;32m     52\u001b[0m \u001b[43m                        \u001b[49m\u001b[43mviewer\u001b[49m\u001b[43m \u001b[49m\u001b[38;5;241;43m=\u001b[39;49m\u001b[43m \u001b[49m\u001b[43mviewer\u001b[49m\u001b[43m,\u001b[49m\n\u001b[1;32m     53\u001b[0m \u001b[43m                      \u001b[49m\u001b[43m)\u001b[49m\n",
      "File \u001b[0;32m/g/mif/people/gritti/code/pymif/pymif/microscope_manager/utils/visualize.py:45\u001b[0m, in \u001b[0;36mvisualize\u001b[0;34m(data_levels, metadata, start_level, stop_level, in_memory, viewer)\u001b[0m\n\u001b[1;32m     43\u001b[0m \u001b[38;5;66;03m# Check that start_level is valid\u001b[39;00m\n\u001b[1;32m     44\u001b[0m \u001b[38;5;28;01mif\u001b[39;00m \u001b[38;5;129;01mnot\u001b[39;00m \u001b[38;5;241m0\u001b[39m \u001b[38;5;241m<\u001b[39m\u001b[38;5;241m=\u001b[39m start_level \u001b[38;5;241m<\u001b[39m \u001b[38;5;28mlen\u001b[39m(data_levels):\n\u001b[0;32m---> 45\u001b[0m     \u001b[38;5;28;01mraise\u001b[39;00m \u001b[38;5;167;01mValueError\u001b[39;00m(\u001b[38;5;124mf\u001b[39m\u001b[38;5;124m\"\u001b[39m\u001b[38;5;124mstart_level=\u001b[39m\u001b[38;5;132;01m{\u001b[39;00mstart_level\u001b[38;5;132;01m}\u001b[39;00m\u001b[38;5;124m is out of bounds for available \u001b[39m\u001b[38;5;132;01m{\u001b[39;00m\u001b[38;5;28mlen\u001b[39m(data_levels)\u001b[38;5;132;01m}\u001b[39;00m\u001b[38;5;124m levels.\u001b[39m\u001b[38;5;124m\"\u001b[39m)\n\u001b[1;32m     46\u001b[0m \u001b[38;5;28;01mif\u001b[39;00m (stop_level\u001b[38;5;241m>\u001b[39m\u001b[38;5;241m0\u001b[39m) \u001b[38;5;241m&\u001b[39m (\u001b[38;5;129;01mnot\u001b[39;00m stop_level \u001b[38;5;241m<\u001b[39m \u001b[38;5;28mlen\u001b[39m(data_levels)):\n\u001b[1;32m     47\u001b[0m     \u001b[38;5;28;01mraise\u001b[39;00m \u001b[38;5;167;01mValueError\u001b[39;00m(\u001b[38;5;124mf\u001b[39m\u001b[38;5;124m\"\u001b[39m\u001b[38;5;124mstop_level=\u001b[39m\u001b[38;5;132;01m{\u001b[39;00mstop_level\u001b[38;5;132;01m}\u001b[39;00m\u001b[38;5;124m is out of bounds for available \u001b[39m\u001b[38;5;132;01m{\u001b[39;00m\u001b[38;5;28mlen\u001b[39m(data_levels)\u001b[38;5;132;01m}\u001b[39;00m\u001b[38;5;124m levels.\u001b[39m\u001b[38;5;124m\"\u001b[39m)\n",
      "\u001b[0;31mValueError\u001b[0m: start_level=2 is out of bounds for available 1 levels."
     ]
    }
   ],
   "source": [
    "# --- Visualize in Napari ---\n",
    "# Opens napari with pyramid-aware viewing and color channels, generate lower resolution and load it into memory\n",
    "viewer = dataset.visualize( start_level = 2, in_memory = True )\n",
    "# NOTE: This fails because the dataset only has 1 resolution layer"
   ]
  },
  {
   "cell_type": "code",
   "execution_count": 8,
   "id": "d93b67df",
   "metadata": {},
   "outputs": [
    {
     "name": "stdout",
     "output_type": "stream",
     "text": [
      "Requested start level 0\n",
      "Resolution layer already available\n"
     ]
    }
   ],
   "source": [
    "# --- Build pyramid if not already ---\n",
    "dataset.build_pyramid(num_levels=3, downscale_factor=2)\n",
    "\n",
    "# --- Optional: Write to OME-Zarr format ---\n",
    "output_zarr_path = f\"{main_path}/{dataset_name}.zarr\"\n",
    "dataset.write(output_zarr_path)"
   ]
  },
  {
   "cell_type": "code",
   "execution_count": 9,
   "id": "4734b7c3-e72c-441d-83fb-bb209dd93df7",
   "metadata": {},
   "outputs": [
    {
     "name": "stdout",
     "output_type": "stream",
     "text": [
      "SIZE: [(5, 2, 81, 2304, 2304), (5, 2, 41, 1152, 1152), (5, 2, 21, 576, 576)]\n",
      "SCALES: [(1.0, 0.173, 0.173), (2.0, 0.346, 0.346), (4.0, 0.692, 0.692)]\n",
      "UNITS: ('µm', 'µm', 'µm')\n",
      "TIME_INCREMENT: 900.0\n",
      "TIME_INCREMENT_UNIT: s\n",
      "CHANNEL_NAMES: ['Hoechst', 'FM4-64']\n",
      "CHANNEL_COLORS: [16711935, -16776961]\n",
      "DTYPE: uint16\n",
      "PLANE_FILES: {(0, 0): 't0001_Hoechst.tif', (0, 1): 't0001_FM4-64.tif', (1, 0): 't0002_Hoechst.tif', (1, 1): 't0002_FM4-64.tif', (2, 0): 't0003_Hoechst.tif', (2, 1): 't0003_FM4-64.tif', (3, 0): 't0004_Hoechst.tif', (3, 1): 't0004_FM4-64.tif', (4, 0): 't0005_Hoechst.tif', (4, 1): 't0005_FM4-64.tif'}\n",
      "AXES: tczyx\n",
      "CHUNK SIZE: (1, 1, 64, 1024, 1024)\n"
     ]
    }
   ],
   "source": [
    "# --- Show metadata summary ---\n",
    "for i in dataset.metadata:\n",
    "    print(f\"{i.upper()}: {dataset.metadata[i]}\")\n",
    "print(\"CHUNK SIZE:\", dataset.chunks)"
   ]
  },
  {
   "cell_type": "markdown",
   "id": "b887fe66-21e3-4f0a-a91e-0c9ba2836f8c",
   "metadata": {},
   "source": [
    "# Now we use the ZarrManager to load the new data and display it"
   ]
  },
  {
   "cell_type": "code",
   "execution_count": 10,
   "id": "d3acaba4-c286-4413-b703-57de4a331c1c",
   "metadata": {},
   "outputs": [],
   "source": [
    "input_zarr_path = f\"{main_path}/{dataset_name}.zarr\""
   ]
  },
  {
   "cell_type": "code",
   "execution_count": 11,
   "id": "6cc5dc51-1a87-492d-b82b-348436272746",
   "metadata": {},
   "outputs": [],
   "source": [
    "# --- Initialize manager ---\n",
    "# Here, the argument chunks can be used to specify a preferred chunk (Default: (1,1,16,256,256)\n",
    "# Here, we use the same chunks.\n",
    "zarr_dataset = mm.ZarrManager(path=input_zarr_path, chunks=(1,1,64,1024,1024))"
   ]
  },
  {
   "cell_type": "code",
   "execution_count": 12,
   "id": "4ad14438-aa60-47ed-a9a3-552803148b7b",
   "metadata": {},
   "outputs": [
    {
     "name": "stdout",
     "output_type": "stream",
     "text": [
      "SIZE: [(5, 2, 81, 2304, 2304), (5, 2, 41, 1152, 1152), (5, 2, 21, 576, 576)]\n",
      "SCALES: [(1.0, 0.173, 0.173), (2.0, 0.346, 0.346), (4.0, 0.692, 0.692)]\n",
      "UNITS: ('micrometer', 'micrometer', 'micrometer')\n",
      "TIME_INCREMENT: 900.0\n",
      "TIME_INCREMENT_UNIT: s\n",
      "CHANNEL_NAMES: ['Hoechst', 'FM4-64']\n",
      "CHANNEL_COLORS: [16711935, 255]\n",
      "DTYPE: uint16\n",
      "PLANE_FILES: None\n",
      "AXES: tczyx\n",
      "CHUNK SIZE: (1, 1, 64, 1024, 1024)\n"
     ]
    }
   ],
   "source": [
    "# --- Show metadata summary ---\n",
    "for i in zarr_dataset.metadata:\n",
    "    print(f\"{i.upper()}: {zarr_dataset.metadata[i]}\")\n",
    "print(\"CHUNK SIZE:\", zarr_dataset.chunks)"
   ]
  },
  {
   "cell_type": "code",
   "execution_count": 13,
   "id": "16f224a7-fa0f-43c3-b762-29b90658583c",
   "metadata": {},
   "outputs": [
    {
     "name": "stdout",
     "output_type": "stream",
     "text": [
      "1.326491117477417\n"
     ]
    }
   ],
   "source": [
    "# --- Visualize in Napari ---\n",
    "# Opens napari with pyramid-aware viewing and color channels\n",
    "# It reads only the visualizing slice. Faster but not interactive.\n",
    "start = time.time()\n",
    "viewer = zarr_dataset.visualize()\n",
    "print(f\"{time.time()-start}\")"
   ]
  },
  {
   "cell_type": "code",
   "execution_count": 14,
   "id": "5e2fc5b1-7a3b-4385-92de-697ef3bcb3aa",
   "metadata": {},
   "outputs": [
    {
     "name": "stdout",
     "output_type": "stream",
     "text": [
      "11.494693994522095\n"
     ]
    }
   ],
   "source": [
    "start = time.time()\n",
    "viewer = zarr_dataset.visualize(                        \n",
    "                        start_level = 0, \n",
    "                        stop_level = 2, \n",
    "                        in_memory = True \n",
    ")\n",
    "print(f\"{time.time()-start}\")"
   ]
  },
  {
   "cell_type": "code",
   "execution_count": null,
   "id": "4f886245-44ff-4c0f-aa00-8fe27e1abe64",
   "metadata": {},
   "outputs": [],
   "source": []
  }
 ],
 "metadata": {
  "kernelspec": {
   "display_name": "Python 3 (ipykernel)",
   "language": "python",
   "name": "python3"
  },
  "language_info": {
   "codemirror_mode": {
    "name": "ipython",
    "version": 3
   },
   "file_extension": ".py",
   "mimetype": "text/x-python",
   "name": "python",
   "nbconvert_exporter": "python",
   "pygments_lexer": "ipython3",
   "version": "3.10.17"
  }
 },
 "nbformat": 4,
 "nbformat_minor": 5
}

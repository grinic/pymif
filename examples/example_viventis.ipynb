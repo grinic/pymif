{
 "cells": [
  {
   "cell_type": "code",
   "execution_count": 12,
   "id": "9b661a73",
   "metadata": {},
   "outputs": [],
   "source": [
    "import sys\n",
    "from pathlib import Path\n",
    "import time\n",
    "\n",
    "# Set manually based on your repo's structure\n",
    "repo_root = Path.cwd().parent  # or Path.cwd() if you're in the repo root\n",
    "sys.path.append(str(repo_root))"
   ]
  },
  {
   "cell_type": "markdown",
   "id": "414b9889-4f79-420d-ae3c-75e007195ae0",
   "metadata": {},
   "source": [
    "# ViventisManager Example Notebook"
   ]
  },
  {
   "cell_type": "code",
   "execution_count": 13,
   "id": "c2348794-a7c1-4af8-b48c-a5f664a9ab1d",
   "metadata": {},
   "outputs": [],
   "source": [
    "# --- Imports ---\n",
    "import pymif.microscope_manager as mm\n",
    "import napari\n",
    "import os"
   ]
  },
  {
   "cell_type": "code",
   "execution_count": 3,
   "id": "6a1762e9",
   "metadata": {},
   "outputs": [],
   "source": [
    "# --- Set input data path ---\n",
    "main_path = \"/g/mif/people/gritti/code/pymif_test_data\"\n",
    "dataset_name = \"viventis\"\n",
    "viventis_path = f\"{main_path}/{dataset_name}\"  # Update this to your real path\n"
   ]
  },
  {
   "cell_type": "code",
   "execution_count": 4,
   "id": "722b29ff",
   "metadata": {},
   "outputs": [],
   "source": [
    "# --- Initialize manager ---\n",
    "dataset = mm.ViventisManager(path=viventis_path)"
   ]
  },
  {
   "cell_type": "code",
   "execution_count": 5,
   "id": "e713e064",
   "metadata": {},
   "outputs": [
    {
     "name": "stdout",
     "output_type": "stream",
     "text": [
      "Axes: tczyx\n",
      "Size: [(5, 2, 81, 2304, 2304)]\n",
      "Scales: [(1.0, 0.173, 0.173)]\n",
      "Chunk size: (1, 1, 16, 256, 256)\n",
      "Channels: ['Hoechst', 'FM4-64']\n",
      "Colors: [16711935, -16776961]\n",
      "\n",
      "\n",
      "SIZE: [(5, 2, 81, 2304, 2304)]\n",
      "SCALES: [(1.0, 0.173, 0.173)]\n",
      "UNITS: ('µm', 'µm', 'µm')\n",
      "TIME_INCREMENT: 900.0\n",
      "TIME_INCREMENT_UNIT: s\n",
      "CHANNEL_NAMES: ['Hoechst', 'FM4-64']\n",
      "CHANNEL_COLORS: [16711935, -16776961]\n",
      "DTYPE: uint16\n",
      "PLANE_FILES: {(0, 0): 't0001_Hoechst.tif', (0, 1): 't0001_FM4-64.tif', (1, 0): 't0002_Hoechst.tif', (1, 1): 't0002_FM4-64.tif', (2, 0): 't0003_Hoechst.tif', (2, 1): 't0003_FM4-64.tif', (3, 0): 't0004_Hoechst.tif', (3, 1): 't0004_FM4-64.tif', (4, 0): 't0005_Hoechst.tif', (4, 1): 't0005_FM4-64.tif'}\n",
      "AXES: tczyx\n"
     ]
    }
   ],
   "source": [
    "# --- Show metadata summary ---\n",
    "for i in dataset.metadata:\n",
    "    print(f\"{i.upper()}: {dataset.metadata[i]}\")\n",
    "print(\"CHUNK SIZE:\", dataset.chunks)"
   ]
  },
  {
   "cell_type": "code",
   "execution_count": 6,
   "id": "432b305f-0b3d-4669-b9b6-623916015444",
   "metadata": {},
   "outputs": [
    {
     "data": {
      "text/html": [
       "<table>\n",
       "    <tr>\n",
       "        <td>\n",
       "            <table style=\"border-collapse: collapse;\">\n",
       "                <thead>\n",
       "                    <tr>\n",
       "                        <td> </td>\n",
       "                        <th> Array </th>\n",
       "                        <th> Chunk </th>\n",
       "                    </tr>\n",
       "                </thead>\n",
       "                <tbody>\n",
       "                    \n",
       "                    <tr>\n",
       "                        <th> Bytes </th>\n",
       "                        <td> 8.01 GiB </td>\n",
       "                        <td> 2.00 MiB </td>\n",
       "                    </tr>\n",
       "                    \n",
       "                    <tr>\n",
       "                        <th> Shape </th>\n",
       "                        <td> (5, 2, 81, 2304, 2304) </td>\n",
       "                        <td> (1, 1, 16, 256, 256) </td>\n",
       "                    </tr>\n",
       "                    <tr>\n",
       "                        <th> Dask graph </th>\n",
       "                        <td colspan=\"2\"> 4860 chunks in 27 graph layers </td>\n",
       "                    </tr>\n",
       "                    <tr>\n",
       "                        <th> Data type </th>\n",
       "                        <td colspan=\"2\"> uint16 numpy.ndarray </td>\n",
       "                    </tr>\n",
       "                </tbody>\n",
       "            </table>\n",
       "        </td>\n",
       "        <td>\n",
       "        <svg width=\"379\" height=\"189\" style=\"stroke:rgb(0,0,0);stroke-width:1\" >\n",
       "\n",
       "  <!-- Horizontal lines -->\n",
       "  <line x1=\"0\" y1=\"0\" x2=\"25\" y2=\"0\" style=\"stroke-width:2\" />\n",
       "  <line x1=\"0\" y1=\"5\" x2=\"25\" y2=\"5\" />\n",
       "  <line x1=\"0\" y1=\"10\" x2=\"25\" y2=\"10\" />\n",
       "  <line x1=\"0\" y1=\"15\" x2=\"25\" y2=\"15\" />\n",
       "  <line x1=\"0\" y1=\"20\" x2=\"25\" y2=\"20\" />\n",
       "  <line x1=\"0\" y1=\"25\" x2=\"25\" y2=\"25\" style=\"stroke-width:2\" />\n",
       "\n",
       "  <!-- Vertical lines -->\n",
       "  <line x1=\"0\" y1=\"0\" x2=\"0\" y2=\"25\" style=\"stroke-width:2\" />\n",
       "  <line x1=\"12\" y1=\"0\" x2=\"12\" y2=\"25\" />\n",
       "  <line x1=\"25\" y1=\"0\" x2=\"25\" y2=\"25\" style=\"stroke-width:2\" />\n",
       "\n",
       "  <!-- Colored Rectangle -->\n",
       "  <polygon points=\"0.0,0.0 25.412616514582485,0.0 25.412616514582485,25.412616514582485 0.0,25.412616514582485\" style=\"fill:#ECB172A0;stroke-width:0\"/>\n",
       "\n",
       "  <!-- Text -->\n",
       "  <text x=\"12.706308\" y=\"45.412617\" font-size=\"1.0rem\" font-weight=\"100\" text-anchor=\"middle\" >2</text>\n",
       "  <text x=\"45.412617\" y=\"12.706308\" font-size=\"1.0rem\" font-weight=\"100\" text-anchor=\"middle\" transform=\"rotate(0,45.412617,12.706308)\">5</text>\n",
       "\n",
       "\n",
       "  <!-- Horizontal lines -->\n",
       "  <line x1=\"95\" y1=\"0\" x2=\"114\" y2=\"19\" style=\"stroke-width:2\" />\n",
       "  <line x1=\"95\" y1=\"13\" x2=\"114\" y2=\"32\" />\n",
       "  <line x1=\"95\" y1=\"26\" x2=\"114\" y2=\"45\" />\n",
       "  <line x1=\"95\" y1=\"40\" x2=\"114\" y2=\"59\" />\n",
       "  <line x1=\"95\" y1=\"53\" x2=\"114\" y2=\"72\" />\n",
       "  <line x1=\"95\" y1=\"66\" x2=\"114\" y2=\"85\" />\n",
       "  <line x1=\"95\" y1=\"80\" x2=\"114\" y2=\"99\" />\n",
       "  <line x1=\"95\" y1=\"93\" x2=\"114\" y2=\"112\" />\n",
       "  <line x1=\"95\" y1=\"106\" x2=\"114\" y2=\"125\" />\n",
       "  <line x1=\"95\" y1=\"120\" x2=\"114\" y2=\"139\" style=\"stroke-width:2\" />\n",
       "\n",
       "  <!-- Vertical lines -->\n",
       "  <line x1=\"95\" y1=\"0\" x2=\"95\" y2=\"120\" style=\"stroke-width:2\" />\n",
       "  <line x1=\"98\" y1=\"3\" x2=\"98\" y2=\"123\" />\n",
       "  <line x1=\"102\" y1=\"7\" x2=\"102\" y2=\"127\" />\n",
       "  <line x1=\"106\" y1=\"11\" x2=\"106\" y2=\"131\" />\n",
       "  <line x1=\"110\" y1=\"15\" x2=\"110\" y2=\"135\" />\n",
       "  <line x1=\"113\" y1=\"18\" x2=\"113\" y2=\"138\" />\n",
       "  <line x1=\"114\" y1=\"19\" x2=\"114\" y2=\"139\" style=\"stroke-width:2\" />\n",
       "\n",
       "  <!-- Colored Rectangle -->\n",
       "  <polygon points=\"95.0,0.0 114.02765395748794,19.02765395748794 114.02765395748794,139.02765395748793 95.0,120.0\" style=\"fill:#ECB172A0;stroke-width:0\"/>\n",
       "\n",
       "  <!-- Horizontal lines -->\n",
       "  <line x1=\"95\" y1=\"0\" x2=\"215\" y2=\"0\" style=\"stroke-width:2\" />\n",
       "  <line x1=\"98\" y1=\"3\" x2=\"218\" y2=\"3\" />\n",
       "  <line x1=\"102\" y1=\"7\" x2=\"222\" y2=\"7\" />\n",
       "  <line x1=\"106\" y1=\"11\" x2=\"226\" y2=\"11\" />\n",
       "  <line x1=\"110\" y1=\"15\" x2=\"230\" y2=\"15\" />\n",
       "  <line x1=\"113\" y1=\"18\" x2=\"233\" y2=\"18\" />\n",
       "  <line x1=\"114\" y1=\"19\" x2=\"234\" y2=\"19\" style=\"stroke-width:2\" />\n",
       "\n",
       "  <!-- Vertical lines -->\n",
       "  <line x1=\"95\" y1=\"0\" x2=\"114\" y2=\"19\" style=\"stroke-width:2\" />\n",
       "  <line x1=\"108\" y1=\"0\" x2=\"127\" y2=\"19\" />\n",
       "  <line x1=\"121\" y1=\"0\" x2=\"140\" y2=\"19\" />\n",
       "  <line x1=\"135\" y1=\"0\" x2=\"154\" y2=\"19\" />\n",
       "  <line x1=\"148\" y1=\"0\" x2=\"167\" y2=\"19\" />\n",
       "  <line x1=\"161\" y1=\"0\" x2=\"180\" y2=\"19\" />\n",
       "  <line x1=\"175\" y1=\"0\" x2=\"194\" y2=\"19\" />\n",
       "  <line x1=\"188\" y1=\"0\" x2=\"207\" y2=\"19\" />\n",
       "  <line x1=\"201\" y1=\"0\" x2=\"220\" y2=\"19\" />\n",
       "  <line x1=\"215\" y1=\"0\" x2=\"234\" y2=\"19\" style=\"stroke-width:2\" />\n",
       "\n",
       "  <!-- Colored Rectangle -->\n",
       "  <polygon points=\"95.0,0.0 215.0,0.0 234.02765395748793,19.02765395748794 114.02765395748794,19.02765395748794\" style=\"fill:#ECB172A0;stroke-width:0\"/>\n",
       "\n",
       "  <!-- Horizontal lines -->\n",
       "  <line x1=\"114\" y1=\"19\" x2=\"234\" y2=\"19\" style=\"stroke-width:2\" />\n",
       "  <line x1=\"114\" y1=\"32\" x2=\"234\" y2=\"32\" />\n",
       "  <line x1=\"114\" y1=\"45\" x2=\"234\" y2=\"45\" />\n",
       "  <line x1=\"114\" y1=\"59\" x2=\"234\" y2=\"59\" />\n",
       "  <line x1=\"114\" y1=\"72\" x2=\"234\" y2=\"72\" />\n",
       "  <line x1=\"114\" y1=\"85\" x2=\"234\" y2=\"85\" />\n",
       "  <line x1=\"114\" y1=\"99\" x2=\"234\" y2=\"99\" />\n",
       "  <line x1=\"114\" y1=\"112\" x2=\"234\" y2=\"112\" />\n",
       "  <line x1=\"114\" y1=\"125\" x2=\"234\" y2=\"125\" />\n",
       "  <line x1=\"114\" y1=\"139\" x2=\"234\" y2=\"139\" style=\"stroke-width:2\" />\n",
       "\n",
       "  <!-- Vertical lines -->\n",
       "  <line x1=\"114\" y1=\"19\" x2=\"114\" y2=\"139\" style=\"stroke-width:2\" />\n",
       "  <line x1=\"127\" y1=\"19\" x2=\"127\" y2=\"139\" />\n",
       "  <line x1=\"140\" y1=\"19\" x2=\"140\" y2=\"139\" />\n",
       "  <line x1=\"154\" y1=\"19\" x2=\"154\" y2=\"139\" />\n",
       "  <line x1=\"167\" y1=\"19\" x2=\"167\" y2=\"139\" />\n",
       "  <line x1=\"180\" y1=\"19\" x2=\"180\" y2=\"139\" />\n",
       "  <line x1=\"194\" y1=\"19\" x2=\"194\" y2=\"139\" />\n",
       "  <line x1=\"207\" y1=\"19\" x2=\"207\" y2=\"139\" />\n",
       "  <line x1=\"220\" y1=\"19\" x2=\"220\" y2=\"139\" />\n",
       "  <line x1=\"234\" y1=\"19\" x2=\"234\" y2=\"139\" style=\"stroke-width:2\" />\n",
       "\n",
       "  <!-- Colored Rectangle -->\n",
       "  <polygon points=\"114.02765395748794,19.02765395748794 234.02765395748793,19.02765395748794 234.02765395748793,139.02765395748793 114.02765395748794,139.02765395748793\" style=\"fill:#ECB172A0;stroke-width:0\"/>\n",
       "\n",
       "  <!-- Text -->\n",
       "  <text x=\"174.027654\" y=\"159.027654\" font-size=\"1.0rem\" font-weight=\"100\" text-anchor=\"middle\" >2304</text>\n",
       "  <text x=\"254.027654\" y=\"79.027654\" font-size=\"1.0rem\" font-weight=\"100\" text-anchor=\"middle\" transform=\"rotate(-90,254.027654,79.027654)\">2304</text>\n",
       "  <text x=\"94.513827\" y=\"149.513827\" font-size=\"1.0rem\" font-weight=\"100\" text-anchor=\"middle\" transform=\"rotate(45,94.513827,149.513827)\">81</text>\n",
       "</svg>\n",
       "        </td>\n",
       "    </tr>\n",
       "</table>"
      ],
      "text/plain": [
       "dask.array<rechunk-merge, shape=(5, 2, 81, 2304, 2304), dtype=uint16, chunksize=(1, 1, 16, 256, 256), chunktype=numpy.ndarray>"
      ]
     },
     "execution_count": 6,
     "metadata": {},
     "output_type": "execute_result"
    }
   ],
   "source": [
    "dataset.data[0]"
   ]
  },
  {
   "cell_type": "code",
   "execution_count": null,
   "id": "244443a2",
   "metadata": {
    "scrolled": true
   },
   "outputs": [],
   "source": [
    "# --- Visualize in Napari ---\n",
    "# Opens napari with pyramid-aware viewing and color channels\n",
    "# NOT RECOMMENDED FOR VERY LARGE DATASETS!\n",
    "# To visualize lower resolution, build the pyramid and use the start_level argument (last cell).\n",
    "# To visualize the whole dataset at full resolution, convert data into ome-zarr\n",
    "\n",
    "viewer = dataset.visualize()"
   ]
  },
  {
   "cell_type": "code",
   "execution_count": null,
   "id": "26134b63-4cdf-4cd0-878e-cf2328d11793",
   "metadata": {},
   "outputs": [],
   "source": [
    "# --- Visualize in Napari ---\n",
    "# Opens napari with pyramid-aware viewing and color channels, generate lower resolution and load it into memory\n",
    "viewer = dataset.visualize( start_level = 2, in_memory = True )\n",
    "# NOTE: This fails because the dataset only has 1 resolution layer"
   ]
  },
  {
   "cell_type": "code",
   "execution_count": null,
   "id": "d93b67df",
   "metadata": {},
   "outputs": [],
   "source": [
    "# --- Build pyramid if not already ---\n",
    "dataset.build_pyramid(num_levels=5, downscale_factor=2)\n",
    "\n",
    "# --- Optional: Write to OME-Zarr format ---\n",
    "output_path = f\"{main_path}/{dataset_name}.zarr\"\n",
    "manager.write(output_zarr_path)"
   ]
  },
  {
   "cell_type": "code",
   "execution_count": null,
   "id": "4734b7c3-e72c-441d-83fb-bb209dd93df7",
   "metadata": {},
   "outputs": [],
   "source": [
    "# --- Show metadata summary ---\n",
    "for i in dataset.metadata:\n",
    "    print(f\"{i.upper()}: {dataset.metadata[i]}\")\n",
    "print(\"CHUNK SIZE:\", dataset.chunks)"
   ]
  },
  {
   "cell_type": "markdown",
   "id": "b887fe66-21e3-4f0a-a91e-0c9ba2836f8c",
   "metadata": {},
   "source": [
    "# Now we use the ZarrManager to load the new data and display it"
   ]
  },
  {
   "cell_type": "code",
   "execution_count": 14,
   "id": "d3acaba4-c286-4413-b703-57de4a331c1c",
   "metadata": {},
   "outputs": [],
   "source": [
    "input_zarr_path = f\"{main_path}/{dataset_name}.zarr\""
   ]
  },
  {
   "cell_type": "code",
   "execution_count": 15,
   "id": "6cc5dc51-1a87-492d-b82b-348436272746",
   "metadata": {},
   "outputs": [],
   "source": [
    "# --- Initialize manager ---\n",
    "# Here, the argument chunks can be used to specify a preferred chunk (Default: (1,1,16,256,256)\n",
    "# Here, we use the same chunks.\n",
    "zarr_dataset = mm.ZarrManager(path=input_zarr_path, chunks=(1,1,32,2048,2048))"
   ]
  },
  {
   "cell_type": "code",
   "execution_count": 16,
   "id": "4ad14438-aa60-47ed-a9a3-552803148b7b",
   "metadata": {},
   "outputs": [
    {
     "name": "stdout",
     "output_type": "stream",
     "text": [
      "Axes: tczyx\n",
      "Size: [(5, 2, 81, 2304, 2304), (5, 2, 41, 1152, 1152), (5, 2, 21, 576, 576)]\n",
      "Scales: [(1.0, 0.173, 0.173), (2.0, 0.346, 0.346), (4.0, 0.692, 0.692)]\n",
      "Chunk size: (1, 1, 32, 2048, 2048)\n",
      "Channels: ['Hoechst', 'FM4-64']\n",
      "Colors: [16711935, 255]\n",
      "\n",
      "\n",
      "SIZE: [(5, 2, 81, 2304, 2304), (5, 2, 41, 1152, 1152), (5, 2, 21, 576, 576)]\n",
      "SCALES: [(1.0, 0.173, 0.173), (2.0, 0.346, 0.346), (4.0, 0.692, 0.692)]\n",
      "UNITS: ('micrometer', 'micrometer', 'micrometer')\n",
      "TIME_INCREMENT: 900.0\n",
      "TIME_INCREMENT_UNIT: s\n",
      "CHANNEL_NAMES: ['Hoechst', 'FM4-64']\n",
      "CHANNEL_COLORS: [16711935, 255]\n",
      "DTYPE: uint16\n",
      "PLANE_FILES: None\n",
      "AXES: tczyx\n"
     ]
    }
   ],
   "source": [
    "# --- Show metadata summary ---\n",
    "for i in dataset.metadata:\n",
    "    print(f\"{i.upper()}: {dataset.metadata[i]}\")\n",
    "print(\"CHUNK SIZE:\", dataset.chunks)"
   ]
  },
  {
   "cell_type": "code",
   "execution_count": 17,
   "id": "98ddb3a1-34bf-4aee-be06-7544f3846627",
   "metadata": {},
   "outputs": [
    {
     "data": {
      "text/html": [
       "<table>\n",
       "    <tr>\n",
       "        <td>\n",
       "            <table style=\"border-collapse: collapse;\">\n",
       "                <thead>\n",
       "                    <tr>\n",
       "                        <td> </td>\n",
       "                        <th> Array </th>\n",
       "                        <th> Chunk </th>\n",
       "                    </tr>\n",
       "                </thead>\n",
       "                <tbody>\n",
       "                    \n",
       "                    <tr>\n",
       "                        <th> Bytes </th>\n",
       "                        <td> 8.01 GiB </td>\n",
       "                        <td> 256.00 MiB </td>\n",
       "                    </tr>\n",
       "                    \n",
       "                    <tr>\n",
       "                        <th> Shape </th>\n",
       "                        <td> (5, 2, 81, 2304, 2304) </td>\n",
       "                        <td> (1, 1, 32, 2048, 2048) </td>\n",
       "                    </tr>\n",
       "                    <tr>\n",
       "                        <th> Dask graph </th>\n",
       "                        <td colspan=\"2\"> 120 chunks in 3 graph layers </td>\n",
       "                    </tr>\n",
       "                    <tr>\n",
       "                        <th> Data type </th>\n",
       "                        <td colspan=\"2\"> uint16 numpy.ndarray </td>\n",
       "                    </tr>\n",
       "                </tbody>\n",
       "            </table>\n",
       "        </td>\n",
       "        <td>\n",
       "        <svg width=\"379\" height=\"189\" style=\"stroke:rgb(0,0,0);stroke-width:1\" >\n",
       "\n",
       "  <!-- Horizontal lines -->\n",
       "  <line x1=\"0\" y1=\"0\" x2=\"25\" y2=\"0\" style=\"stroke-width:2\" />\n",
       "  <line x1=\"0\" y1=\"5\" x2=\"25\" y2=\"5\" />\n",
       "  <line x1=\"0\" y1=\"10\" x2=\"25\" y2=\"10\" />\n",
       "  <line x1=\"0\" y1=\"15\" x2=\"25\" y2=\"15\" />\n",
       "  <line x1=\"0\" y1=\"20\" x2=\"25\" y2=\"20\" />\n",
       "  <line x1=\"0\" y1=\"25\" x2=\"25\" y2=\"25\" style=\"stroke-width:2\" />\n",
       "\n",
       "  <!-- Vertical lines -->\n",
       "  <line x1=\"0\" y1=\"0\" x2=\"0\" y2=\"25\" style=\"stroke-width:2\" />\n",
       "  <line x1=\"12\" y1=\"0\" x2=\"12\" y2=\"25\" />\n",
       "  <line x1=\"25\" y1=\"0\" x2=\"25\" y2=\"25\" style=\"stroke-width:2\" />\n",
       "\n",
       "  <!-- Colored Rectangle -->\n",
       "  <polygon points=\"0.0,0.0 25.412616514582485,0.0 25.412616514582485,25.412616514582485 0.0,25.412616514582485\" style=\"fill:#ECB172A0;stroke-width:0\"/>\n",
       "\n",
       "  <!-- Text -->\n",
       "  <text x=\"12.706308\" y=\"45.412617\" font-size=\"1.0rem\" font-weight=\"100\" text-anchor=\"middle\" >2</text>\n",
       "  <text x=\"45.412617\" y=\"12.706308\" font-size=\"1.0rem\" font-weight=\"100\" text-anchor=\"middle\" transform=\"rotate(0,45.412617,12.706308)\">5</text>\n",
       "\n",
       "\n",
       "  <!-- Horizontal lines -->\n",
       "  <line x1=\"95\" y1=\"0\" x2=\"114\" y2=\"19\" style=\"stroke-width:2\" />\n",
       "  <line x1=\"95\" y1=\"106\" x2=\"114\" y2=\"125\" />\n",
       "  <line x1=\"95\" y1=\"120\" x2=\"114\" y2=\"139\" style=\"stroke-width:2\" />\n",
       "\n",
       "  <!-- Vertical lines -->\n",
       "  <line x1=\"95\" y1=\"0\" x2=\"95\" y2=\"120\" style=\"stroke-width:2\" />\n",
       "  <line x1=\"102\" y1=\"7\" x2=\"102\" y2=\"127\" />\n",
       "  <line x1=\"110\" y1=\"15\" x2=\"110\" y2=\"135\" />\n",
       "  <line x1=\"114\" y1=\"19\" x2=\"114\" y2=\"139\" style=\"stroke-width:2\" />\n",
       "\n",
       "  <!-- Colored Rectangle -->\n",
       "  <polygon points=\"95.0,0.0 114.02765395748794,19.02765395748794 114.02765395748794,139.02765395748793 95.0,120.0\" style=\"fill:#ECB172A0;stroke-width:0\"/>\n",
       "\n",
       "  <!-- Horizontal lines -->\n",
       "  <line x1=\"95\" y1=\"0\" x2=\"215\" y2=\"0\" style=\"stroke-width:2\" />\n",
       "  <line x1=\"102\" y1=\"7\" x2=\"222\" y2=\"7\" />\n",
       "  <line x1=\"110\" y1=\"15\" x2=\"230\" y2=\"15\" />\n",
       "  <line x1=\"114\" y1=\"19\" x2=\"234\" y2=\"19\" style=\"stroke-width:2\" />\n",
       "\n",
       "  <!-- Vertical lines -->\n",
       "  <line x1=\"95\" y1=\"0\" x2=\"114\" y2=\"19\" style=\"stroke-width:2\" />\n",
       "  <line x1=\"201\" y1=\"0\" x2=\"220\" y2=\"19\" />\n",
       "  <line x1=\"215\" y1=\"0\" x2=\"234\" y2=\"19\" style=\"stroke-width:2\" />\n",
       "\n",
       "  <!-- Colored Rectangle -->\n",
       "  <polygon points=\"95.0,0.0 215.0,0.0 234.02765395748793,19.02765395748794 114.02765395748794,19.02765395748794\" style=\"fill:#ECB172A0;stroke-width:0\"/>\n",
       "\n",
       "  <!-- Horizontal lines -->\n",
       "  <line x1=\"114\" y1=\"19\" x2=\"234\" y2=\"19\" style=\"stroke-width:2\" />\n",
       "  <line x1=\"114\" y1=\"125\" x2=\"234\" y2=\"125\" />\n",
       "  <line x1=\"114\" y1=\"139\" x2=\"234\" y2=\"139\" style=\"stroke-width:2\" />\n",
       "\n",
       "  <!-- Vertical lines -->\n",
       "  <line x1=\"114\" y1=\"19\" x2=\"114\" y2=\"139\" style=\"stroke-width:2\" />\n",
       "  <line x1=\"220\" y1=\"19\" x2=\"220\" y2=\"139\" />\n",
       "  <line x1=\"234\" y1=\"19\" x2=\"234\" y2=\"139\" style=\"stroke-width:2\" />\n",
       "\n",
       "  <!-- Colored Rectangle -->\n",
       "  <polygon points=\"114.02765395748794,19.02765395748794 234.02765395748793,19.02765395748794 234.02765395748793,139.02765395748793 114.02765395748794,139.02765395748793\" style=\"fill:#ECB172A0;stroke-width:0\"/>\n",
       "\n",
       "  <!-- Text -->\n",
       "  <text x=\"174.027654\" y=\"159.027654\" font-size=\"1.0rem\" font-weight=\"100\" text-anchor=\"middle\" >2304</text>\n",
       "  <text x=\"254.027654\" y=\"79.027654\" font-size=\"1.0rem\" font-weight=\"100\" text-anchor=\"middle\" transform=\"rotate(-90,254.027654,79.027654)\">2304</text>\n",
       "  <text x=\"94.513827\" y=\"149.513827\" font-size=\"1.0rem\" font-weight=\"100\" text-anchor=\"middle\" transform=\"rotate(45,94.513827,149.513827)\">81</text>\n",
       "</svg>\n",
       "        </td>\n",
       "    </tr>\n",
       "</table>"
      ],
      "text/plain": [
       "dask.array<rechunk-merge, shape=(5, 2, 81, 2304, 2304), dtype=uint16, chunksize=(1, 1, 32, 2048, 2048), chunktype=numpy.ndarray>"
      ]
     },
     "execution_count": 17,
     "metadata": {},
     "output_type": "execute_result"
    }
   ],
   "source": [
    "zarr_dataset.data[0]"
   ]
  },
  {
   "cell_type": "code",
   "execution_count": 18,
   "id": "16f224a7-fa0f-43c3-b762-29b90658583c",
   "metadata": {},
   "outputs": [
    {
     "name": "stdout",
     "output_type": "stream",
     "text": [
      "9.301416635513306\n"
     ]
    }
   ],
   "source": [
    "# --- Visualize in Napari ---\n",
    "# Opens napari with pyramid-aware viewing and color channels\n",
    "# It reads only the visualizing slice. Faster but not interactive.\n",
    "start = time.time()\n",
    "viewer = zarr_dataset.visualize()\n",
    "print(f\"{time.time()-start}\")"
   ]
  },
  {
   "cell_type": "code",
   "execution_count": 20,
   "id": "5e2fc5b1-7a3b-4385-92de-697ef3bcb3aa",
   "metadata": {},
   "outputs": [
    {
     "name": "stdout",
     "output_type": "stream",
     "text": [
      "25.292306900024414\n"
     ]
    }
   ],
   "source": [
    "start = time.time()\n",
    "viewer = zarr_dataset.visualize(                        \n",
    "                        start_level = 0, \n",
    "                        stop_level = 1, \n",
    "                        in_memory = True \n",
    ")\n",
    "print(f\"{time.time()-start}\")"
   ]
  },
  {
   "cell_type": "code",
   "execution_count": null,
   "id": "ccefc6c3-e5dd-40a4-a3b3-c65206845194",
   "metadata": {},
   "outputs": [],
   "source": []
  }
 ],
 "metadata": {
  "kernelspec": {
   "display_name": "Python 3 (ipykernel)",
   "language": "python",
   "name": "python3"
  },
  "language_info": {
   "codemirror_mode": {
    "name": "ipython",
    "version": 3
   },
   "file_extension": ".py",
   "mimetype": "text/x-python",
   "name": "python",
   "nbconvert_exporter": "python",
   "pygments_lexer": "ipython3",
   "version": "3.10.17"
  }
 },
 "nbformat": 4,
 "nbformat_minor": 5
}

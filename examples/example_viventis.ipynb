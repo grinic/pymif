{
 "cells": [
  {
   "cell_type": "code",
   "execution_count": null,
   "id": "9b661a73",
   "metadata": {},
   "outputs": [],
   "source": [
    "import sys\n",
    "from pathlib import Path\n",
    "\n",
    "# Set manually based on your repo's structure\n",
    "repo_root = Path.cwd().parent  # or Path.cwd() if you're in the repo root\n",
    "sys.path.append(str(repo_root))"
   ]
  },
  {
   "cell_type": "markdown",
   "id": "414b9889-4f79-420d-ae3c-75e007195ae0",
   "metadata": {},
   "source": [
    "# ViventisManager Example Notebook"
   ]
  },
  {
   "cell_type": "code",
   "execution_count": null,
   "id": "c2348794-a7c1-4af8-b48c-a5f664a9ab1d",
   "metadata": {},
   "outputs": [],
   "source": [
    "# --- Imports ---\n",
    "from microscope_manager.viventis_manager import ViventisManager\n",
    "import napari\n",
    "import os"
   ]
  },
  {
   "cell_type": "code",
   "execution_count": null,
   "id": "6a1762e9",
   "metadata": {},
   "outputs": [],
   "source": [
    "# --- Set input data path ---\n",
    "main_path = \"/g/mif/people/gritti/code/pymif_test_data\"\n",
    "dataset_name = \"viventis\"\n",
    "viventis_path = f\"{main_path}/{dataset_name}\"  # Update this to your real path\n"
   ]
  },
  {
   "cell_type": "code",
   "execution_count": null,
   "id": "722b29ff",
   "metadata": {},
   "outputs": [],
   "source": [
    "# --- Initialize manager ---\n",
    "dataset = ViventisManager(path=viventis_path)"
   ]
  },
  {
   "cell_type": "code",
   "execution_count": null,
   "id": "e713e064",
   "metadata": {},
   "outputs": [],
   "source": [
    "# --- Show metadata summary ---\n",
    "print(\"Axes:\", dataset.metadata[\"axes\"])\n",
    "print(\"Size:\", dataset.metadata[\"size\"])\n",
    "print(\"Scales:\", dataset.metadata[\"scales\"])\n",
    "print(\"Chunk size:\", dataset.chunks)\n",
    "print(\"Channels:\", dataset.metadata[\"channel_names\"])\n",
    "print(\"Colors:\", dataset.metadata[\"channel_colors\"])\n",
    "print(\"\\n\")\n",
    "for i in dataset.metadata:\n",
    "    print(f\"{i.upper()}: {dataset.metadata[i]}\")"
   ]
  },
  {
   "cell_type": "code",
   "execution_count": null,
   "id": "432b305f-0b3d-4669-b9b6-623916015444",
   "metadata": {},
   "outputs": [],
   "source": [
    "dataset.data[0]"
   ]
  },
  {
   "cell_type": "code",
   "execution_count": null,
   "id": "244443a2",
   "metadata": {
    "scrolled": true
   },
   "outputs": [],
   "source": [
    "# --- Visualize in Napari ---\n",
    "# Opens napari with pyramid-aware viewing and color channels\n",
    "# NOT RECOMMENDED FOR VERY LARGE DATASETS!\n",
    "# To visualize lower resolution, build the pyramid and use the start_level argument (last cell).\n",
    "# To visualize the whole dataset at full resolution, convert data into ome-zarr\n",
    "\n",
    "viewer = dataset.visualize()"
   ]
  },
  {
   "cell_type": "code",
   "execution_count": null,
   "id": "26134b63-4cdf-4cd0-878e-cf2328d11793",
   "metadata": {},
   "outputs": [],
   "source": [
    "# --- Visualize in Napari ---\n",
    "# Opens napari with pyramid-aware viewing and color channels, generate lower resolution and load it into memory\n",
    "viewer = dataset.visualize( start_level = 2, in_memory = True )\n",
    "# NOTE: This fails because the dataset only has 1 resolution layer"
   ]
  },
  {
   "cell_type": "code",
   "execution_count": null,
   "id": "d93b67df",
   "metadata": {},
   "outputs": [],
   "source": [
    "# --- Build pyramid if not already ---\n",
    "dataset.build_pyramid(num_levels=5, downscale_factor=2)\n",
    "\n",
    "# # --- Optional: Write to OME-Zarr format ---\n",
    "# output_path = f\"{main_path}/{dataset_name}.zarr\"\n",
    "# manager.write(output_zarr_path)"
   ]
  },
  {
   "cell_type": "code",
   "execution_count": null,
   "id": "4734b7c3-e72c-441d-83fb-bb209dd93df7",
   "metadata": {},
   "outputs": [],
   "source": [
    "# --- Show metadata summary ---\n",
    "print(\"Axes:\", dataset.metadata[\"axes\"])\n",
    "print(\"Size:\", dataset.metadata[\"size\"])\n",
    "print(\"Scales:\", dataset.metadata[\"scales\"])\n",
    "print(\"Chunk size:\", dataset.chunks)\n",
    "print(\"Channels:\", dataset.metadata[\"channel_names\"])\n",
    "print(\"Colors:\", dataset.metadata[\"channel_colors\"])\n",
    "print(\"\\n\")\n",
    "for i in dataset.metadata:\n",
    "    print(f\"{i.upper()}: {dataset.metadata[i]}\")"
   ]
  },
  {
   "cell_type": "code",
   "execution_count": null,
   "id": "23cae868-e2bd-4a31-af51-1825a0e21092",
   "metadata": {},
   "outputs": [],
   "source": [
    "# --- Visualize in Napari ---\n",
    "# Opens napari with pyramid-aware viewing and color channels, generate lower resolution and load it into memory\n",
    "viewer = dataset.visualize( start_level = 3, in_memory = True )\n",
    "# NOTE: This now works because the dataset has 5 resolution layers\n",
    "# It takes time because it needs to compute al levels loading them into memory."
   ]
  },
  {
   "cell_type": "code",
   "execution_count": null,
   "id": "15963a2d-4cdb-41ff-897a-ac18e54c9580",
   "metadata": {},
   "outputs": [],
   "source": []
  }
 ],
 "metadata": {
  "kernelspec": {
   "display_name": "Python 3 (ipykernel)",
   "language": "python",
   "name": "python3"
  },
  "language_info": {
   "codemirror_mode": {
    "name": "ipython",
    "version": 3
   },
   "file_extension": ".py",
   "mimetype": "text/x-python",
   "name": "python",
   "nbconvert_exporter": "python",
   "pygments_lexer": "ipython3",
   "version": "3.10.12"
  }
 },
 "nbformat": 4,
 "nbformat_minor": 5
}

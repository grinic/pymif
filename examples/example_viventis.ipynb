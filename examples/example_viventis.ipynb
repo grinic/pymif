{
 "cells": [
  {
   "cell_type": "markdown",
   "id": "414b9889-4f79-420d-ae3c-75e007195ae0",
   "metadata": {},
   "source": [
    "# ViventisManager Example Notebook"
   ]
  },
  {
   "cell_type": "code",
   "execution_count": null,
   "id": "c2348794-a7c1-4af8-b48c-a5f664a9ab1d",
   "metadata": {},
   "outputs": [],
   "source": [
    "# --- Imports ---\n",
    "import pymif.microscope_manager as mm\n",
    "import napari\n",
    "import os\n",
    "import time"
   ]
  },
  {
   "cell_type": "code",
   "execution_count": null,
   "id": "6a1762e9",
   "metadata": {},
   "outputs": [],
   "source": [
    "# --- Set input data path ---\n",
    "main_path = \"/g/mif/people/gritti/code/pymif_test_data\"\n",
    "main_path = \"../../pymif_test_data\"\n",
    "dataset_name = \"viventis\"\n",
    "viventis_path = f\"{main_path}/{dataset_name}\"  # Update this to your real path\n"
   ]
  },
  {
   "cell_type": "code",
   "execution_count": null,
   "id": "722b29ff",
   "metadata": {},
   "outputs": [],
   "source": [
    "# --- Initialize manager ---\n",
    "dataset = mm.ViventisManager(path=viventis_path, chunks=(1,1,64,1024,1024))"
   ]
  },
  {
   "cell_type": "code",
   "execution_count": null,
   "id": "e713e064",
   "metadata": {},
   "outputs": [],
   "source": [
    "# --- Show metadata summary ---\n",
    "for i in dataset.metadata:\n",
    "    print(f\"{i.upper()}: {dataset.metadata[i]}\")\n",
    "print(\"CHUNK SIZE:\", dataset.chunks)"
   ]
  },
  {
   "cell_type": "code",
   "execution_count": null,
   "id": "432b305f-0b3d-4669-b9b6-623916015444",
   "metadata": {},
   "outputs": [],
   "source": [
    "dataset.data[0]"
   ]
  },
  {
   "cell_type": "code",
   "execution_count": null,
   "id": "244443a2",
   "metadata": {
    "scrolled": true
   },
   "outputs": [],
   "source": [
    "# --- Visualize in Napari ---\n",
    "# Opens napari with pyramid-aware viewing and color channels\n",
    "# NOT RECOMMENDED FOR VERY LARGE DATASETS!\n",
    "# To visualize lower resolution, build the pyramid and use the start_level argument (last cell).\n",
    "# To visualize the whole dataset at full resolution, convert data into ome-zarr\n",
    "\n",
    "viewer = dataset.visualize()"
   ]
  },
  {
   "cell_type": "code",
   "execution_count": null,
   "id": "26134b63-4cdf-4cd0-878e-cf2328d11793",
   "metadata": {
    "scrolled": true
   },
   "outputs": [],
   "source": [
    "# --- Visualize in Napari ---\n",
    "# Opens napari with pyramid-aware viewing and color channels, generate lower resolution and load it into memory\n",
    "viewer = dataset.visualize( start_level = 2, in_memory = True )\n",
    "# NOTE: This fails because the dataset only has 1 resolution layer"
   ]
  },
  {
   "cell_type": "code",
   "execution_count": null,
   "id": "d93b67df",
   "metadata": {},
   "outputs": [],
   "source": [
    "# --- Build pyramid if not already ---\n",
    "dataset.build_pyramid(num_levels=5, downscale_factor=2)\n",
    "\n",
    "# --- Optional: Write to OME-Zarr format ---\n",
    "output_zarr_path = f\"{main_path}/{dataset_name}.zarr\"\n",
    "dataset.write(output_zarr_path)"
   ]
  },
  {
   "cell_type": "code",
   "execution_count": null,
   "id": "4734b7c3-e72c-441d-83fb-bb209dd93df7",
   "metadata": {},
   "outputs": [],
   "source": [
    "# --- Show metadata summary ---\n",
    "for i in dataset.metadata:\n",
    "    print(f\"{i.upper()}: {dataset.metadata[i]}\")\n",
    "print(\"CHUNK SIZE:\", dataset.chunks)"
   ]
  },
  {
   "cell_type": "markdown",
   "id": "b887fe66-21e3-4f0a-a91e-0c9ba2836f8c",
   "metadata": {},
   "source": [
    "# Now we use the ZarrManager to load the new data and display it"
   ]
  },
  {
   "cell_type": "code",
   "execution_count": null,
   "id": "d3acaba4-c286-4413-b703-57de4a331c1c",
   "metadata": {},
   "outputs": [],
   "source": [
    "input_zarr_path = f\"{main_path}/{dataset_name}.zarr\""
   ]
  },
  {
   "cell_type": "code",
   "execution_count": null,
   "id": "6cc5dc51-1a87-492d-b82b-348436272746",
   "metadata": {},
   "outputs": [],
   "source": [
    "# --- Initialize manager ---\n",
    "# Here, the argument chunks can be used to specify a preferred chunk (Default: (1,1,16,256,256)\n",
    "# Here, we use the same chunks.\n",
    "zarr_dataset = mm.ZarrManager(path=input_zarr_path)"
   ]
  },
  {
   "cell_type": "code",
   "execution_count": null,
   "id": "4ad14438-aa60-47ed-a9a3-552803148b7b",
   "metadata": {},
   "outputs": [],
   "source": [
    "# --- Show metadata summary ---\n",
    "for i in zarr_dataset.metadata:\n",
    "    print(f\"{i.upper()}: {zarr_dataset.metadata[i]}\")\n",
    "print(\"CHUNK SIZE:\", zarr_dataset.chunks)"
   ]
  },
  {
   "cell_type": "code",
   "execution_count": null,
   "id": "d537c6ed-5dd8-4d55-b7f0-e3170e502dbe",
   "metadata": {},
   "outputs": [],
   "source": [
    "zarr_dataset.data"
   ]
  },
  {
   "cell_type": "code",
   "execution_count": null,
   "id": "16f224a7-fa0f-43c3-b762-29b90658583c",
   "metadata": {},
   "outputs": [],
   "source": [
    "# --- Visualize in Napari ---\n",
    "# Opens napari with pyramid-aware viewing and color channels\n",
    "# It reads only the visualizing slice. Faster but not interactive.\n",
    "start = time.time()\n",
    "viewer = zarr_dataset.visualize()\n",
    "print(f\"{time.time()-start}\")"
   ]
  },
  {
   "cell_type": "code",
   "execution_count": null,
   "id": "5e2fc5b1-7a3b-4385-92de-697ef3bcb3aa",
   "metadata": {},
   "outputs": [],
   "source": [
    "start = time.time()\n",
    "viewer = zarr_dataset.visualize(                        \n",
    "                        start_level = 0, \n",
    "                        stop_level = 2, \n",
    "                        in_memory = True \n",
    ")\n",
    "print(f\"{time.time()-start}\")"
   ]
  },
  {
   "cell_type": "markdown",
   "id": "c62a3511-a932-4ff9-8b58-2d27e5d4c65b",
   "metadata": {},
   "source": []
  }
 ],
 "metadata": {
  "kernelspec": {
   "display_name": "Python 3 (ipykernel)",
   "language": "python",
   "name": "python3"
  },
  "language_info": {
   "codemirror_mode": {
    "name": "ipython",
    "version": 3
   },
   "file_extension": ".py",
   "mimetype": "text/x-python",
   "name": "python",
   "nbconvert_exporter": "python",
   "pygments_lexer": "ipython3",
   "version": "3.10.17"
  }
 },
 "nbformat": 4,
 "nbformat_minor": 5
}

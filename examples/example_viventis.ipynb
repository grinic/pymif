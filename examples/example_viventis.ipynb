{
 "cells": [
  {
   "cell_type": "code",
   "execution_count": null,
   "id": "9b661a73",
   "metadata": {},
   "outputs": [
    {
     "ename": "ModuleNotFoundError",
     "evalue": "No module named 'microscope_manager'",
     "output_type": "error",
     "traceback": [
      "\u001b[1;31m---------------------------------------------------------------------------\u001b[0m",
      "\u001b[1;31mModuleNotFoundError\u001b[0m                       Traceback (most recent call last)",
      "Cell \u001b[1;32mIn[3], line 4\u001b[0m\n\u001b[0;32m      1\u001b[0m \u001b[38;5;66;03m# ViventisManager Example Notebook\u001b[39;00m\n\u001b[0;32m      2\u001b[0m \n\u001b[0;32m      3\u001b[0m \u001b[38;5;66;03m# --- Imports ---\u001b[39;00m\n\u001b[1;32m----> 4\u001b[0m \u001b[38;5;28;01mfrom\u001b[39;00m \u001b[38;5;21;01mmicroscope_manager\u001b[39;00m\u001b[38;5;21;01m.\u001b[39;00m\u001b[38;5;21;01mviventis_manager\u001b[39;00m \u001b[38;5;28;01mimport\u001b[39;00m ViventisManager\n\u001b[0;32m      5\u001b[0m \u001b[38;5;28;01mimport\u001b[39;00m \u001b[38;5;21;01mnapari\u001b[39;00m\n\u001b[0;32m      6\u001b[0m \u001b[38;5;28;01mimport\u001b[39;00m \u001b[38;5;21;01mos\u001b[39;00m\n",
      "\u001b[1;31mModuleNotFoundError\u001b[0m: No module named 'microscope_manager'"
     ]
    }
   ],
   "source": [
    "import sys\n",
    "from pathlib import Path\n",
    "\n",
    "# Add the parent directory of 'microscope_manager' to sys.path\n",
    "repo_root = Path(__file__).resolve().parent.parent\n",
    "sys.path.append(str(repo_root))"
   ]
  },
  {
   "cell_type": "code",
   "execution_count": null,
   "id": "a7e7dad0",
   "metadata": {},
   "outputs": [],
   "source": [
    "# ViventisManager Example Notebook\n",
    "\n",
    "# --- Imports ---\n",
    "from microscope_manager.viventis_manager import ViventisManager\n",
    "import napari\n",
    "import os"
   ]
  },
  {
   "cell_type": "code",
   "execution_count": null,
   "id": "6a1762e9",
   "metadata": {},
   "outputs": [],
   "source": [
    "# --- Set input data path ---\n",
    "viventis_path = \"/path/to/your/viventis/position_folder\"  # Update this to your real path\n"
   ]
  },
  {
   "cell_type": "code",
   "execution_count": null,
   "id": "722b29ff",
   "metadata": {},
   "outputs": [],
   "source": [
    "# --- Initialize manager ---\n",
    "manager = ViventisManager(path=viventis_path)\n"
   ]
  },
  {
   "cell_type": "code",
   "execution_count": null,
   "id": "88317d30",
   "metadata": {},
   "outputs": [],
   "source": [
    "# --- Access data and metadata ---\n",
    "data = manager.data          # List of Dask arrays (1 per resolution level)\n",
    "metadata = manager.metadata  # Dict with axes, scales, units, channel names, etc."
   ]
  },
  {
   "cell_type": "code",
   "execution_count": null,
   "id": "e713e064",
   "metadata": {},
   "outputs": [],
   "source": [
    "# --- Show metadata summary ---\n",
    "print(\"Axes:\", metadata[\"axes\"])\n",
    "print(\"Size:\", metadata[\"size\"][0])\n",
    "print(\"Scales:\", metadata[\"scales\"])\n",
    "print(\"Channels:\", metadata[\"channel_names\"])\n",
    "print(\"Colors:\", metadata[\"channel_colors\"])"
   ]
  },
  {
   "cell_type": "code",
   "execution_count": null,
   "id": "244443a2",
   "metadata": {},
   "outputs": [],
   "source": [
    "# --- Visualize in Napari ---\n",
    "# Opens napari with pyramid-aware viewing and color channels\n",
    "viewer = manager.visualize()"
   ]
  },
  {
   "cell_type": "code",
   "execution_count": null,
   "id": "d93b67df",
   "metadata": {},
   "outputs": [],
   "source": [
    "# --- Optional: Build pyramid if not already ---\n",
    "# manager.build_pyramid(num_levels=3, downscale=2)\n",
    "\n",
    "# --- Optional: Write to OME-Zarr format ---\n",
    "# output_zarr_path = \"/path/to/output/test.zarr\"\n",
    "# manager.write(output_zarr_path)"
   ]
  }
 ],
 "metadata": {
  "kernelspec": {
   "display_name": "Python 3",
   "language": "python",
   "name": "python3"
  },
  "language_info": {
   "codemirror_mode": {
    "name": "ipython",
    "version": 3
   },
   "file_extension": ".py",
   "mimetype": "text/x-python",
   "name": "python",
   "nbconvert_exporter": "python",
   "pygments_lexer": "ipython3",
   "version": "3.10.14"
  }
 },
 "nbformat": 4,
 "nbformat_minor": 5
}

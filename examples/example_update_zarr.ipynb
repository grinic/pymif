{
 "cells": [
  {
   "cell_type": "markdown",
   "id": "33f2577b-c38c-473e-9f0f-39d5ab2259d3",
   "metadata": {},
   "source": [
    "# ZarrManager example"
   ]
  },
  {
   "cell_type": "code",
   "execution_count": 1,
   "id": "f848bb30-b802-4b11-9974-8535583a0ee6",
   "metadata": {},
   "outputs": [],
   "source": [
    "# --- Imports ---\n",
    "import pymif.microscope_manager as mm\n",
    "import napari\n",
    "import os\n",
    "import time"
   ]
  },
  {
   "cell_type": "code",
   "execution_count": 8,
   "id": "3f023fe4-82c8-4a07-b8ef-055660a8ccf0",
   "metadata": {},
   "outputs": [],
   "source": [
    "# --- Set input data path ---\n",
    "main_path = \"../../pymif_test_data/zarr\"\n",
    "dataset_name = \"viventis_5T_2C_81Z_2304Y_2304X\"\n",
    "dataset_name = \"viventis_5T_2C_8Z_128Y_128X\"\n",
    "input_zarr_path = f\"{main_path}/{dataset_name}.zarr\"\n"
   ]
  },
  {
   "cell_type": "code",
   "execution_count": 9,
   "id": "45861511-1cee-49d2-8442-67c459849101",
   "metadata": {},
   "outputs": [],
   "source": [
    "# --- Initialize manager ---\n",
    "# Here, the argument chunks can be used to specify a preferred chunk (Default: None = zarr native chunks)\n",
    "zarr_dataset = mm.ZarrManager(path=input_zarr_path)"
   ]
  },
  {
   "cell_type": "code",
   "execution_count": 10,
   "id": "6c237587-3050-4c37-a641-f6db7d56db3a",
   "metadata": {},
   "outputs": [
    {
     "name": "stdout",
     "output_type": "stream",
     "text": [
      "SIZE: [(5, 2, 8, 128, 128), (5, 2, 4, 64, 64), (5, 2, 2, 32, 32)]\n",
      "CHUNKSIZE: [(1, 1, 8, 128, 128), (1, 1, 4, 64, 64), (1, 1, 2, 32, 32)]\n",
      "SCALES: [(4.0, 0.692, 0.692), (8.0, 1.384, 1.384), (16.0, 2.768, 2.768)]\n",
      "UNITS: ('micrometer', 'micrometer', 'micrometer')\n",
      "TIME_INCREMENT: 900.0\n",
      "TIME_INCREMENT_UNIT: s\n",
      "CHANNEL_NAMES: ['Hoechst', 'FM4-64']\n",
      "CHANNEL_COLORS: [16711935, 255]\n",
      "DTYPE: uint16\n",
      "PLANE_FILES: None\n",
      "AXES: tczyx\n"
     ]
    }
   ],
   "source": [
    "# --- Show metadata summary ---\n",
    "for i in zarr_dataset.metadata:\n",
    "    print(f\"{i.upper()}: {zarr_dataset.metadata[i]}\")"
   ]
  },
  {
   "cell_type": "code",
   "execution_count": 11,
   "id": "00a67116-b26f-43b6-b48e-39d921dfe13d",
   "metadata": {},
   "outputs": [
    {
     "data": {
      "text/plain": [
       "[dask.array<from-zarr, shape=(5, 2, 8, 128, 128), dtype=uint16, chunksize=(1, 1, 8, 128, 128), chunktype=numpy.ndarray>,\n",
       " dask.array<from-zarr, shape=(5, 2, 4, 64, 64), dtype=uint16, chunksize=(1, 1, 4, 64, 64), chunktype=numpy.ndarray>,\n",
       " dask.array<from-zarr, shape=(5, 2, 2, 32, 32), dtype=uint16, chunksize=(1, 1, 2, 32, 32), chunktype=numpy.ndarray>]"
      ]
     },
     "execution_count": 11,
     "metadata": {},
     "output_type": "execute_result"
    }
   ],
   "source": [
    "zarr_dataset.data"
   ]
  },
  {
   "cell_type": "markdown",
   "id": "88fe7c0e-bd05-4ee2-a0a7-d0891985c22f",
   "metadata": {},
   "source": [
    "## Create a copy and modify it"
   ]
  },
  {
   "cell_type": "code",
   "execution_count": 13,
   "id": "6fb5a50f-76ef-4e0b-a406-e8596a3df3fd",
   "metadata": {},
   "outputs": [
    {
     "name": "stdout",
     "output_type": "stream",
     "text": [
      "Start writing dataset.\n"
     ]
    },
    {
     "name": "stderr",
     "output_type": "stream",
     "text": [
      "C:\\Users\\nicol\\Documents\\GitHub\\pymif\\pymif\\microscope_manager\\utils\\write.py:63: FutureWarning: The NestedDirectoryStore is deprecated and will be removed in a Zarr-Python version 3, see https://github.com/zarr-developers/zarr-python/issues/1274 for more information.\n",
      "  store = zarr.NestedDirectoryStore(str(store_path))\n"
     ]
    },
    {
     "name": "stdout",
     "output_type": "stream",
     "text": [
      "Writing pyramid.\n"
     ]
    }
   ],
   "source": [
    "output_zarr_path = f\"{main_path}/{dataset_name}_copy.zarr\"\n",
    "\n",
    "zarr_dataset.write(output_zarr_path)\n",
    "\n",
    "zarr_dataset_copy = mm.ZarrManager(path=output_zarr_path)"
   ]
  },
  {
   "cell_type": "code",
   "execution_count": 14,
   "id": "d2408047",
   "metadata": {},
   "outputs": [
    {
     "name": "stderr",
     "output_type": "stream",
     "text": [
      "WARNING: QWindowsWindow::setGeometry: Unable to set geometry 2172x1310+340+166 (frame: 2194x1366+329+121) on QWidgetWindow/\"_QtMainWindowClassWindow\" on \"\\\\.\\DISPLAY1\". Resulting geometry: 3260x1570+343+180 (frame: 3282x1626+332+135) margins: 11, 45, 11, 11 minimum size: 385x492 MINMAXINFO maxSize=0,0 maxpos=0,0 mintrack=792,1040 maxtrack=0,0)\n"
     ]
    },
    {
     "data": {
      "text/plain": [
       "Viewer(camera=Camera(center=(0.0, 43.942, 43.942), zoom=6.435151734104046, angles=(0.0, 0.0, 90.0), perspective=0.0, mouse_pan=True, mouse_zoom=True, orientation=(<DepthAxisOrientation.TOWARDS: 'towards'>, <VerticalAxisOrientation.DOWN: 'down'>, <HorizontalAxisOrientation.RIGHT: 'right'>)), cursor=Cursor(position=(1800.0, 12.0, 0.0, 0.0), viewbox=None, scaled=True, style=<CursorStyle.STANDARD: 'standard'>, size=1.0), dims=Dims(ndim=4, ndisplay=2, order=(0, 1, 2, 3), axis_labels=('0', '1', '2', '3'), rollable=(True, True, True, True), range=(RangeTuple(start=0.0, stop=3600.0, step=900.0), RangeTuple(start=0.0, stop=28.0, step=4.0), RangeTuple(start=0.0, stop=87.884, step=0.692), RangeTuple(start=0.0, stop=87.884, step=0.692)), margin_left=(0.0, 0.0, 0.0, 0.0), margin_right=(0.0, 0.0, 0.0, 0.0), point=(1800.0, 12.0, 43.596, 43.596), last_used=0), grid=GridCanvas(stride=1, shape=(-1, -1), enabled=False, spacing=0.0), layers=[<Image layer 'Hoechst' at 0x1ec82156a40>, <Image layer 'FM4-64' at 0x1ec852475e0>], help='use <2> for transform', status='Ready', tooltip=Tooltip(visible=False, text=''), theme='dark', title='napari', mouse_over_canvas=False, mouse_move_callbacks=[], mouse_drag_callbacks=[<function drag_to_zoom at 0x000001EC151F52D0>], mouse_double_click_callbacks=[<function double_click_to_zoom at 0x000001EC151F4820>], mouse_wheel_callbacks=[<function dims_scroll at 0x000001EC151F51B0>], _persisted_mouse_event={}, _mouse_drag_gen={}, _mouse_wheel_gen={}, _keymap={})"
      ]
     },
     "execution_count": 14,
     "metadata": {},
     "output_type": "execute_result"
    }
   ],
   "source": [
    "zarr_dataset_copy.visualize_zarr()"
   ]
  },
  {
   "cell_type": "code",
   "execution_count": 16,
   "id": "0d82fb47",
   "metadata": {},
   "outputs": [
    {
     "data": {
      "text/plain": [
       "(5, 2, 8, 128, 128)"
      ]
     },
     "execution_count": 16,
     "metadata": {},
     "output_type": "execute_result"
    }
   ],
   "source": [
    "zarr_dataset_copy.data[0].shape"
   ]
  },
  {
   "cell_type": "code",
   "execution_count": null,
   "id": "2e350377-6064-4a78-b961-9ed5991840d8",
   "metadata": {},
   "outputs": [],
   "source": [
    "zarr_dataset.write_region()"
   ]
  }
 ],
 "metadata": {
  "kernelspec": {
   "display_name": "pymif",
   "language": "python",
   "name": "python3"
  },
  "language_info": {
   "codemirror_mode": {
    "name": "ipython",
    "version": 3
   },
   "file_extension": ".py",
   "mimetype": "text/x-python",
   "name": "python",
   "nbconvert_exporter": "python",
   "pygments_lexer": "ipython3",
   "version": "3.10.18"
  }
 },
 "nbformat": 4,
 "nbformat_minor": 5
}

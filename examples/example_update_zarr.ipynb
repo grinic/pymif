{
 "cells": [
  {
   "cell_type": "markdown",
   "id": "33f2577b-c38c-473e-9f0f-39d5ab2259d3",
   "metadata": {},
   "source": [
    "# ZarrManager example"
   ]
  },
  {
   "cell_type": "code",
   "execution_count": 1,
   "id": "f848bb30-b802-4b11-9974-8535583a0ee6",
   "metadata": {},
   "outputs": [],
   "source": [
    "# --- Imports ---\n",
    "import pymif.microscope_manager as mm\n",
    "import napari\n",
    "import os\n",
    "import time"
   ]
  },
  {
   "cell_type": "code",
   "execution_count": 2,
   "id": "3f023fe4-82c8-4a07-b8ef-055660a8ccf0",
   "metadata": {},
   "outputs": [],
   "source": [
    "# --- Set input data path ---\n",
    "main_path = \"../../pyimif_test_data/zarr\"\n",
    "# dataset_name = \"viventis_5T_2C_81Z_2304Y_2304X\"\n",
    "dataset_name = \"viventis_5T_2C_8Z_128Y_128X\"\n",
    "input_zarr_path = f\"{main_path}/{dataset_name}.zarr\"\n"
   ]
  },
  {
   "cell_type": "code",
   "execution_count": 3,
   "id": "45861511-1cee-49d2-8442-67c459849101",
   "metadata": {},
   "outputs": [],
   "source": [
    "# --- Initialize manager ---\n",
    "# Here, the argument chunks can be used to specify a preferred chunk (Default: None = zarr native chunks)\n",
    "zarr_dataset = mm.ZarrManager(path=input_zarr_path)"
   ]
  },
  {
   "cell_type": "code",
   "execution_count": 4,
   "id": "6c237587-3050-4c37-a641-f6db7d56db3a",
   "metadata": {},
   "outputs": [
    {
     "name": "stdout",
     "output_type": "stream",
     "text": [
      "SIZE: [(5, 2, 8, 128, 128), (5, 2, 4, 64, 64), (5, 2, 2, 32, 32), (5, 2, 1, 16, 16), (5, 2, 1, 8, 8)]\n",
      "CHUNKSIZE: [(1, 1, 8, 128, 128), (1, 1, 4, 64, 64), (1, 1, 2, 32, 32), (1, 1, 1, 16, 16), (1, 1, 1, 8, 8)]\n",
      "SCALES: [(4.0, 0.692, 0.692), (8.0, 1.384, 1.384), (16.0, 2.768, 2.768), (32.0, 5.536, 5.536), (64.0, 11.072, 11.072)]\n",
      "UNITS: ('micrometer', 'micrometer', 'micrometer')\n",
      "TIME_INCREMENT: 900.0\n",
      "TIME_INCREMENT_UNIT: s\n",
      "CHANNEL_NAMES: ['Hoechst', 'FM4-64']\n",
      "CHANNEL_COLORS: [16711935, 255]\n",
      "DTYPE: uint16\n",
      "PLANE_FILES: None\n",
      "AXES: tczyx\n",
      "LABELS_METADATA: {'membranes': {'data': [dask.array<from-zarr, shape=(5, 8, 128, 128), dtype=int32, chunksize=(1, 8, 128, 128), chunktype=numpy.ndarray>, dask.array<from-zarr, shape=(5, 4, 64, 64), dtype=int32, chunksize=(1, 4, 64, 64), chunktype=numpy.ndarray>, dask.array<from-zarr, shape=(5, 2, 32, 32), dtype=int32, chunksize=(1, 2, 32, 32), chunktype=numpy.ndarray>, dask.array<from-zarr, shape=(5, 1, 16, 16), dtype=int32, chunksize=(1, 1, 16, 16), chunktype=numpy.ndarray>, dask.array<from-zarr, shape=(5, 1, 8, 8), dtype=int32, chunksize=(1, 1, 8, 8), chunktype=numpy.ndarray>], 'scale': [4.0, 0.692, 0.692], 'color': 'cyan', 'opacity': 0.5}, 'nuclei': {'data': [dask.array<from-zarr, shape=(5, 8, 128, 128), dtype=int32, chunksize=(1, 8, 128, 128), chunktype=numpy.ndarray>, dask.array<from-zarr, shape=(5, 4, 64, 64), dtype=int32, chunksize=(1, 4, 64, 64), chunktype=numpy.ndarray>, dask.array<from-zarr, shape=(5, 2, 32, 32), dtype=int32, chunksize=(1, 2, 32, 32), chunktype=numpy.ndarray>, dask.array<from-zarr, shape=(5, 1, 16, 16), dtype=int32, chunksize=(1, 1, 16, 16), chunktype=numpy.ndarray>, dask.array<from-zarr, shape=(5, 1, 8, 8), dtype=int32, chunksize=(1, 1, 8, 8), chunktype=numpy.ndarray>], 'scale': [4.0, 0.692, 0.692], 'color': 'magenta', 'opacity': 0.5}}\n"
     ]
    }
   ],
   "source": [
    "# --- Show metadata summary ---\n",
    "for i in zarr_dataset.metadata:\n",
    "    print(f\"{i.upper()}: {zarr_dataset.metadata[i]}\")"
   ]
  },
  {
   "cell_type": "code",
   "execution_count": 5,
   "id": "00a67116-b26f-43b6-b48e-39d921dfe13d",
   "metadata": {},
   "outputs": [
    {
     "data": {
      "text/plain": [
       "[dask.array<from-zarr, shape=(5, 2, 8, 128, 128), dtype=uint16, chunksize=(1, 1, 8, 128, 128), chunktype=numpy.ndarray>,\n",
       " dask.array<from-zarr, shape=(5, 2, 4, 64, 64), dtype=uint16, chunksize=(1, 1, 4, 64, 64), chunktype=numpy.ndarray>,\n",
       " dask.array<from-zarr, shape=(5, 2, 2, 32, 32), dtype=uint16, chunksize=(1, 1, 2, 32, 32), chunktype=numpy.ndarray>,\n",
       " dask.array<from-zarr, shape=(5, 2, 1, 16, 16), dtype=uint16, chunksize=(1, 1, 1, 16, 16), chunktype=numpy.ndarray>,\n",
       " dask.array<from-zarr, shape=(5, 2, 1, 8, 8), dtype=uint16, chunksize=(1, 1, 1, 8, 8), chunktype=numpy.ndarray>]"
      ]
     },
     "execution_count": 5,
     "metadata": {},
     "output_type": "execute_result"
    }
   ],
   "source": [
    "zarr_dataset.data"
   ]
  },
  {
   "cell_type": "code",
   "execution_count": 6,
   "id": "b44dd8b4",
   "metadata": {},
   "outputs": [],
   "source": [
    "# zarr_dataset.visualize_zarr()"
   ]
  },
  {
   "cell_type": "code",
   "execution_count": 7,
   "id": "fa2c3bf8",
   "metadata": {},
   "outputs": [
    {
     "name": "stdout",
     "output_type": "stream",
     "text": [
      "/\n",
      " ├── 0 (5, 2, 8, 128, 128) uint16\n",
      " ├── 1 (5, 2, 4, 64, 64) uint16\n",
      " ├── 2 (5, 2, 2, 32, 32) uint16\n",
      " ├── 3 (5, 2, 1, 16, 16) uint16\n",
      " ├── 4 (5, 2, 1, 8, 8) uint16\n",
      " └── labels\n",
      "     ├── membranes\n",
      "     │   ├── 0 (5, 8, 128, 128) int32\n",
      "     │   ├── 1 (5, 4, 64, 64) int32\n",
      "     │   ├── 2 (5, 2, 32, 32) int32\n",
      "     │   ├── 3 (5, 1, 16, 16) int32\n",
      "     │   └── 4 (5, 1, 8, 8) int32\n",
      "     └── nuclei\n",
      "         ├── 0 (5, 8, 128, 128) int32\n",
      "         ├── 1 (5, 4, 64, 64) int32\n",
      "         ├── 2 (5, 2, 32, 32) int32\n",
      "         ├── 3 (5, 1, 16, 16) int32\n",
      "         └── 4 (5, 1, 8, 8) int32\n"
     ]
    }
   ],
   "source": [
    "import zarr\n",
    "root = zarr.open(input_zarr_path)\n",
    "print(root.tree())"
   ]
  },
  {
   "cell_type": "markdown",
   "id": "88fe7c0e-bd05-4ee2-a0a7-d0891985c22f",
   "metadata": {},
   "source": [
    "## Create a copy and modify it"
   ]
  },
  {
   "cell_type": "code",
   "execution_count": 8,
   "id": "6fb5a50f-76ef-4e0b-a406-e8596a3df3fd",
   "metadata": {},
   "outputs": [],
   "source": [
    "output_zarr_path = f\"{main_path}/{dataset_name}_copy.zarr\""
   ]
  },
  {
   "cell_type": "code",
   "execution_count": 9,
   "id": "c4d52d58",
   "metadata": {},
   "outputs": [],
   "source": [
    "# zarr_dataset.write(output_zarr_path)"
   ]
  },
  {
   "cell_type": "code",
   "execution_count": 10,
   "id": "45230c16",
   "metadata": {},
   "outputs": [],
   "source": [
    "zarr_dataset_copy = mm.ZarrManager(path=output_zarr_path, mode=\"r+\")"
   ]
  },
  {
   "cell_type": "code",
   "execution_count": 11,
   "id": "d2408047",
   "metadata": {},
   "outputs": [
    {
     "name": "stderr",
     "output_type": "stream",
     "text": [
      "WARNING: QWindowsWindow::setGeometry: Unable to set geometry 2172x1310+586+140 (frame: 2194x1366+575+95) on QWidgetWindow/\"_QtMainWindowClassWindow\" on \"\\\\.\\DISPLAY1\". Resulting geometry: 3260x1570+589+154 (frame: 3282x1626+578+109) margins: 11, 45, 11, 11 minimum size: 385x492 MINMAXINFO maxSize=0,0 maxpos=0,0 mintrack=792,1040 maxtrack=0,0)\n"
     ]
    },
    {
     "data": {
      "text/plain": [
       "Viewer(camera=Camera(center=(0.0, 43.942, 43.942), zoom=6.435151734104046, angles=(0.0, 0.0, 90.0), perspective=0.0, mouse_pan=True, mouse_zoom=True, orientation=(<DepthAxisOrientation.TOWARDS: 'towards'>, <VerticalAxisOrientation.DOWN: 'down'>, <HorizontalAxisOrientation.RIGHT: 'right'>)), cursor=Cursor(position=(1800.0, 12.0, 0.0, 0.0), viewbox=None, scaled=True, style=<CursorStyle.STANDARD: 'standard'>, size=6.92), dims=Dims(ndim=4, ndisplay=2, order=(0, 1, 2, 3), axis_labels=('0', '1', '2', '3'), rollable=(True, True, True, True), range=(RangeTuple(start=0.0, stop=3600.0, step=900.0), RangeTuple(start=0.0, stop=28.0, step=4.0), RangeTuple(start=0.0, stop=87.884, step=0.692), RangeTuple(start=0.0, stop=87.884, step=0.692)), margin_left=(0.0, 0.0, 0.0, 0.0), margin_right=(0.0, 0.0, 0.0, 0.0), point=(1800.0, 12.0, 43.596, 43.596), last_used=0), grid=GridCanvas(stride=1, shape=(-1, -1), enabled=False, spacing=0.0), layers=[<Image layer 'Hoechst' at 0x1db00062590>, <Image layer 'FM4-64' at 0x1dafd159240>, <Labels layer '/labels/nuclei' at 0x1db00092d40>, <Labels layer '/labels/membranes' at 0x1db00092d70>], help='use <7> for transform, use <1> for activate the label eraser, use <2> for activate the paint brush, use <3> for activate the polygon tool, use <4> for activate the fill bucket, use <5> for pick mode', status='Ready', tooltip=Tooltip(visible=False, text=''), theme='dark', title='napari', mouse_over_canvas=False, mouse_move_callbacks=[], mouse_drag_callbacks=[<function drag_to_zoom at 0x000001DAFA741CF0>], mouse_double_click_callbacks=[<function double_click_to_zoom at 0x000001DAFA741240>], mouse_wheel_callbacks=[<function dims_scroll at 0x000001DAFA741BD0>], _persisted_mouse_event={}, _mouse_drag_gen={}, _mouse_wheel_gen={}, _keymap={})"
      ]
     },
     "execution_count": 11,
     "metadata": {},
     "output_type": "execute_result"
    }
   ],
   "source": [
    "viewer = napari.Viewer()\n",
    "zarr_dataset_copy.visualize_zarr(viewer=viewer)"
   ]
  },
  {
   "cell_type": "code",
   "execution_count": null,
   "id": "8224f0ca",
   "metadata": {},
   "outputs": [],
   "source": [
    "import numpy as np\n",
    "subdata = [\n",
    "    0*np.random.randint(0,1000, (5,1,8,64,64)),\n",
    "    0*np.random.randint(0,1000, (5,1,4,32,32)),\n",
    "    0*np.random.randint(0,1000, (5,1,2,16,16)),\n",
    "    0*np.random.randint(0,1000, (5,1,1,8,8)),\n",
    "    0*np.random.randint(0,1000, (5,1,1,4,4)),\n",
    "]\n",
    "\n",
    "subdata_labels = [\n",
    "    0*np.random.randint(0,1000, (5,8,64,64)),\n",
    "    0*np.random.randint(0,1000, (5,4,32,32)),\n",
    "    0*np.random.randint(0,1000, (5,2,16,16)),\n",
    "    0*np.random.randint(0,1000, (5,1,8,8)),\n",
    "    0*np.random.randint(0,1000, (5,1,4,4)),\n",
    "]\n"
   ]
  },
  {
   "cell_type": "code",
   "execution_count": null,
   "id": "2e350377-6064-4a78-b961-9ed5991840d8",
   "metadata": {},
   "outputs": [
    {
     "name": "stdout",
     "output_type": "stream",
     "text": [
      "<zarr.hierarchy.Group '/labels/membranes'>\n"
     ]
    },
    {
     "ename": "IndexError",
     "evalue": "too many indices for array; expected 4, got 5",
     "output_type": "error",
     "traceback": [
      "\u001b[1;31m---------------------------------------------------------------------------\u001b[0m",
      "\u001b[1;31mIndexError\u001b[0m                                Traceback (most recent call last)",
      "Cell \u001b[1;32mIn[13], line 1\u001b[0m\n\u001b[1;32m----> 1\u001b[0m \u001b[43mzarr_dataset_copy\u001b[49m\u001b[38;5;241;43m.\u001b[39;49m\u001b[43mwrite_region\u001b[49m\u001b[43m(\u001b[49m\n\u001b[0;32m      2\u001b[0m \u001b[43m    \u001b[49m\u001b[38;5;66;43;03m# zarr.open(output_zarr_path, mode=\"r+\"),\u001b[39;49;00m\n\u001b[0;32m      3\u001b[0m \u001b[43m    \u001b[49m\u001b[38;5;66;43;03m# mode = \"r+\",\u001b[39;49;00m\n\u001b[0;32m      4\u001b[0m \u001b[43m    \u001b[49m\u001b[43mdata\u001b[49m\u001b[43m \u001b[49m\u001b[38;5;241;43m=\u001b[39;49m\u001b[43m \u001b[49m\u001b[43msubdata\u001b[49m\u001b[43m[\u001b[49m\u001b[38;5;241;43m1\u001b[39;49m\u001b[43m]\u001b[49m\u001b[43m,\u001b[49m\n\u001b[0;32m      5\u001b[0m \u001b[43m    \u001b[49m\u001b[43mt\u001b[49m\u001b[43m \u001b[49m\u001b[38;5;241;43m=\u001b[39;49m\u001b[43m \u001b[49m\u001b[38;5;28;43mslice\u001b[39;49m\u001b[43m(\u001b[49m\u001b[38;5;241;43m0\u001b[39;49m\u001b[43m,\u001b[49m\u001b[38;5;241;43m5\u001b[39;49m\u001b[43m)\u001b[49m\u001b[43m,\u001b[49m\n\u001b[0;32m      6\u001b[0m \u001b[43m    \u001b[49m\u001b[43mc\u001b[49m\u001b[43m \u001b[49m\u001b[38;5;241;43m=\u001b[39;49m\u001b[43m \u001b[49m\u001b[38;5;28;43mslice\u001b[39;49m\u001b[43m(\u001b[49m\u001b[38;5;241;43m0\u001b[39;49m\u001b[43m,\u001b[49m\u001b[38;5;241;43m1\u001b[39;49m\u001b[43m)\u001b[49m\u001b[43m,\u001b[49m\n\u001b[0;32m      7\u001b[0m \u001b[43m    \u001b[49m\u001b[43mz\u001b[49m\u001b[43m \u001b[49m\u001b[38;5;241;43m=\u001b[39;49m\u001b[43m \u001b[49m\u001b[38;5;28;43mslice\u001b[39;49m\u001b[43m(\u001b[49m\u001b[38;5;241;43m0\u001b[39;49m\u001b[43m,\u001b[49m\u001b[38;5;241;43m8\u001b[39;49m\u001b[43m)\u001b[49m\u001b[43m,\u001b[49m\n\u001b[0;32m      8\u001b[0m \u001b[43m    \u001b[49m\u001b[43my\u001b[49m\u001b[43m \u001b[49m\u001b[38;5;241;43m=\u001b[39;49m\u001b[43m \u001b[49m\u001b[38;5;28;43mslice\u001b[39;49m\u001b[43m(\u001b[49m\u001b[38;5;241;43m10\u001b[39;49m\u001b[43m,\u001b[49m\u001b[38;5;241;43m74\u001b[39;49m\u001b[43m)\u001b[49m\u001b[43m,\u001b[49m\n\u001b[0;32m      9\u001b[0m \u001b[43m    \u001b[49m\u001b[43mx\u001b[49m\u001b[43m \u001b[49m\u001b[38;5;241;43m=\u001b[39;49m\u001b[43m \u001b[49m\u001b[38;5;28;43mslice\u001b[39;49m\u001b[43m(\u001b[49m\u001b[38;5;241;43m0\u001b[39;49m\u001b[43m,\u001b[49m\u001b[38;5;241;43m64\u001b[39;49m\u001b[43m)\u001b[49m\u001b[43m,\u001b[49m\n\u001b[0;32m     10\u001b[0m \u001b[43m    \u001b[49m\u001b[43mlevel\u001b[49m\u001b[43m \u001b[49m\u001b[38;5;241;43m=\u001b[39;49m\u001b[43m \u001b[49m\u001b[38;5;241;43m1\u001b[39;49m\u001b[43m,\u001b[49m\n\u001b[0;32m     11\u001b[0m \u001b[43m    \u001b[49m\u001b[43mgroup\u001b[49m\u001b[43m \u001b[49m\u001b[38;5;241;43m=\u001b[39;49m\u001b[43m \u001b[49m\u001b[38;5;124;43m\"\u001b[39;49m\u001b[38;5;124;43mlabels/membranes\u001b[39;49m\u001b[38;5;124;43m\"\u001b[39;49m\u001b[43m,\u001b[49m\n\u001b[0;32m     12\u001b[0m \u001b[43m)\u001b[49m\n\u001b[0;32m     15\u001b[0m \u001b[38;5;66;03m# (data=subdata[0],\u001b[39;00m\n\u001b[0;32m     16\u001b[0m \u001b[38;5;66;03m#                           t = slice(0,5),\u001b[39;00m\n\u001b[0;32m     17\u001b[0m \u001b[38;5;66;03m#                           c = slice(0,1),\u001b[39;00m\n\u001b[1;32m   (...)\u001b[0m\n\u001b[0;32m     34\u001b[0m \u001b[38;5;66;03m#                           x = slice(0,16),\u001b[39;00m\n\u001b[0;32m     35\u001b[0m \u001b[38;5;66;03m#                           level=2)\u001b[39;00m\n",
      "File \u001b[1;32m~\\Documents\\GitHub\\pymif\\pymif\\microscope_manager\\zarr_manager.py:265\u001b[0m, in \u001b[0;36mZarrManager.write_region\u001b[1;34m(self, data, t, c, z, y, x, level, group)\u001b[0m\n\u001b[0;32m    261\u001b[0m \u001b[38;5;250m\u001b[39m\u001b[38;5;124;03m\"\"\"\u001b[39;00m\n\u001b[0;32m    262\u001b[0m \u001b[38;5;124;03mPublic method to write or update a region in the dataset or sub-group.\u001b[39;00m\n\u001b[0;32m    263\u001b[0m \u001b[38;5;124;03m\"\"\"\u001b[39;00m\n\u001b[0;32m    264\u001b[0m \u001b[38;5;28;01mfrom\u001b[39;00m\u001b[38;5;250m \u001b[39m\u001b[38;5;21;01m.\u001b[39;00m\u001b[38;5;21;01mutils\u001b[39;00m\u001b[38;5;21;01m.\u001b[39;00m\u001b[38;5;21;01mwrite_region\u001b[39;00m\u001b[38;5;250m \u001b[39m\u001b[38;5;28;01mimport\u001b[39;00m write_region \u001b[38;5;28;01mas\u001b[39;00m _write_region\n\u001b[1;32m--> 265\u001b[0m \u001b[38;5;28;01mreturn\u001b[39;00m \u001b[43m_write_region\u001b[49m\u001b[43m(\u001b[49m\n\u001b[0;32m    266\u001b[0m \u001b[43m    \u001b[49m\u001b[43mroot\u001b[49m\u001b[38;5;241;43m=\u001b[39;49m\u001b[38;5;28;43mself\u001b[39;49m\u001b[38;5;241;43m.\u001b[39;49m\u001b[43mroot\u001b[49m\u001b[43m,\u001b[49m\n\u001b[0;32m    267\u001b[0m \u001b[43m    \u001b[49m\u001b[43mmode\u001b[49m\u001b[38;5;241;43m=\u001b[39;49m\u001b[38;5;28;43mself\u001b[39;49m\u001b[38;5;241;43m.\u001b[39;49m\u001b[43mmode\u001b[49m\u001b[43m,\u001b[49m\n\u001b[0;32m    268\u001b[0m \u001b[43m    \u001b[49m\u001b[43mdata\u001b[49m\u001b[38;5;241;43m=\u001b[39;49m\u001b[43mdata\u001b[49m\u001b[43m,\u001b[49m\n\u001b[0;32m    269\u001b[0m \u001b[43m    \u001b[49m\u001b[43mt\u001b[49m\u001b[38;5;241;43m=\u001b[39;49m\u001b[43mt\u001b[49m\u001b[43m,\u001b[49m\u001b[43m \u001b[49m\u001b[43mc\u001b[49m\u001b[38;5;241;43m=\u001b[39;49m\u001b[43mc\u001b[49m\u001b[43m,\u001b[49m\u001b[43m \u001b[49m\u001b[43mz\u001b[49m\u001b[38;5;241;43m=\u001b[39;49m\u001b[43mz\u001b[49m\u001b[43m,\u001b[49m\u001b[43m \u001b[49m\u001b[43my\u001b[49m\u001b[38;5;241;43m=\u001b[39;49m\u001b[43my\u001b[49m\u001b[43m,\u001b[49m\u001b[43m \u001b[49m\u001b[43mx\u001b[49m\u001b[38;5;241;43m=\u001b[39;49m\u001b[43mx\u001b[49m\u001b[43m,\u001b[49m\n\u001b[0;32m    270\u001b[0m \u001b[43m    \u001b[49m\u001b[43mlevel\u001b[49m\u001b[38;5;241;43m=\u001b[39;49m\u001b[43mlevel\u001b[49m\u001b[43m,\u001b[49m\n\u001b[0;32m    271\u001b[0m \u001b[43m    \u001b[49m\u001b[43mgroup_name\u001b[49m\u001b[38;5;241;43m=\u001b[39;49m\u001b[43mgroup\u001b[49m\u001b[43m,\u001b[49m\n\u001b[0;32m    272\u001b[0m \u001b[43m\u001b[49m\u001b[43m)\u001b[49m\n",
      "File \u001b[1;32m~\\Documents\\GitHub\\pymif\\pymif\\microscope_manager\\utils\\write_region.py:106\u001b[0m, in \u001b[0;36mwrite_region\u001b[1;34m(root, mode, data, t, c, z, y, x, level, group_name)\u001b[0m\n\u001b[0;32m    102\u001b[0m index \u001b[38;5;241m=\u001b[39m _scale_index((t, c, z, y, x), subdata\u001b[38;5;241m.\u001b[39mshape, scale_factor)\n\u001b[0;32m    104\u001b[0m \u001b[38;5;66;03m# Shape consistency\u001b[39;00m\n\u001b[0;32m    105\u001b[0m \u001b[38;5;66;03m# print (index, subdata.shape, zarr_array[index].shape)\u001b[39;00m\n\u001b[1;32m--> 106\u001b[0m \u001b[38;5;28;01mif\u001b[39;00m subdata\u001b[38;5;241m.\u001b[39mshape \u001b[38;5;241m!=\u001b[39m \u001b[43mzarr_array\u001b[49m\u001b[43m[\u001b[49m\u001b[43mindex\u001b[49m\u001b[43m]\u001b[49m\u001b[38;5;241m.\u001b[39mshape:\n\u001b[0;32m    107\u001b[0m     warnings\u001b[38;5;241m.\u001b[39mwarn(\n\u001b[0;32m    108\u001b[0m         \u001b[38;5;124mf\u001b[39m\u001b[38;5;124m\"\u001b[39m\u001b[38;5;124mShape mismatch for level \u001b[39m\u001b[38;5;132;01m{\u001b[39;00mi\u001b[38;5;132;01m}\u001b[39;00m\u001b[38;5;124m: data=\u001b[39m\u001b[38;5;132;01m{\u001b[39;00msubdata\u001b[38;5;241m.\u001b[39mshape\u001b[38;5;132;01m}\u001b[39;00m\u001b[38;5;124m, \u001b[39m\u001b[38;5;124m\"\u001b[39m\n\u001b[0;32m    109\u001b[0m         \u001b[38;5;124mf\u001b[39m\u001b[38;5;124m\"\u001b[39m\u001b[38;5;124mexpected=\u001b[39m\u001b[38;5;132;01m{\u001b[39;00mzarr_array\u001b[38;5;241m.\u001b[39mshape\u001b[38;5;132;01m}\u001b[39;00m\u001b[38;5;124m. Skipping level.\u001b[39m\u001b[38;5;124m\"\u001b[39m,\n\u001b[0;32m    110\u001b[0m         \u001b[38;5;167;01mUserWarning\u001b[39;00m,\n\u001b[0;32m    111\u001b[0m     )\n\u001b[0;32m    112\u001b[0m     \u001b[38;5;28;01mcontinue\u001b[39;00m\n",
      "File \u001b[1;32mc:\\miniforge3\\envs\\pymif\\lib\\site-packages\\zarr\\core.py:797\u001b[0m, in \u001b[0;36mArray.__getitem__\u001b[1;34m(self, selection)\u001b[0m\n\u001b[0;32m    795\u001b[0m     result \u001b[38;5;241m=\u001b[39m \u001b[38;5;28mself\u001b[39m\u001b[38;5;241m.\u001b[39mget_orthogonal_selection(pure_selection, fields\u001b[38;5;241m=\u001b[39mfields)\n\u001b[0;32m    796\u001b[0m \u001b[38;5;28;01melse\u001b[39;00m:\n\u001b[1;32m--> 797\u001b[0m     result \u001b[38;5;241m=\u001b[39m \u001b[38;5;28;43mself\u001b[39;49m\u001b[38;5;241;43m.\u001b[39;49m\u001b[43mget_basic_selection\u001b[49m\u001b[43m(\u001b[49m\u001b[43mpure_selection\u001b[49m\u001b[43m,\u001b[49m\u001b[43m \u001b[49m\u001b[43mfields\u001b[49m\u001b[38;5;241;43m=\u001b[39;49m\u001b[43mfields\u001b[49m\u001b[43m)\u001b[49m\n\u001b[0;32m    798\u001b[0m \u001b[38;5;28;01mreturn\u001b[39;00m result\n",
      "File \u001b[1;32mc:\\miniforge3\\envs\\pymif\\lib\\site-packages\\zarr\\core.py:923\u001b[0m, in \u001b[0;36mArray.get_basic_selection\u001b[1;34m(self, selection, out, fields)\u001b[0m\n\u001b[0;32m    921\u001b[0m     \u001b[38;5;28;01mreturn\u001b[39;00m \u001b[38;5;28mself\u001b[39m\u001b[38;5;241m.\u001b[39m_get_basic_selection_zd(selection\u001b[38;5;241m=\u001b[39mselection, out\u001b[38;5;241m=\u001b[39mout, fields\u001b[38;5;241m=\u001b[39mfields)\n\u001b[0;32m    922\u001b[0m \u001b[38;5;28;01melse\u001b[39;00m:\n\u001b[1;32m--> 923\u001b[0m     \u001b[38;5;28;01mreturn\u001b[39;00m \u001b[38;5;28;43mself\u001b[39;49m\u001b[38;5;241;43m.\u001b[39;49m\u001b[43m_get_basic_selection_nd\u001b[49m\u001b[43m(\u001b[49m\u001b[43mselection\u001b[49m\u001b[38;5;241;43m=\u001b[39;49m\u001b[43mselection\u001b[49m\u001b[43m,\u001b[49m\u001b[43m \u001b[49m\u001b[43mout\u001b[49m\u001b[38;5;241;43m=\u001b[39;49m\u001b[43mout\u001b[49m\u001b[43m,\u001b[49m\u001b[43m \u001b[49m\u001b[43mfields\u001b[49m\u001b[38;5;241;43m=\u001b[39;49m\u001b[43mfields\u001b[49m\u001b[43m)\u001b[49m\n",
      "File \u001b[1;32mc:\\miniforge3\\envs\\pymif\\lib\\site-packages\\zarr\\core.py:963\u001b[0m, in \u001b[0;36mArray._get_basic_selection_nd\u001b[1;34m(self, selection, out, fields)\u001b[0m\n\u001b[0;32m    959\u001b[0m \u001b[38;5;28;01mdef\u001b[39;00m\u001b[38;5;250m \u001b[39m\u001b[38;5;21m_get_basic_selection_nd\u001b[39m(\u001b[38;5;28mself\u001b[39m, selection, out\u001b[38;5;241m=\u001b[39m\u001b[38;5;28;01mNone\u001b[39;00m, fields\u001b[38;5;241m=\u001b[39m\u001b[38;5;28;01mNone\u001b[39;00m):\n\u001b[0;32m    960\u001b[0m     \u001b[38;5;66;03m# implementation of basic selection for array with at least one dimension\u001b[39;00m\n\u001b[0;32m    961\u001b[0m \n\u001b[0;32m    962\u001b[0m     \u001b[38;5;66;03m# setup indexer\u001b[39;00m\n\u001b[1;32m--> 963\u001b[0m     indexer \u001b[38;5;241m=\u001b[39m \u001b[43mBasicIndexer\u001b[49m\u001b[43m(\u001b[49m\u001b[43mselection\u001b[49m\u001b[43m,\u001b[49m\u001b[43m \u001b[49m\u001b[38;5;28;43mself\u001b[39;49m\u001b[43m)\u001b[49m\n\u001b[0;32m    965\u001b[0m     \u001b[38;5;28;01mreturn\u001b[39;00m \u001b[38;5;28mself\u001b[39m\u001b[38;5;241m.\u001b[39m_get_selection(indexer\u001b[38;5;241m=\u001b[39mindexer, out\u001b[38;5;241m=\u001b[39mout, fields\u001b[38;5;241m=\u001b[39mfields)\n",
      "File \u001b[1;32mc:\\miniforge3\\envs\\pymif\\lib\\site-packages\\zarr\\indexing.py:330\u001b[0m, in \u001b[0;36mBasicIndexer.__init__\u001b[1;34m(self, selection, array)\u001b[0m\n\u001b[0;32m    328\u001b[0m \u001b[38;5;28;01mdef\u001b[39;00m\u001b[38;5;250m \u001b[39m\u001b[38;5;21m__init__\u001b[39m(\u001b[38;5;28mself\u001b[39m, selection, array):\n\u001b[0;32m    329\u001b[0m     \u001b[38;5;66;03m# handle ellipsis\u001b[39;00m\n\u001b[1;32m--> 330\u001b[0m     selection \u001b[38;5;241m=\u001b[39m \u001b[43mreplace_ellipsis\u001b[49m\u001b[43m(\u001b[49m\u001b[43mselection\u001b[49m\u001b[43m,\u001b[49m\u001b[43m \u001b[49m\u001b[43marray\u001b[49m\u001b[38;5;241;43m.\u001b[39;49m\u001b[43m_shape\u001b[49m\u001b[43m)\u001b[49m\n\u001b[0;32m    332\u001b[0m     \u001b[38;5;66;03m# setup per-dimension indexers\u001b[39;00m\n\u001b[0;32m    333\u001b[0m     dim_indexers \u001b[38;5;241m=\u001b[39m []\n",
      "File \u001b[1;32mc:\\miniforge3\\envs\\pymif\\lib\\site-packages\\zarr\\indexing.py:268\u001b[0m, in \u001b[0;36mreplace_ellipsis\u001b[1;34m(selection, shape)\u001b[0m\n\u001b[0;32m    265\u001b[0m     selection \u001b[38;5;241m+\u001b[39m\u001b[38;5;241m=\u001b[39m (\u001b[38;5;28mslice\u001b[39m(\u001b[38;5;28;01mNone\u001b[39;00m),) \u001b[38;5;241m*\u001b[39m (\u001b[38;5;28mlen\u001b[39m(shape) \u001b[38;5;241m-\u001b[39m \u001b[38;5;28mlen\u001b[39m(selection))\n\u001b[0;32m    267\u001b[0m \u001b[38;5;66;03m# check selection not too long\u001b[39;00m\n\u001b[1;32m--> 268\u001b[0m \u001b[43mcheck_selection_length\u001b[49m\u001b[43m(\u001b[49m\u001b[43mselection\u001b[49m\u001b[43m,\u001b[49m\u001b[43m \u001b[49m\u001b[43mshape\u001b[49m\u001b[43m)\u001b[49m\n\u001b[0;32m    270\u001b[0m \u001b[38;5;28;01mreturn\u001b[39;00m selection\n",
      "File \u001b[1;32mc:\\miniforge3\\envs\\pymif\\lib\\site-packages\\zarr\\indexing.py:233\u001b[0m, in \u001b[0;36mcheck_selection_length\u001b[1;34m(selection, shape)\u001b[0m\n\u001b[0;32m    231\u001b[0m \u001b[38;5;28;01mdef\u001b[39;00m\u001b[38;5;250m \u001b[39m\u001b[38;5;21mcheck_selection_length\u001b[39m(selection, shape):\n\u001b[0;32m    232\u001b[0m     \u001b[38;5;28;01mif\u001b[39;00m \u001b[38;5;28mlen\u001b[39m(selection) \u001b[38;5;241m>\u001b[39m \u001b[38;5;28mlen\u001b[39m(shape):\n\u001b[1;32m--> 233\u001b[0m         \u001b[43merr_too_many_indices\u001b[49m\u001b[43m(\u001b[49m\u001b[43mselection\u001b[49m\u001b[43m,\u001b[49m\u001b[43m \u001b[49m\u001b[43mshape\u001b[49m\u001b[43m)\u001b[49m\n",
      "File \u001b[1;32mc:\\miniforge3\\envs\\pymif\\lib\\site-packages\\zarr\\errors.py:70\u001b[0m, in \u001b[0;36merr_too_many_indices\u001b[1;34m(selection, shape)\u001b[0m\n\u001b[0;32m     69\u001b[0m \u001b[38;5;28;01mdef\u001b[39;00m\u001b[38;5;250m \u001b[39m\u001b[38;5;21merr_too_many_indices\u001b[39m(selection, shape):\n\u001b[1;32m---> 70\u001b[0m     \u001b[38;5;28;01mraise\u001b[39;00m \u001b[38;5;167;01mIndexError\u001b[39;00m(\u001b[38;5;124mf\u001b[39m\u001b[38;5;124m\"\u001b[39m\u001b[38;5;124mtoo many indices for array; expected \u001b[39m\u001b[38;5;132;01m{\u001b[39;00m\u001b[38;5;28mlen\u001b[39m(shape)\u001b[38;5;132;01m}\u001b[39;00m\u001b[38;5;124m, got \u001b[39m\u001b[38;5;132;01m{\u001b[39;00m\u001b[38;5;28mlen\u001b[39m(selection)\u001b[38;5;132;01m}\u001b[39;00m\u001b[38;5;124m\"\u001b[39m)\n",
      "\u001b[1;31mIndexError\u001b[0m: too many indices for array; expected 4, got 5"
     ]
    }
   ],
   "source": [
    "zarr_dataset_copy.write_region(\n",
    "    data = subdata[1],\n",
    "    t = slice(0,5),\n",
    "    c = slice(0,1),\n",
    "    z = slice(0,8),\n",
    "    y = slice(10,74),\n",
    "    x = slice(0,64),\n",
    "    level = 1,\n",
    ")\n",
    "\n",
    "zarr_dataset_copy.write_region(\n",
    "    data = subdata_labels[1],\n",
    "    t = slice(0,5),\n",
    "    c = slice(0,1),\n",
    "    z = slice(0,8),\n",
    "    y = slice(10,74),\n",
    "    x = slice(0,64),\n",
    "    level = 1,\n",
    "    group = \"labels/membranes\",\n",
    ")\n",
    "# (data=subdata[0],\n",
    "#                           t = slice(0,5),\n",
    "#                           c = slice(0,1),\n",
    "#                           z = slice(0,8),\n",
    "#                           y = slice(0,64),\n",
    "#                           x = slice(0,64),\n",
    "#                           level=0)\n",
    "# zarr_dataset_copy.write_region(data=subdata[1],\n",
    "#                           t = slice(0,5),\n",
    "#                           c = slice(0,1),\n",
    "#                           z = slice(0,4),\n",
    "#                           y = slice(0,32),\n",
    "#                           x = slice(0,32),\n",
    "#                           level=1)\n",
    "# zarr_dataset_copy.write_region(data=subdata[2],\n",
    "#                           t = slice(0,5),\n",
    "#                           c = slice(0,1),\n",
    "#                           z = slice(0,2),\n",
    "#                           y = slice(0,16),\n",
    "#                           x = slice(0,16),\n",
    "#                           level=2)"
   ]
  },
  {
   "cell_type": "code",
   "execution_count": 68,
   "id": "c336e868",
   "metadata": {},
   "outputs": [
    {
     "data": {
      "text/plain": [
       "Viewer(camera=Camera(center=(0.0, 43.942, 43.942), zoom=6.435151734104046, angles=(0.0, 0.0, 90.0), perspective=0.0, mouse_pan=True, mouse_zoom=True, orientation=(<DepthAxisOrientation.TOWARDS: 'towards'>, <VerticalAxisOrientation.DOWN: 'down'>, <HorizontalAxisOrientation.RIGHT: 'right'>)), cursor=Cursor(position=(1800.0, 12.0, 0.0, 0.0), viewbox=None, scaled=True, style=<CursorStyle.STANDARD: 'standard'>, size=1.0), dims=Dims(ndim=4, ndisplay=2, order=(0, 1, 2, 3), axis_labels=('0', '1', '2', '3'), rollable=(True, True, True, True), range=(RangeTuple(start=0.0, stop=3600.0, step=900.0), RangeTuple(start=0.0, stop=28.0, step=4.0), RangeTuple(start=0.0, stop=87.884, step=0.692), RangeTuple(start=0.0, stop=87.884, step=0.692)), margin_left=(0.0, 0.0, 0.0, 0.0), margin_right=(0.0, 0.0, 0.0, 0.0), point=(1800.0, 12.0, 43.596, 43.596), last_used=0), grid=GridCanvas(stride=1, shape=(-1, -1), enabled=False, spacing=0.0), layers=[<Image layer 'Hoechst' at 0x21f80b4f880>, <Image layer 'FM4-64' at 0x21f80b4cf40>, <Image layer 'Hoechst [1]' at 0x21f856317e0>, <Image layer 'FM4-64 [1]' at 0x21f8569b310>], help='use <2> for transform', status='Ready', tooltip=Tooltip(visible=False, text=''), theme='dark', title='napari', mouse_over_canvas=False, mouse_move_callbacks=[], mouse_drag_callbacks=[<function drag_to_zoom at 0x0000021F1375D360>], mouse_double_click_callbacks=[<function double_click_to_zoom at 0x0000021F1375C8B0>], mouse_wheel_callbacks=[<function dims_scroll at 0x0000021F1375D240>], _persisted_mouse_event={}, _mouse_drag_gen={}, _mouse_wheel_gen={}, _keymap={})"
      ]
     },
     "execution_count": 68,
     "metadata": {},
     "output_type": "execute_result"
    }
   ],
   "source": [
    "zarr_dataset_copy = mm.ZarrManager(path=output_zarr_path)\n",
    "zarr_dataset_copy.visualize_zarr(viewer=viewer)"
   ]
  },
  {
   "cell_type": "code",
   "execution_count": 54,
   "id": "b2eeebdf",
   "metadata": {},
   "outputs": [],
   "source": [
    "import zarr\n",
    "root = zarr.open(output_zarr_path, mode=\"r\")"
   ]
  },
  {
   "cell_type": "code",
   "execution_count": 55,
   "id": "4c56cb63",
   "metadata": {},
   "outputs": [
    {
     "ename": "KeyError",
     "evalue": "'labels'",
     "output_type": "error",
     "traceback": [
      "\u001b[1;31m---------------------------------------------------------------------------\u001b[0m",
      "\u001b[1;31mKeyError\u001b[0m                                  Traceback (most recent call last)",
      "Cell \u001b[1;32mIn[55], line 1\u001b[0m\n\u001b[1;32m----> 1\u001b[0m \u001b[43mroot\u001b[49m\u001b[43m[\u001b[49m\u001b[38;5;124;43m\"\u001b[39;49m\u001b[38;5;124;43mlabels\u001b[39;49m\u001b[38;5;124;43m\"\u001b[39;49m\u001b[43m]\u001b[49m\n",
      "File \u001b[1;32mc:\\miniforge3\\envs\\pymif\\lib\\site-packages\\zarr\\hierarchy.py:511\u001b[0m, in \u001b[0;36mGroup.__getitem__\u001b[1;34m(self, item)\u001b[0m\n\u001b[0;32m    509\u001b[0m         \u001b[38;5;28;01mraise\u001b[39;00m \u001b[38;5;167;01mKeyError\u001b[39;00m(item)\n\u001b[0;32m    510\u001b[0m \u001b[38;5;28;01melse\u001b[39;00m:\n\u001b[1;32m--> 511\u001b[0m     \u001b[38;5;28;01mraise\u001b[39;00m \u001b[38;5;167;01mKeyError\u001b[39;00m(item)\n",
      "\u001b[1;31mKeyError\u001b[0m: 'labels'"
     ]
    }
   ],
   "source": [
    "root[\"labels\"]"
   ]
  },
  {
   "cell_type": "code",
   "execution_count": 56,
   "id": "c667f3fd",
   "metadata": {},
   "outputs": [],
   "source": [
    "root = zarr.open_group(output_zarr_path, mode='r')"
   ]
  },
  {
   "cell_type": "code",
   "execution_count": 57,
   "id": "86c85961",
   "metadata": {},
   "outputs": [
    {
     "ename": "KeyError",
     "evalue": "'labels'",
     "output_type": "error",
     "traceback": [
      "\u001b[1;31m---------------------------------------------------------------------------\u001b[0m",
      "\u001b[1;31mKeyError\u001b[0m                                  Traceback (most recent call last)",
      "Cell \u001b[1;32mIn[57], line 1\u001b[0m\n\u001b[1;32m----> 1\u001b[0m \u001b[43mroot\u001b[49m\u001b[43m[\u001b[49m\u001b[38;5;124;43m\"\u001b[39;49m\u001b[38;5;124;43mlabels\u001b[39;49m\u001b[38;5;124;43m\"\u001b[39;49m\u001b[43m]\u001b[49m\n",
      "File \u001b[1;32mc:\\miniforge3\\envs\\pymif\\lib\\site-packages\\zarr\\hierarchy.py:511\u001b[0m, in \u001b[0;36mGroup.__getitem__\u001b[1;34m(self, item)\u001b[0m\n\u001b[0;32m    509\u001b[0m         \u001b[38;5;28;01mraise\u001b[39;00m \u001b[38;5;167;01mKeyError\u001b[39;00m(item)\n\u001b[0;32m    510\u001b[0m \u001b[38;5;28;01melse\u001b[39;00m:\n\u001b[1;32m--> 511\u001b[0m     \u001b[38;5;28;01mraise\u001b[39;00m \u001b[38;5;167;01mKeyError\u001b[39;00m(item)\n",
      "\u001b[1;31mKeyError\u001b[0m: 'labels'"
     ]
    }
   ],
   "source": [
    "root[\"labels\"]"
   ]
  },
  {
   "cell_type": "code",
   "execution_count": 62,
   "id": "9420e387",
   "metadata": {},
   "outputs": [],
   "source": [
    "root = zarr.open(input_zarr_path)"
   ]
  },
  {
   "cell_type": "code",
   "execution_count": null,
   "id": "5df5a0c5",
   "metadata": {},
   "outputs": [
    {
     "ename": "AttributeError",
     "evalue": "",
     "output_type": "error",
     "traceback": [
      "\u001b[1;31m---------------------------------------------------------------------------\u001b[0m",
      "\u001b[1;31mKeyError\u001b[0m                                  Traceback (most recent call last)",
      "File \u001b[1;32mc:\\miniforge3\\envs\\pymif\\lib\\site-packages\\zarr\\hierarchy.py:538\u001b[0m, in \u001b[0;36mGroup.__getattr__\u001b[1;34m(self, item)\u001b[0m\n\u001b[0;32m    537\u001b[0m \u001b[38;5;28;01mtry\u001b[39;00m:\n\u001b[1;32m--> 538\u001b[0m     \u001b[38;5;28;01mreturn\u001b[39;00m \u001b[38;5;28;43mself\u001b[39;49m\u001b[38;5;241;43m.\u001b[39;49m\u001b[38;5;21;43m__getitem__\u001b[39;49m\u001b[43m(\u001b[49m\u001b[43mitem\u001b[49m\u001b[43m)\u001b[49m\n\u001b[0;32m    539\u001b[0m \u001b[38;5;28;01mexcept\u001b[39;00m \u001b[38;5;167;01mKeyError\u001b[39;00m \u001b[38;5;28;01mas\u001b[39;00m e:\n",
      "File \u001b[1;32mc:\\miniforge3\\envs\\pymif\\lib\\site-packages\\zarr\\hierarchy.py:511\u001b[0m, in \u001b[0;36mGroup.__getitem__\u001b[1;34m(self, item)\u001b[0m\n\u001b[0;32m    510\u001b[0m \u001b[38;5;28;01melse\u001b[39;00m:\n\u001b[1;32m--> 511\u001b[0m     \u001b[38;5;28;01mraise\u001b[39;00m \u001b[38;5;167;01mKeyError\u001b[39;00m(item)\n",
      "\u001b[1;31mKeyError\u001b[0m: 'shape'",
      "\nThe above exception was the direct cause of the following exception:\n",
      "\u001b[1;31mAttributeError\u001b[0m                            Traceback (most recent call last)",
      "Cell \u001b[1;32mIn[68], line 1\u001b[0m\n\u001b[1;32m----> 1\u001b[0m \u001b[43mroot\u001b[49m\u001b[38;5;241;43m.\u001b[39;49m\u001b[43mget\u001b[49m\u001b[43m(\u001b[49m\u001b[38;5;124;43m\"\u001b[39;49m\u001b[38;5;124;43mlabels/membranes\u001b[39;49m\u001b[38;5;124;43m\"\u001b[39;49m\u001b[43m)\u001b[49m\u001b[38;5;241;43m.\u001b[39;49m\u001b[43mshape\u001b[49m\n",
      "File \u001b[1;32mc:\\miniforge3\\envs\\pymif\\lib\\site-packages\\zarr\\hierarchy.py:540\u001b[0m, in \u001b[0;36mGroup.__getattr__\u001b[1;34m(self, item)\u001b[0m\n\u001b[0;32m    538\u001b[0m     \u001b[38;5;28;01mreturn\u001b[39;00m \u001b[38;5;28mself\u001b[39m\u001b[38;5;241m.\u001b[39m\u001b[38;5;21m__getitem__\u001b[39m(item)\n\u001b[0;32m    539\u001b[0m \u001b[38;5;28;01mexcept\u001b[39;00m \u001b[38;5;167;01mKeyError\u001b[39;00m \u001b[38;5;28;01mas\u001b[39;00m e:\n\u001b[1;32m--> 540\u001b[0m     \u001b[38;5;28;01mraise\u001b[39;00m \u001b[38;5;167;01mAttributeError\u001b[39;00m \u001b[38;5;28;01mfrom\u001b[39;00m\u001b[38;5;250m \u001b[39m\u001b[38;5;21;01me\u001b[39;00m\n",
      "\u001b[1;31mAttributeError\u001b[0m: "
     ]
    }
   ],
   "source": [
    "root.get(\"labels/membranes\")"
   ]
  },
  {
   "cell_type": "code",
   "execution_count": null,
   "id": "7bc522a2",
   "metadata": {},
   "outputs": [],
   "source": []
  }
 ],
 "metadata": {
  "kernelspec": {
   "display_name": "pymif",
   "language": "python",
   "name": "python3"
  },
  "language_info": {
   "codemirror_mode": {
    "name": "ipython",
    "version": 3
   },
   "file_extension": ".py",
   "mimetype": "text/x-python",
   "name": "python",
   "nbconvert_exporter": "python",
   "pygments_lexer": "ipython3",
   "version": "3.10.18"
  }
 },
 "nbformat": 4,
 "nbformat_minor": 5
}

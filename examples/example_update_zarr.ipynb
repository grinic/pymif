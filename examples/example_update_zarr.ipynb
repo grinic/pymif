{
 "cells": [
  {
   "cell_type": "markdown",
   "id": "33f2577b-c38c-473e-9f0f-39d5ab2259d3",
   "metadata": {},
   "source": [
    "# ZarrManager example"
   ]
  },
  {
   "cell_type": "code",
   "execution_count": 1,
   "id": "f848bb30-b802-4b11-9974-8535583a0ee6",
   "metadata": {},
   "outputs": [],
   "source": [
    "# --- Imports ---\n",
    "import pymif.microscope_manager as mm\n",
    "import napari\n",
    "import os\n",
    "import time"
   ]
  },
  {
   "cell_type": "code",
   "execution_count": 2,
   "id": "3f023fe4-82c8-4a07-b8ef-055660a8ccf0",
   "metadata": {},
   "outputs": [],
   "source": [
    "# --- Set input data path ---\n",
    "main_path = \"../../pymif_test_data/zarr\"\n",
    "# dataset_name = \"viventis_5T_2C_81Z_2304Y_2304X\"\n",
    "dataset_name = \"viventis_5T_2C_8Z_128Y_128X\"\n",
    "input_zarr_path = f\"{main_path}/{dataset_name}.zarr\"\n"
   ]
  },
  {
   "cell_type": "code",
   "execution_count": 3,
   "id": "45861511-1cee-49d2-8442-67c459849101",
   "metadata": {},
   "outputs": [],
   "source": [
    "# --- Initialize manager ---\n",
    "# Here, the argument chunks can be used to specify a preferred chunk (Default: None = zarr native chunks)\n",
    "zarr_dataset = mm.ZarrManager(path=input_zarr_path)"
   ]
  },
  {
   "cell_type": "code",
   "execution_count": 4,
   "id": "6c237587-3050-4c37-a641-f6db7d56db3a",
   "metadata": {},
   "outputs": [
    {
     "name": "stdout",
     "output_type": "stream",
     "text": [
      "SIZE: [(5, 2, 8, 128, 128), (5, 2, 4, 64, 64), (5, 2, 2, 32, 32), (5, 2, 1, 16, 16), (5, 2, 1, 8, 8)]\n",
      "CHUNKSIZE: [(1, 1, 8, 128, 128), (1, 1, 4, 64, 64), (1, 1, 2, 32, 32), (1, 1, 1, 16, 16), (1, 1, 1, 8, 8)]\n",
      "SCALES: [(4.0, 0.692, 0.692), (8.0, 1.384, 1.384), (16.0, 2.768, 2.768), (32.0, 5.536, 5.536), (64.0, 11.072, 11.072)]\n",
      "UNITS: ('micrometer', 'micrometer', 'micrometer')\n",
      "TIME_INCREMENT: 900.0\n",
      "TIME_INCREMENT_UNIT: s\n",
      "CHANNEL_NAMES: ['Hoechst', 'FM4-64']\n",
      "CHANNEL_COLORS: [16711935, 255]\n",
      "DTYPE: uint16\n",
      "PLANE_FILES: None\n",
      "AXES: tczyx\n",
      "LABELS_METADATA: {'membranes': {'data': [dask.array<from-zarr, shape=(5, 8, 128, 128), dtype=int32, chunksize=(1, 8, 128, 128), chunktype=numpy.ndarray>, dask.array<from-zarr, shape=(5, 4, 64, 64), dtype=int32, chunksize=(1, 4, 64, 64), chunktype=numpy.ndarray>, dask.array<from-zarr, shape=(5, 2, 32, 32), dtype=int32, chunksize=(1, 2, 32, 32), chunktype=numpy.ndarray>, dask.array<from-zarr, shape=(5, 1, 16, 16), dtype=int32, chunksize=(1, 1, 16, 16), chunktype=numpy.ndarray>, dask.array<from-zarr, shape=(5, 1, 8, 8), dtype=int32, chunksize=(1, 1, 8, 8), chunktype=numpy.ndarray>], 'scale': [4.0, 0.692, 0.692], 'color': 'cyan', 'opacity': 0.5}, 'nuclei': {'data': [dask.array<from-zarr, shape=(5, 8, 128, 128), dtype=int32, chunksize=(1, 8, 128, 128), chunktype=numpy.ndarray>, dask.array<from-zarr, shape=(5, 4, 64, 64), dtype=int32, chunksize=(1, 4, 64, 64), chunktype=numpy.ndarray>, dask.array<from-zarr, shape=(5, 2, 32, 32), dtype=int32, chunksize=(1, 2, 32, 32), chunktype=numpy.ndarray>, dask.array<from-zarr, shape=(5, 1, 16, 16), dtype=int32, chunksize=(1, 1, 16, 16), chunktype=numpy.ndarray>, dask.array<from-zarr, shape=(5, 1, 8, 8), dtype=int32, chunksize=(1, 1, 8, 8), chunktype=numpy.ndarray>], 'scale': [4.0, 0.692, 0.692], 'color': 'magenta', 'opacity': 0.5}}\n"
     ]
    }
   ],
   "source": [
    "# --- Show metadata summary ---\n",
    "for i in zarr_dataset.metadata:\n",
    "    print(f\"{i.upper()}: {zarr_dataset.metadata[i]}\")"
   ]
  },
  {
   "cell_type": "code",
   "execution_count": 5,
   "id": "00a67116-b26f-43b6-b48e-39d921dfe13d",
   "metadata": {},
   "outputs": [
    {
     "data": {
      "text/plain": [
       "[dask.array<from-zarr, shape=(5, 2, 8, 128, 128), dtype=uint16, chunksize=(1, 1, 8, 128, 128), chunktype=numpy.ndarray>,\n",
       " dask.array<from-zarr, shape=(5, 2, 4, 64, 64), dtype=uint16, chunksize=(1, 1, 4, 64, 64), chunktype=numpy.ndarray>,\n",
       " dask.array<from-zarr, shape=(5, 2, 2, 32, 32), dtype=uint16, chunksize=(1, 1, 2, 32, 32), chunktype=numpy.ndarray>,\n",
       " dask.array<from-zarr, shape=(5, 2, 1, 16, 16), dtype=uint16, chunksize=(1, 1, 1, 16, 16), chunktype=numpy.ndarray>,\n",
       " dask.array<from-zarr, shape=(5, 2, 1, 8, 8), dtype=uint16, chunksize=(1, 1, 1, 8, 8), chunktype=numpy.ndarray>]"
      ]
     },
     "execution_count": 5,
     "metadata": {},
     "output_type": "execute_result"
    }
   ],
   "source": [
    "zarr_dataset.data"
   ]
  },
  {
   "cell_type": "code",
   "execution_count": 6,
   "id": "b44dd8b4",
   "metadata": {},
   "outputs": [],
   "source": [
    "# zarr_dataset.visualize_zarr()"
   ]
  },
  {
   "cell_type": "code",
   "execution_count": 7,
   "id": "fa2c3bf8",
   "metadata": {},
   "outputs": [
    {
     "name": "stdout",
     "output_type": "stream",
     "text": [
      "/\n",
      " ├── 0 (5, 2, 8, 128, 128) uint16\n",
      " ├── 1 (5, 2, 4, 64, 64) uint16\n",
      " ├── 2 (5, 2, 2, 32, 32) uint16\n",
      " ├── 3 (5, 2, 1, 16, 16) uint16\n",
      " ├── 4 (5, 2, 1, 8, 8) uint16\n",
      " └── labels\n",
      "     ├── membranes\n",
      "     │   ├── 0 (5, 8, 128, 128) int32\n",
      "     │   ├── 1 (5, 4, 64, 64) int32\n",
      "     │   ├── 2 (5, 2, 32, 32) int32\n",
      "     │   ├── 3 (5, 1, 16, 16) int32\n",
      "     │   └── 4 (5, 1, 8, 8) int32\n",
      "     └── nuclei\n",
      "         ├── 0 (5, 8, 128, 128) int32\n",
      "         ├── 1 (5, 4, 64, 64) int32\n",
      "         ├── 2 (5, 2, 32, 32) int32\n",
      "         ├── 3 (5, 1, 16, 16) int32\n",
      "         └── 4 (5, 1, 8, 8) int32\n"
     ]
    }
   ],
   "source": [
    "import zarr\n",
    "root = zarr.open(input_zarr_path)\n",
    "print(root.tree())"
   ]
  },
  {
   "cell_type": "markdown",
   "id": "88fe7c0e-bd05-4ee2-a0a7-d0891985c22f",
   "metadata": {},
   "source": [
    "## Create a copy and modify it"
   ]
  },
  {
   "cell_type": "code",
   "execution_count": 9,
   "id": "6fb5a50f-76ef-4e0b-a406-e8596a3df3fd",
   "metadata": {},
   "outputs": [],
   "source": [
    "output_zarr_path = f\"{main_path}/{dataset_name}_copy.zarr\""
   ]
  },
  {
   "cell_type": "code",
   "execution_count": 10,
   "id": "c4d52d58",
   "metadata": {},
   "outputs": [],
   "source": [
    "# zarr_dataset.write(output_zarr_path)"
   ]
  },
  {
   "cell_type": "code",
   "execution_count": 11,
   "id": "45230c16",
   "metadata": {},
   "outputs": [],
   "source": [
    "zarr_dataset_copy = mm.ZarrManager(path=output_zarr_path, mode=\"r+\")"
   ]
  },
  {
   "cell_type": "code",
   "execution_count": 12,
   "id": "d2408047",
   "metadata": {},
   "outputs": [
    {
     "data": {
      "text/plain": [
       "Viewer(camera=Camera(center=(0.0, 43.942, 43.942), zoom=6.435151734104046, angles=(0.0, 0.0, 90.0), perspective=0.0, mouse_pan=True, mouse_zoom=True, orientation=(<DepthAxisOrientation.TOWARDS: 'towards'>, <VerticalAxisOrientation.DOWN: 'down'>, <HorizontalAxisOrientation.RIGHT: 'right'>)), cursor=Cursor(position=(1800.0, 12.0, 0.0, 0.0), viewbox=None, scaled=True, style=<CursorStyle.STANDARD: 'standard'>, size=6.92), dims=Dims(ndim=4, ndisplay=2, order=(0, 1, 2, 3), axis_labels=('0', '1', '2', '3'), rollable=(True, True, True, True), range=(RangeTuple(start=0.0, stop=3600.0, step=900.0), RangeTuple(start=0.0, stop=28.0, step=4.0), RangeTuple(start=0.0, stop=87.884, step=0.692), RangeTuple(start=0.0, stop=87.884, step=0.692)), margin_left=(0.0, 0.0, 0.0, 0.0), margin_right=(0.0, 0.0, 0.0, 0.0), point=(1800.0, 12.0, 43.596, 43.596), last_used=0), grid=GridCanvas(stride=1, shape=(-1, -1), enabled=False, spacing=0.0), layers=[<Image layer 'Hoechst' at 0x116c4a6c580>, <Image layer 'FM4-64' at 0x116c4a6cfa0>, <Labels layer '/labels/nuclei' at 0x116b81856c0>, <Labels layer '/labels/membranes' at 0x1170340e620>], help='use <7> for transform, use <1> for activate the label eraser, use <2> for activate the paint brush, use <3> for activate the polygon tool, use <4> for activate the fill bucket, use <5> for pick mode', status='Ready', tooltip=Tooltip(visible=False, text=''), theme='dark', title='napari', mouse_over_canvas=False, mouse_move_callbacks=[], mouse_drag_callbacks=[<function drag_to_zoom at 0x00000116B576DCF0>], mouse_double_click_callbacks=[<function double_click_to_zoom at 0x00000116B576D240>], mouse_wheel_callbacks=[<function dims_scroll at 0x00000116B576DBD0>], _persisted_mouse_event={}, _mouse_drag_gen={}, _mouse_wheel_gen={}, _keymap={})"
      ]
     },
     "execution_count": 12,
     "metadata": {},
     "output_type": "execute_result"
    }
   ],
   "source": [
    "viewer = napari.Viewer()\n",
    "zarr_dataset_copy.visualize_zarr(viewer=viewer)"
   ]
  },
  {
   "cell_type": "code",
   "execution_count": 13,
   "id": "8224f0ca",
   "metadata": {},
   "outputs": [],
   "source": [
    "import numpy as np\n",
    "subdata = [\n",
    "    0*np.random.randint(0,1000, (5,1,8,64,64)),\n",
    "    0*np.random.randint(0,1000, (5,1,4,32,32)),\n",
    "    0*np.random.randint(0,1000, (5,1,2,16,16)),\n",
    "    0*np.random.randint(0,1000, (5,1,1,8,8)),\n",
    "    0*np.random.randint(0,1000, (5,1,1,4,4)),\n",
    "]\n",
    "\n",
    "subdata_labels = [\n",
    "    0*np.random.randint(0,1000, (5,8,64,64)),\n",
    "    0*np.random.randint(0,1000, (5,4,32,32)),\n",
    "    0*np.random.randint(0,1000, (5,2,16,16)),\n",
    "    0*np.random.randint(0,1000, (5,1,8,8)),\n",
    "    0*np.random.randint(0,1000, (5,1,4,4)),\n",
    "]\n"
   ]
  },
  {
   "cell_type": "code",
   "execution_count": 17,
   "id": "2e350377-6064-4a78-b961-9ed5991840d8",
   "metadata": {},
   "outputs": [
    {
     "name": "stdout",
     "output_type": "stream",
     "text": [
      "<zarr.hierarchy.Group '/'>\n",
      "(5, 1, 8, 64, 64) (slice(0, 5, None), slice(0, 1, None), slice(0, 8, None), slice(20, 84, None), slice(0, 64, None))\n",
      "(5, 1, 4, 32, 32) (slice(0, 5, None), slice(0, 1, None), slice(0, 4, None), slice(10, 42, None), slice(0, 32, None))\n",
      "(5, 1, 2, 16, 16) (slice(0, 5, None), slice(0, 1, None), slice(0, 2, None), slice(5, 21, None), slice(0, 16, None))\n",
      "(5, 1, 1, 8, 8) (slice(0, 5, None), slice(0, 1, None), slice(0, 1, None), slice(2, 10, None), slice(0, 8, None))\n",
      "(5, 1, 1, 4, 4) (slice(0, 5, None), slice(0, 1, None), slice(0, 1, None), slice(1, 5, None), slice(0, 4, None))\n"
     ]
    }
   ],
   "source": [
    "zarr_dataset_copy.write_image_region(\n",
    "    data = subdata[1],\n",
    "    t = slice(0,5),\n",
    "    c = slice(0,1),\n",
    "    z = slice(0,4),\n",
    "    y = slice(10,42),\n",
    "    x = slice(0,32),\n",
    "    level = 1,\n",
    "    group = \"/\",\n",
    ")\n",
    "\n",
    "# (data=subdata[0],\n",
    "#                           t = slice(0,5),\n",
    "#                           c = slice(0,1),\n",
    "#                           z = slice(0,8),\n",
    "#                           y = slice(0,64),\n",
    "#                           x = slice(0,64),\n",
    "#                           level=0)\n",
    "# zarr_dataset_copy.write_region(data=subdata[1],\n",
    "#                           t = slice(0,5),\n",
    "#                           c = slice(0,1),\n",
    "#                           z = slice(0,4),\n",
    "#                           y = slice(0,32),\n",
    "#                           x = slice(0,32),\n",
    "#                           level=1)\n",
    "# zarr_dataset_copy.write_region(data=subdata[2],\n",
    "#                           t = slice(0,5),\n",
    "#                           c = slice(0,1),\n",
    "#                           z = slice(0,2),\n",
    "#                           y = slice(0,16),\n",
    "#                           x = slice(0,16),\n",
    "#                           level=2)"
   ]
  },
  {
   "cell_type": "code",
   "execution_count": 19,
   "id": "b50ef2f7",
   "metadata": {},
   "outputs": [
    {
     "name": "stdout",
     "output_type": "stream",
     "text": [
      "<zarr.hierarchy.Group '/labels/membranes'>\n",
      "(5, 8, 64, 64) (slice(0, 5, None), slice(0, 8, None), slice(60, 124, None), slice(64, 128, None))\n",
      "(5, 4, 32, 32) (slice(0, 5, None), slice(0, 4, None), slice(30, 62, None), slice(32, 64, None))\n",
      "(5, 2, 16, 16) (slice(0, 5, None), slice(0, 2, None), slice(15, 31, None), slice(16, 32, None))\n",
      "(5, 1, 8, 8) (slice(0, 5, None), slice(0, 1, None), slice(7, 15, None), slice(8, 16, None))\n",
      "(5, 1, 4, 4) (slice(0, 5, None), slice(0, 1, None), slice(3, 7, None), slice(4, 8, None))\n"
     ]
    }
   ],
   "source": [
    "zarr_dataset_copy.write_label_region(\n",
    "    data = subdata_labels[1],\n",
    "    t = slice(0,5),\n",
    "    z = slice(0,4),\n",
    "    y = slice(30,62),\n",
    "    x = slice(32,64),\n",
    "    level = 1,\n",
    "    group = \"labels/membranes\",\n",
    ")"
   ]
  },
  {
   "cell_type": "code",
   "execution_count": 20,
   "id": "c336e868",
   "metadata": {},
   "outputs": [
    {
     "data": {
      "text/plain": [
       "Viewer(camera=Camera(center=(0.0, 43.942, 43.942), zoom=6.435151734104046, angles=(0.0, 0.0, 90.0), perspective=0.0, mouse_pan=True, mouse_zoom=True, orientation=(<DepthAxisOrientation.TOWARDS: 'towards'>, <VerticalAxisOrientation.DOWN: 'down'>, <HorizontalAxisOrientation.RIGHT: 'right'>)), cursor=Cursor(position=(1800.0, 12.0, 0.0, 0.0), viewbox=None, scaled=True, style=<CursorStyle.STANDARD: 'standard'>, size=6.92), dims=Dims(ndim=4, ndisplay=2, order=(0, 1, 2, 3), axis_labels=('0', '1', '2', '3'), rollable=(True, True, True, True), range=(RangeTuple(start=0.0, stop=3600.0, step=900.0), RangeTuple(start=0.0, stop=28.0, step=4.0), RangeTuple(start=0.0, stop=87.884, step=0.692), RangeTuple(start=0.0, stop=87.884, step=0.692)), margin_left=(0.0, 0.0, 0.0, 0.0), margin_right=(0.0, 0.0, 0.0, 0.0), point=(1800.0, 12.0, 43.596, 43.596), last_used=0), grid=GridCanvas(stride=1, shape=(-1, -1), enabled=False, spacing=0.0), layers=[<Image layer 'Hoechst' at 0x116c4a6c580>, <Image layer 'FM4-64' at 0x116c4a6cfa0>, <Labels layer '/labels/nuclei' at 0x116b81856c0>, <Labels layer '/labels/membranes' at 0x1170340e620>, <Image layer 'Hoechst [1]' at 0x117084d71f0>, <Image layer 'FM4-64 [1]' at 0x117084d74c0>, <Labels layer '/labels/nuclei [1]' at 0x1170851bd60>, <Labels layer '/labels/membranes [1]' at 0x116c4c51cc0>], help='use <7> for transform, use <1> for activate the label eraser, use <2> for activate the paint brush, use <3> for activate the polygon tool, use <4> for activate the fill bucket, use <5> for pick mode', status='Ready', tooltip=Tooltip(visible=False, text=''), theme='dark', title='napari', mouse_over_canvas=False, mouse_move_callbacks=[], mouse_drag_callbacks=[<function drag_to_zoom at 0x00000116B576DCF0>], mouse_double_click_callbacks=[<function double_click_to_zoom at 0x00000116B576D240>], mouse_wheel_callbacks=[<function dims_scroll at 0x00000116B576DBD0>], _persisted_mouse_event={}, _mouse_drag_gen={}, _mouse_wheel_gen={}, _keymap={})"
      ]
     },
     "execution_count": 20,
     "metadata": {},
     "output_type": "execute_result"
    }
   ],
   "source": [
    "zarr_dataset_copy = mm.ZarrManager(path=output_zarr_path, mode=\"r+\")\n",
    "zarr_dataset_copy.visualize_zarr(viewer=viewer)"
   ]
  },
  {
   "cell_type": "code",
   "execution_count": null,
   "id": "7a6fa388",
   "metadata": {},
   "outputs": [],
   "source": []
  }
 ],
 "metadata": {
  "kernelspec": {
   "display_name": "pymif",
   "language": "python",
   "name": "python3"
  },
  "language_info": {
   "codemirror_mode": {
    "name": "ipython",
    "version": 3
   },
   "file_extension": ".py",
   "mimetype": "text/x-python",
   "name": "python",
   "nbconvert_exporter": "python",
   "pygments_lexer": "ipython3",
   "version": "3.10.18"
  }
 },
 "nbformat": 4,
 "nbformat_minor": 5
}

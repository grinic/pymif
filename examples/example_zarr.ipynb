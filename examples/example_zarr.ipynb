{
 "cells": [
  {
   "cell_type": "markdown",
   "id": "33f2577b-c38c-473e-9f0f-39d5ab2259d3",
   "metadata": {},
   "source": [
    "# ZarrManager example"
   ]
  },
  {
   "cell_type": "code",
   "execution_count": null,
   "id": "f848bb30-b802-4b11-9974-8535583a0ee6",
   "metadata": {},
   "outputs": [],
   "source": [
    "# --- Imports ---\n",
    "import pymif.microscope_manager as mm\n",
    "import napari\n",
    "import os\n",
    "import time"
   ]
  },
  {
   "cell_type": "code",
   "execution_count": null,
   "id": "3f023fe4-82c8-4a07-b8ef-055660a8ccf0",
   "metadata": {},
   "outputs": [],
   "source": [
    "# --- Set input data path ---\n",
    "main_path = \"../../pymif_test_data/zarr\"\n",
    "dataset_name = \"5T_2C_81Z_2304Y_2304X\"\n",
    "dataset_name = \"5T_2C_8Z_128Y_128X\"\n",
    "input_zarr_path = f\"{main_path}/{dataset_name}.zarr\"\n"
   ]
  },
  {
   "cell_type": "code",
   "execution_count": null,
   "id": "45861511-1cee-49d2-8442-67c459849101",
   "metadata": {},
   "outputs": [],
   "source": [
    "# --- Initialize manager ---\n",
    "# Here, the argument chunks can be used to specify a preferred chunk (Default: None = zarr native chunks)\n",
    "zarr_dataset = mm.ZarrManager(path=input_zarr_path)"
   ]
  },
  {
   "cell_type": "code",
   "execution_count": null,
   "id": "6c237587-3050-4c37-a641-f6db7d56db3a",
   "metadata": {},
   "outputs": [],
   "source": [
    "# --- Show metadata summary ---\n",
    "for i in zarr_dataset.metadata:\n",
    "    print(f\"{i.upper()}: {zarr_dataset.metadata[i]}\")"
   ]
  },
  {
   "cell_type": "code",
   "execution_count": null,
   "id": "00a67116-b26f-43b6-b48e-39d921dfe13d",
   "metadata": {},
   "outputs": [],
   "source": [
    "zarr_dataset.data"
   ]
  },
  {
   "cell_type": "markdown",
   "id": "88fe7c0e-bd05-4ee2-a0a7-d0891985c22f",
   "metadata": {},
   "source": [
    "## Adding labels"
   ]
  },
  {
   "cell_type": "code",
   "execution_count": null,
   "id": "6fb5a50f-76ef-4e0b-a406-e8596a3df3fd",
   "metadata": {},
   "outputs": [],
   "source": [
    "# import dask.array as da\n",
    "# from skimage.measure import label\n",
    "# import numpy as np\n",
    "\n",
    "# # Function that runs labeling on numpy blocks\n",
    "# def label_block(block):\n",
    "#     return label(block > 1000)\n",
    "\n",
    "# # Use map_blocks for each channel\n",
    "# label_images = []\n",
    "# for channel in [0, 1]:\n",
    "\n",
    "#     label_levels = []\n",
    "    \n",
    "#     for t in range(zarr_dataset.data[0].shape[0]):\n",
    "        \n",
    "#         slice_t = zarr_dataset.data[0][t, channel]\n",
    "        \n",
    "#         labeled = da.map_overlap(\n",
    "#             label_block,\n",
    "#             slice_t,\n",
    "#             depth={0: 1, 1: 10, 2: 10},  # no overlap in Z, 10 px in Y and X\n",
    "#             boundary='reflect',\n",
    "#             trim=True,\n",
    "#             dtype=np.int32,\n",
    "#         )\n",
    "        \n",
    "#         # Add back T-C axis\n",
    "#         labeled = labeled[None, None, ...]\n",
    "#         label_levels.append(labeled)\n",
    "    \n",
    "#     # Stack back to full (t, z, y, x)\n",
    "#     label_stack = da.concatenate(label_levels, axis=0)\n",
    "\n",
    "#     label_images.append([label_stack])\n",
    "\n",
    "# label_names = [\"nuclei\", \"membranes\"]"
   ]
  },
  {
   "cell_type": "code",
   "execution_count": null,
   "id": "00af8329-cd64-40b1-a41f-29de3a76bd96",
   "metadata": {},
   "outputs": [],
   "source": [
    "# # Create pyramid compliant with raw data dimensions\n",
    "# from pymif.microscope_manager.utils import pyramid\n",
    "# label_images = [\n",
    "#     pyramid.build_pyramid(label_images[0],\n",
    "#                          zarr_dataset.metadata,\n",
    "#                          num_levels = 5)[0],\n",
    "#     pyramid.build_pyramid(label_images[1],\n",
    "#                          zarr_dataset.metadata,\n",
    "#                          num_levels = 5)[0]\n",
    "# ]\n",
    "\n",
    "# # Remove channel dimension from labels\n",
    "# label_images = [\n",
    "#     [l[:,0] for l in label_images[0]],\n",
    "#     [l[:,0] for l in label_images[1]],\n",
    "# ]"
   ]
  },
  {
   "cell_type": "code",
   "execution_count": null,
   "id": "4e135182-15c1-4e5c-9eba-d3dcc5513781",
   "metadata": {},
   "outputs": [],
   "source": [
    "# # Add labels to the dataset\n",
    "# zarr_dataset.add_label(label_images[0], label_names[0])\n",
    "# zarr_dataset.add_label(label_images[1], label_names[1])"
   ]
  },
  {
   "cell_type": "code",
   "execution_count": null,
   "id": "819eb8e4-bcbd-4f31-a63e-9385c662c0d0",
   "metadata": {},
   "outputs": [],
   "source": [
    "# # Reload dataset\n",
    "# zarr_dataset = mm.ZarrManager(path=input_zarr_path, chunks=(1,1,64,1024,1024))"
   ]
  },
  {
   "cell_type": "code",
   "execution_count": null,
   "id": "ea8cb117-7f14-49ec-ade6-c2989e3e7ccf",
   "metadata": {},
   "outputs": [],
   "source": [
    "zarr_dataset.data"
   ]
  },
  {
   "cell_type": "code",
   "execution_count": null,
   "id": "431fab7a-a92f-47b6-838c-dc36ae2d469b",
   "metadata": {},
   "outputs": [],
   "source": [
    "zarr_dataset.labels"
   ]
  },
  {
   "cell_type": "code",
   "execution_count": null,
   "id": "4e03da0e-efc2-4dcd-88d1-7ee27e6b3b0a",
   "metadata": {},
   "outputs": [],
   "source": [
    "zarr_dataset.metadata"
   ]
  },
  {
   "cell_type": "code",
   "execution_count": null,
   "id": "c4ea6be6-a41f-48e3-b2cb-43172eeefab5",
   "metadata": {},
   "outputs": [],
   "source": [
    "v = zarr_dataset.visualize(stop_level=2, in_memory=True)"
   ]
  },
  {
   "cell_type": "code",
   "execution_count": null,
   "id": "2e350377-6064-4a78-b961-9ed5991840d8",
   "metadata": {},
   "outputs": [],
   "source": []
  }
 ],
 "metadata": {
  "kernelspec": {
   "display_name": "Python 3 (ipykernel)",
   "language": "python",
   "name": "python3"
  },
  "language_info": {
   "codemirror_mode": {
    "name": "ipython",
    "version": 3
   },
   "file_extension": ".py",
   "mimetype": "text/x-python",
   "name": "python",
   "nbconvert_exporter": "python",
   "pygments_lexer": "ipython3",
   "version": "3.10.18"
  }
 },
 "nbformat": 4,
 "nbformat_minor": 5
}

{
 "cells": [
  {
   "cell_type": "markdown",
   "id": "33f2577b-c38c-473e-9f0f-39d5ab2259d3",
   "metadata": {},
   "source": [
    "# ZarrManager example"
   ]
  },
  {
   "cell_type": "code",
   "execution_count": 1,
   "id": "f848bb30-b802-4b11-9974-8535583a0ee6",
   "metadata": {},
   "outputs": [],
   "source": [
    "# --- Imports ---\n",
    "import pymif.microscope_manager as mm\n",
    "import napari\n",
    "import os\n",
    "import time"
   ]
  },
  {
   "cell_type": "code",
   "execution_count": 2,
   "id": "3f023fe4-82c8-4a07-b8ef-055660a8ccf0",
   "metadata": {},
   "outputs": [],
   "source": [
    "# --- Set input data path ---\n",
    "main_path = \"../../pymif_test_data/zarr\"\n",
    "dataset_name = \"5T_2C_81Z_2304Y_2304X\"\n",
    "dataset_name = \"viventis_5T_2C_8Z_128Y_128X\"\n",
    "input_zarr_path = f\"{main_path}/{dataset_name}.zarr\"\n"
   ]
  },
  {
   "cell_type": "code",
   "execution_count": 3,
   "id": "45861511-1cee-49d2-8442-67c459849101",
   "metadata": {},
   "outputs": [],
   "source": [
    "# --- Initialize manager ---\n",
    "# Here, the argument chunks can be used to specify a preferred chunk (Default: None = zarr native chunks)\n",
    "zarr_dataset = mm.ZarrManager(path=input_zarr_path)"
   ]
  },
  {
   "cell_type": "code",
   "execution_count": 4,
   "id": "6c237587-3050-4c37-a641-f6db7d56db3a",
   "metadata": {},
   "outputs": [
    {
     "name": "stdout",
     "output_type": "stream",
     "text": [
      "SIZE: [(5, 2, 8, 128, 128), (5, 2, 4, 64, 64), (5, 2, 2, 32, 32), (5, 2, 1, 16, 16), (5, 2, 1, 8, 8)]\n",
      "CHUNKSIZE: [(1, 1, 8, 128, 128), (1, 1, 4, 64, 64), (1, 1, 2, 32, 32), (1, 1, 1, 16, 16), (1, 1, 1, 8, 8)]\n",
      "SCALES: [(4.0, 0.692, 0.692), (8.0, 1.384, 1.384), (16.0, 2.768, 2.768), (32.0, 5.536, 5.536), (64.0, 11.072, 11.072)]\n",
      "UNITS: ('micrometer', 'micrometer', 'micrometer')\n",
      "TIME_INCREMENT: 900.0\n",
      "TIME_INCREMENT_UNIT: s\n",
      "CHANNEL_NAMES: ['Hoechst', 'FM4-64']\n",
      "CHANNEL_COLORS: [16711935, 255]\n",
      "DTYPE: uint16\n",
      "PLANE_FILES: None\n",
      "AXES: tczyx\n"
     ]
    }
   ],
   "source": [
    "# --- Show metadata summary ---\n",
    "for i in zarr_dataset.metadata:\n",
    "    print(f\"{i.upper()}: {zarr_dataset.metadata[i]}\")"
   ]
  },
  {
   "cell_type": "code",
   "execution_count": 5,
   "id": "00a67116-b26f-43b6-b48e-39d921dfe13d",
   "metadata": {},
   "outputs": [
    {
     "data": {
      "text/plain": [
       "[dask.array<from-zarr, shape=(5, 2, 8, 128, 128), dtype=uint16, chunksize=(1, 1, 8, 128, 128), chunktype=numpy.ndarray>,\n",
       " dask.array<from-zarr, shape=(5, 2, 4, 64, 64), dtype=uint16, chunksize=(1, 1, 4, 64, 64), chunktype=numpy.ndarray>,\n",
       " dask.array<from-zarr, shape=(5, 2, 2, 32, 32), dtype=uint16, chunksize=(1, 1, 2, 32, 32), chunktype=numpy.ndarray>,\n",
       " dask.array<from-zarr, shape=(5, 2, 1, 16, 16), dtype=uint16, chunksize=(1, 1, 1, 16, 16), chunktype=numpy.ndarray>,\n",
       " dask.array<from-zarr, shape=(5, 2, 1, 8, 8), dtype=uint16, chunksize=(1, 1, 1, 8, 8), chunktype=numpy.ndarray>]"
      ]
     },
     "execution_count": 5,
     "metadata": {},
     "output_type": "execute_result"
    }
   ],
   "source": [
    "zarr_dataset.data"
   ]
  },
  {
   "cell_type": "markdown",
   "id": "88fe7c0e-bd05-4ee2-a0a7-d0891985c22f",
   "metadata": {},
   "source": [
    "## Adding labels"
   ]
  },
  {
   "cell_type": "code",
   "execution_count": 6,
   "id": "6fb5a50f-76ef-4e0b-a406-e8596a3df3fd",
   "metadata": {},
   "outputs": [],
   "source": [
    "import dask.array as da\n",
    "from skimage.measure import label\n",
    "import numpy as np\n",
    "\n",
    "# Function that runs labeling on numpy blocks\n",
    "def label_block(block):\n",
    "    return label(block > 1000)\n",
    "\n",
    "# Use map_blocks for each channel\n",
    "label_images = []\n",
    "for channel in [0, 1]:\n",
    "\n",
    "    label_levels = []\n",
    "    \n",
    "    for t in range(zarr_dataset.data[0].shape[0]):\n",
    "        \n",
    "        slice_t = zarr_dataset.data[0][t, channel]\n",
    "        \n",
    "        labeled = da.map_overlap(\n",
    "            label_block,\n",
    "            slice_t,\n",
    "            depth={0: 1, 1: 10, 2: 10},  # no overlap in Z, 10 px in Y and X\n",
    "            boundary='reflect',\n",
    "            trim=True,\n",
    "            dtype=np.int32,\n",
    "        )\n",
    "        \n",
    "        # Add back T-C axis\n",
    "        labeled = labeled[None, None, ...]\n",
    "        label_levels.append(labeled)\n",
    "    \n",
    "    # Stack back to full (t, z, y, x)\n",
    "    label_stack = da.concatenate(label_levels, axis=0)\n",
    "\n",
    "    label_images.append([label_stack])\n",
    "\n",
    "label_names = [\"nuclei\", \"membranes\"]"
   ]
  },
  {
   "cell_type": "code",
   "execution_count": 7,
   "id": "00af8329-cd64-40b1-a41f-29de3a76bd96",
   "metadata": {},
   "outputs": [
    {
     "name": "stdout",
     "output_type": "stream",
     "text": [
      "Requested start level 0\n",
      "Resolution layer already available.\n",
      "Creating pyramid.\n",
      "Updating metadata.\n",
      "Requested start level 0\n",
      "Resolution layer already available.\n",
      "Creating pyramid.\n",
      "Updating metadata.\n"
     ]
    }
   ],
   "source": [
    "# Create pyramid compliant with raw data dimensions\n",
    "from pymif.microscope_manager.utils import pyramid\n",
    "label_images = [\n",
    "    pyramid.build_pyramid(label_images[0],\n",
    "                         zarr_dataset.metadata,\n",
    "                         num_levels = 5)[0],\n",
    "    pyramid.build_pyramid(label_images[1],\n",
    "                         zarr_dataset.metadata,\n",
    "                         num_levels = 5)[0]\n",
    "]\n",
    "\n",
    "# Remove channel dimension from labels\n",
    "label_images = [\n",
    "    [l[:,0] for l in label_images[0]],\n",
    "    [l[:,0] for l in label_images[1]],\n",
    "]"
   ]
  },
  {
   "cell_type": "code",
   "execution_count": 8,
   "id": "4e135182-15c1-4e5c-9eba-d3dcc5513781",
   "metadata": {},
   "outputs": [
    {
     "name": "stderr",
     "output_type": "stream",
     "text": [
      "c:\\miniforge3\\envs\\pymif\\lib\\site-packages\\pymif\\microscope_manager\\utils\\add_label.py:75: FutureWarning: The NestedDirectoryStore is deprecated and will be removed in a Zarr-Python version 3, see https://github.com/zarr-developers/zarr-python/issues/1274 for more information.\n",
      "  store = zarr.NestedDirectoryStore(str(store_path))\n"
     ]
    }
   ],
   "source": [
    "# Add labels to the dataset\n",
    "zarr_dataset.add_label(label_images[0], label_names[0])\n",
    "zarr_dataset.add_label(label_images[1], label_names[1])"
   ]
  },
  {
   "cell_type": "code",
   "execution_count": 9,
   "id": "819eb8e4-bcbd-4f31-a63e-9385c662c0d0",
   "metadata": {},
   "outputs": [],
   "source": [
    "# Reload dataset\n",
    "zarr_dataset = mm.ZarrManager(path=input_zarr_path, chunks=(1,1,64,1024,1024))"
   ]
  },
  {
   "cell_type": "code",
   "execution_count": 10,
   "id": "ea8cb117-7f14-49ec-ade6-c2989e3e7ccf",
   "metadata": {},
   "outputs": [
    {
     "data": {
      "text/plain": [
       "[dask.array<from-zarr, shape=(5, 2, 8, 128, 128), dtype=uint16, chunksize=(1, 1, 8, 128, 128), chunktype=numpy.ndarray>,\n",
       " dask.array<from-zarr, shape=(5, 2, 4, 64, 64), dtype=uint16, chunksize=(1, 1, 4, 64, 64), chunktype=numpy.ndarray>,\n",
       " dask.array<from-zarr, shape=(5, 2, 2, 32, 32), dtype=uint16, chunksize=(1, 1, 2, 32, 32), chunktype=numpy.ndarray>,\n",
       " dask.array<from-zarr, shape=(5, 2, 1, 16, 16), dtype=uint16, chunksize=(1, 1, 1, 16, 16), chunktype=numpy.ndarray>,\n",
       " dask.array<from-zarr, shape=(5, 2, 1, 8, 8), dtype=uint16, chunksize=(1, 1, 1, 8, 8), chunktype=numpy.ndarray>]"
      ]
     },
     "execution_count": 10,
     "metadata": {},
     "output_type": "execute_result"
    }
   ],
   "source": [
    "zarr_dataset.data"
   ]
  },
  {
   "cell_type": "code",
   "execution_count": 11,
   "id": "431fab7a-a92f-47b6-838c-dc36ae2d469b",
   "metadata": {},
   "outputs": [
    {
     "data": {
      "text/plain": [
       "{'membranes': [dask.array<from-zarr, shape=(5, 8, 128, 128), dtype=int32, chunksize=(1, 8, 128, 128), chunktype=numpy.ndarray>,\n",
       "  dask.array<from-zarr, shape=(5, 4, 64, 64), dtype=int32, chunksize=(1, 4, 64, 64), chunktype=numpy.ndarray>,\n",
       "  dask.array<from-zarr, shape=(5, 2, 32, 32), dtype=int32, chunksize=(1, 2, 32, 32), chunktype=numpy.ndarray>,\n",
       "  dask.array<from-zarr, shape=(5, 1, 16, 16), dtype=int32, chunksize=(1, 1, 16, 16), chunktype=numpy.ndarray>,\n",
       "  dask.array<from-zarr, shape=(5, 1, 8, 8), dtype=int32, chunksize=(1, 1, 8, 8), chunktype=numpy.ndarray>],\n",
       " 'nuclei': [dask.array<from-zarr, shape=(5, 8, 128, 128), dtype=int32, chunksize=(1, 8, 128, 128), chunktype=numpy.ndarray>,\n",
       "  dask.array<from-zarr, shape=(5, 4, 64, 64), dtype=int32, chunksize=(1, 4, 64, 64), chunktype=numpy.ndarray>,\n",
       "  dask.array<from-zarr, shape=(5, 2, 32, 32), dtype=int32, chunksize=(1, 2, 32, 32), chunktype=numpy.ndarray>,\n",
       "  dask.array<from-zarr, shape=(5, 1, 16, 16), dtype=int32, chunksize=(1, 1, 16, 16), chunktype=numpy.ndarray>,\n",
       "  dask.array<from-zarr, shape=(5, 1, 8, 8), dtype=int32, chunksize=(1, 1, 8, 8), chunktype=numpy.ndarray>]}"
      ]
     },
     "execution_count": 11,
     "metadata": {},
     "output_type": "execute_result"
    }
   ],
   "source": [
    "zarr_dataset.labels"
   ]
  },
  {
   "cell_type": "code",
   "execution_count": 12,
   "id": "4e03da0e-efc2-4dcd-88d1-7ee27e6b3b0a",
   "metadata": {},
   "outputs": [
    {
     "data": {
      "text/plain": [
       "{'size': [(5, 2, 8, 128, 128),\n",
       "  (5, 2, 4, 64, 64),\n",
       "  (5, 2, 2, 32, 32),\n",
       "  (5, 2, 1, 16, 16),\n",
       "  (5, 2, 1, 8, 8)],\n",
       " 'chunksize': [(1, 1, 8, 128, 128),\n",
       "  (1, 1, 4, 64, 64),\n",
       "  (1, 1, 2, 32, 32),\n",
       "  (1, 1, 1, 16, 16),\n",
       "  (1, 1, 1, 8, 8)],\n",
       " 'scales': [(4.0, 0.692, 0.692),\n",
       "  (8.0, 1.384, 1.384),\n",
       "  (16.0, 2.768, 2.768),\n",
       "  (32.0, 5.536, 5.536),\n",
       "  (64.0, 11.072, 11.072)],\n",
       " 'units': ('micrometer', 'micrometer', 'micrometer'),\n",
       " 'time_increment': 900.0,\n",
       " 'time_increment_unit': 's',\n",
       " 'channel_names': ['Hoechst', 'FM4-64'],\n",
       " 'channel_colors': [16711935, 255],\n",
       " 'dtype': 'uint16',\n",
       " 'plane_files': None,\n",
       " 'axes': 'tczyx',\n",
       " 'labels_metadata': {'membranes': {'data': [dask.array<from-zarr, shape=(5, 8, 128, 128), dtype=int32, chunksize=(1, 8, 128, 128), chunktype=numpy.ndarray>,\n",
       "    dask.array<from-zarr, shape=(5, 4, 64, 64), dtype=int32, chunksize=(1, 4, 64, 64), chunktype=numpy.ndarray>,\n",
       "    dask.array<from-zarr, shape=(5, 2, 32, 32), dtype=int32, chunksize=(1, 2, 32, 32), chunktype=numpy.ndarray>,\n",
       "    dask.array<from-zarr, shape=(5, 1, 16, 16), dtype=int32, chunksize=(1, 1, 16, 16), chunktype=numpy.ndarray>,\n",
       "    dask.array<from-zarr, shape=(5, 1, 8, 8), dtype=int32, chunksize=(1, 1, 8, 8), chunktype=numpy.ndarray>],\n",
       "   'scale': [4.0, 0.692, 0.692],\n",
       "   'color': 'cyan',\n",
       "   'opacity': 0.5},\n",
       "  'nuclei': {'data': [dask.array<from-zarr, shape=(5, 8, 128, 128), dtype=int32, chunksize=(1, 8, 128, 128), chunktype=numpy.ndarray>,\n",
       "    dask.array<from-zarr, shape=(5, 4, 64, 64), dtype=int32, chunksize=(1, 4, 64, 64), chunktype=numpy.ndarray>,\n",
       "    dask.array<from-zarr, shape=(5, 2, 32, 32), dtype=int32, chunksize=(1, 2, 32, 32), chunktype=numpy.ndarray>,\n",
       "    dask.array<from-zarr, shape=(5, 1, 16, 16), dtype=int32, chunksize=(1, 1, 16, 16), chunktype=numpy.ndarray>,\n",
       "    dask.array<from-zarr, shape=(5, 1, 8, 8), dtype=int32, chunksize=(1, 1, 8, 8), chunktype=numpy.ndarray>],\n",
       "   'scale': [4.0, 0.692, 0.692],\n",
       "   'color': 'magenta',\n",
       "   'opacity': 0.5}}}"
      ]
     },
     "execution_count": 12,
     "metadata": {},
     "output_type": "execute_result"
    }
   ],
   "source": [
    "zarr_dataset.metadata"
   ]
  },
  {
   "cell_type": "code",
   "execution_count": 13,
   "id": "c4ea6be6-a41f-48e3-b2cb-43172eeefab5",
   "metadata": {},
   "outputs": [],
   "source": [
    "v = zarr_dataset.visualize(stop_level=2, in_memory=True)"
   ]
  },
  {
   "cell_type": "code",
   "execution_count": 14,
   "id": "2e350377-6064-4a78-b961-9ed5991840d8",
   "metadata": {},
   "outputs": [
    {
     "data": {
      "text/plain": [
       "Viewer(camera=Camera(center=(0.0, 43.942, 43.942), zoom=6.435151734104046, angles=(0.0, 0.0, 90.0), perspective=0.0, mouse_pan=True, mouse_zoom=True, orientation=(<DepthAxisOrientation.TOWARDS: 'towards'>, <VerticalAxisOrientation.DOWN: 'down'>, <HorizontalAxisOrientation.RIGHT: 'right'>)), cursor=Cursor(position=(1800.0, 12.0, 0.0, 0.0), viewbox=None, scaled=True, style=<CursorStyle.STANDARD: 'standard'>, size=6.92), dims=Dims(ndim=4, ndisplay=2, order=(0, 1, 2, 3), axis_labels=('0', '1', '2', '3'), rollable=(True, True, True, True), range=(RangeTuple(start=0.0, stop=3600.0, step=900.0), RangeTuple(start=0.0, stop=28.0, step=4.0), RangeTuple(start=0.0, stop=87.884, step=0.692), RangeTuple(start=0.0, stop=87.884, step=0.692)), margin_left=(0.0, 0.0, 0.0, 0.0), margin_right=(0.0, 0.0, 0.0, 0.0), point=(1800.0, 12.0, 43.596, 43.596), last_used=0), grid=GridCanvas(stride=1, shape=(-1, -1), enabled=False, spacing=0.0), layers=[<Image layer 'Hoechst' at 0x21d818db580>, <Image layer 'FM4-64' at 0x21d818db430>, <Labels layer '/labels/nuclei' at 0x21d53cbe290>, <Labels layer '/labels/membranes' at 0x21d86ded690>], help='use <7> for transform, use <1> for activate the label eraser, use <2> for activate the paint brush, use <3> for activate the polygon tool, use <4> for activate the fill bucket, use <5> for pick mode', status='Ready', tooltip=Tooltip(visible=False, text=''), theme='dark', title='napari', mouse_over_canvas=False, mouse_move_callbacks=[], mouse_drag_callbacks=[<function drag_to_zoom at 0x0000021D50745000>], mouse_double_click_callbacks=[<function double_click_to_zoom at 0x0000021D50744550>], mouse_wheel_callbacks=[<function dims_scroll at 0x0000021D50744EE0>], _persisted_mouse_event={}, _mouse_drag_gen={}, _mouse_wheel_gen={}, _keymap={})"
      ]
     },
     "execution_count": 14,
     "metadata": {},
     "output_type": "execute_result"
    }
   ],
   "source": [
    "zarr_dataset.visualize_zarr()"
   ]
  },
  {
   "cell_type": "code",
   "execution_count": null,
   "id": "c4a8c410",
   "metadata": {},
   "outputs": [],
   "source": []
  }
 ],
 "metadata": {
  "kernelspec": {
   "display_name": "pymif",
   "language": "python",
   "name": "python3"
  },
  "language_info": {
   "codemirror_mode": {
    "name": "ipython",
    "version": 3
   },
   "file_extension": ".py",
   "mimetype": "text/x-python",
   "name": "python",
   "nbconvert_exporter": "python",
   "pygments_lexer": "ipython3",
   "version": "3.10.18"
  }
 },
 "nbformat": 4,
 "nbformat_minor": 5
}

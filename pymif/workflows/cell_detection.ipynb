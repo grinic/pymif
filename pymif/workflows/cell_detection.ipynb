{
 "cells": [
  {
   "cell_type": "code",
   "execution_count": null,
   "id": "391babae",
   "metadata": {},
   "outputs": [],
   "source": [
    "import sys, os, glob, tqdm\n",
    "from skimage.io import imread, imsave\n",
    "import numpy as np\n",
    "import napari\n",
    "\n",
    "sys.path.append(os.path.join('C:',os.sep,'Users','Costanzo','Desktop','pymif'))\n",
    "import pymif.image_preprocessing as pmpre\n",
    "import pymif.cell_detection as pmcell\n"
   ]
  },
  {
   "cell_type": "markdown",
   "id": "7487db2a",
   "metadata": {},
   "source": [
    "# Load image"
   ]
  },
  {
   "cell_type": "code",
   "execution_count": null,
   "id": "bc6a97ba",
   "metadata": {},
   "outputs": [],
   "source": [
    "file_name = os.path.join('..','2022-07-19_154438_22x','processed_DAPI',\n",
    "                         '20220719-162746_Task_4_Description_for_C',\n",
    "                         'fused--C00--T00001.tif'\n",
    "#                         'uni_tp-0_ch-1_st-0_obj-right_cam-right_etc.lux.h5'\n",
    "                        )"
   ]
  },
  {
   "cell_type": "code",
   "execution_count": null,
   "id": "2b11cf38",
   "metadata": {},
   "outputs": [],
   "source": [
    "# img = pymif.open_h5(file_name)\n",
    "img = imread(file_name)\n",
    "print(img.shape)"
   ]
  },
  {
   "cell_type": "code",
   "execution_count": null,
   "id": "df2637be",
   "metadata": {},
   "outputs": [],
   "source": [
    "pixel_size = [2., 2*0.2925, 2*0.2925]\n",
    "\n",
    "#desired isotropic resolution in um/pxl\n",
    "iso_res = 1.\n",
    "\n",
    "# size of individual tiles (chunks), better if factor\n",
    "# img = img[1:] # to make shape even (390,2048,2048)\n",
    "chunk_size = (128,512,512)\n",
    "\n",
    "# overlap between neighbor tiles (to avoid edge effects)\n",
    "overlap_width = (8,32,32)"
   ]
  },
  {
   "cell_type": "code",
   "execution_count": null,
   "id": "a35b79ef",
   "metadata": {},
   "outputs": [],
   "source": [
    "img_iso = pmpre.isores_dask(img, pixel_size, iso_res)\n",
    "# print(img_iso.shape)"
   ]
  },
  {
   "cell_type": "code",
   "execution_count": null,
   "id": "61b6cde7",
   "metadata": {},
   "outputs": [],
   "source": [
    "viewer = napari.Viewer()\n",
    "viewer.add_image(img_iso, scale=(1,1,1), name='somitoid')\n",
    "napari.run()"
   ]
  },
  {
   "cell_type": "code",
   "execution_count": null,
   "id": "34cdf43c",
   "metadata": {},
   "outputs": [],
   "source": [
    "# import numpy as np\n",
    "# imsave('iso_res.tif', img_iso.astype(np.uint16))"
   ]
  },
  {
   "cell_type": "markdown",
   "id": "38980e0d",
   "metadata": {},
   "source": [
    "# Find cells"
   ]
  },
  {
   "cell_type": "code",
   "execution_count": null,
   "id": "ca76d609",
   "metadata": {},
   "outputs": [],
   "source": [
    "cell_diameter = [5, 5, 5]\n",
    "img_tophat = pmpre.tophat_cell_dask(img_iso, 2*np.array(cell_diameter))\n",
    "img_dog = pmpre.dog_cell(img_tophat, cell_diameter)"
   ]
  },
  {
   "cell_type": "code",
   "execution_count": null,
   "id": "5283e655",
   "metadata": {},
   "outputs": [],
   "source": [
    "viewer = napari.Viewer()\n",
    "viewer.add_image(img_iso, scale=(1,1,1), name='somitoid')\n",
    "viewer.add_image(img_dog, scale=(1,1,1), name='somitoid_dog')\n",
    "# viewer.add_points(df[['z','y','x']].to_numpy(), name='cells', opacity=0.3, scale=(1,1,1),face_color='red')\n",
    "napari.run()"
   ]
  },
  {
   "cell_type": "code",
   "execution_count": null,
   "id": "cd7f9810",
   "metadata": {},
   "outputs": [],
   "source": [
    "import numpy as np\n",
    "df = pmcell.cell_local_max(img_dog, np.array(cell_diameter)/2., thr_DoG = 10)"
   ]
  },
  {
   "cell_type": "code",
   "execution_count": null,
   "id": "7325fa67",
   "metadata": {},
   "outputs": [],
   "source": [
    "viewer = napari.Viewer()\n",
    "viewer.add_image(img_iso, scale=(1,1,1), name='somitoid')\n",
    "viewer.add_image(img_dog, scale=(1,1,1), name='somitoid_dog')\n",
    "viewer.add_points(df[['z','y','x']].to_numpy(), name='cells', opacity=1., scale=(1,1,1),face_color='red')\n",
    "napari.run()"
   ]
  },
  {
   "cell_type": "code",
   "execution_count": null,
   "id": "f2bd1ef4",
   "metadata": {},
   "outputs": [],
   "source": []
  }
 ],
 "metadata": {
  "kernelspec": {
   "display_name": "Python 3 (ipykernel)",
   "language": "python",
   "name": "python3"
  },
  "language_info": {
   "codemirror_mode": {
    "name": "ipython",
    "version": 3
   },
   "file_extension": ".py",
   "mimetype": "text/x-python",
   "name": "python",
   "nbconvert_exporter": "python",
   "pygments_lexer": "ipython3",
   "version": "3.8.12"
  }
 },
 "nbformat": 4,
 "nbformat_minor": 5
}
